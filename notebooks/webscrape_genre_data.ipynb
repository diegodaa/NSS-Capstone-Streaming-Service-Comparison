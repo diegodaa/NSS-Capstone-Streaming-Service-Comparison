{
 "cells": [
  {
   "cell_type": "code",
   "execution_count": 1,
   "metadata": {},
   "outputs": [],
   "source": [
    "import requests\n",
    "from bs4 import BeautifulSoup\n",
    "import pandas as pd"
   ]
  },
  {
   "cell_type": "code",
   "execution_count": 2,
   "metadata": {},
   "outputs": [],
   "source": [
    "df_reelgood = pd.read_csv('../data/df_combined.csv')"
   ]
  },
  {
   "cell_type": "code",
   "execution_count": 3,
   "metadata": {},
   "outputs": [
    {
     "data": {
      "text/plain": [
       "(21292, 7)"
      ]
     },
     "execution_count": 3,
     "metadata": {},
     "output_type": "execute_result"
    }
   ],
   "source": [
    "df_reelgood.shape"
   ]
  },
  {
   "cell_type": "code",
   "execution_count": 4,
   "metadata": {},
   "outputs": [
    {
     "data": {
      "text/html": [
       "<div>\n",
       "<style scoped>\n",
       "    .dataframe tbody tr th:only-of-type {\n",
       "        vertical-align: middle;\n",
       "    }\n",
       "\n",
       "    .dataframe tbody tr th {\n",
       "        vertical-align: top;\n",
       "    }\n",
       "\n",
       "    .dataframe thead th {\n",
       "        text-align: right;\n",
       "    }\n",
       "</style>\n",
       "<table border=\"1\" class=\"dataframe\">\n",
       "  <thead>\n",
       "    <tr style=\"text-align: right;\">\n",
       "      <th></th>\n",
       "      <th>title</th>\n",
       "      <th>tv</th>\n",
       "      <th>year</th>\n",
       "      <th>rating</th>\n",
       "      <th>score_imdb</th>\n",
       "      <th>score_rotten</th>\n",
       "      <th>available_on</th>\n",
       "    </tr>\n",
       "  </thead>\n",
       "  <tbody>\n",
       "    <tr>\n",
       "      <th>0</th>\n",
       "      <td>Star Wars: A New Hope</td>\n",
       "      <td>NaN</td>\n",
       "      <td>1977</td>\n",
       "      <td>7+</td>\n",
       "      <td>8.6</td>\n",
       "      <td>92%</td>\n",
       "      <td>Disney Plus</td>\n",
       "    </tr>\n",
       "    <tr>\n",
       "      <th>1</th>\n",
       "      <td>Star Wars: The Empire Strikes Back</td>\n",
       "      <td>NaN</td>\n",
       "      <td>1980</td>\n",
       "      <td>7+</td>\n",
       "      <td>8.7</td>\n",
       "      <td>94%</td>\n",
       "      <td>Disney Plus</td>\n",
       "    </tr>\n",
       "    <tr>\n",
       "      <th>2</th>\n",
       "      <td>The Lion King</td>\n",
       "      <td>NaN</td>\n",
       "      <td>1994</td>\n",
       "      <td>all</td>\n",
       "      <td>8.5</td>\n",
       "      <td>93%</td>\n",
       "      <td>Disney Plus</td>\n",
       "    </tr>\n",
       "  </tbody>\n",
       "</table>\n",
       "</div>"
      ],
      "text/plain": [
       "                                title   tv  year rating  score_imdb  \\\n",
       "0               Star Wars: A New Hope  NaN  1977     7+         8.6   \n",
       "1  Star Wars: The Empire Strikes Back  NaN  1980     7+         8.7   \n",
       "2                       The Lion King  NaN  1994    all         8.5   \n",
       "\n",
       "  score_rotten available_on  \n",
       "0          92%  Disney Plus  \n",
       "1          94%  Disney Plus  \n",
       "2          93%  Disney Plus  "
      ]
     },
     "execution_count": 4,
     "metadata": {},
     "output_type": "execute_result"
    }
   ],
   "source": [
    "df_reelgood.head(3)"
   ]
  },
  {
   "cell_type": "code",
   "execution_count": null,
   "metadata": {},
   "outputs": [],
   "source": [
    "url = "
   ]
  }
 ],
 "metadata": {
  "kernelspec": {
   "display_name": "Python 3",
   "language": "python",
   "name": "python3"
  },
  "language_info": {
   "codemirror_mode": {
    "name": "ipython",
    "version": 3
   },
   "file_extension": ".py",
   "mimetype": "text/x-python",
   "name": "python",
   "nbconvert_exporter": "python",
   "pygments_lexer": "ipython3",
   "version": "3.7.6"
  }
 },
 "nbformat": 4,
 "nbformat_minor": 4
}
