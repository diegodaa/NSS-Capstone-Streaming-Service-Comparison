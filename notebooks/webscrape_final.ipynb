{
 "cells": [
  {
   "cell_type": "markdown",
   "metadata": {},
   "source": [
    "# Webscrape Final\n",
    "#### This notebook combines the methods from the prework notebooks to scrape the final data to be used in this project. \n",
    "\n",
    "#### Steps for this are as follows:\n",
    "- export table of listings for each streaming service, including link to more details by show\n",
    "- combine all tables into 1\n",
    "- combine titles available in multiple services in the same row\n",
    "- use link to more details to bring in country and genre data as new columns"
   ]
  },
  {
   "cell_type": "markdown",
   "metadata": {},
   "source": [
    "### Import needed packages"
   ]
  },
  {
   "cell_type": "code",
   "execution_count": 3,
   "metadata": {},
   "outputs": [],
   "source": [
    "import requests\n",
    "from bs4 import BeautifulSoup\n",
    "import pandas as pd\n",
    "import numpy as np\n",
    "import re"
   ]
  },
  {
   "cell_type": "markdown",
   "metadata": {},
   "source": [
    "### Define function to scrape listings"
   ]
  },
  {
   "cell_type": "code",
   "execution_count": 9,
   "metadata": {},
   "outputs": [],
   "source": [
    "# function created in the lists prework notebook.  Edited to bring the link as a new column. \n",
    "def scrape_reelgood(baseurl,service):\n",
    "    '''\n",
    "    Scrapes from reelgood the full list of movies and tv shows for a specified streaming service.\n",
    "    Requires baseurl as 'https://reelgood.com/source/netflix?offset=' \n",
    "    Returns a pandas dataframe with title, year, age rating, imdb score, rotten tomatoes score, what service was searched,\n",
    "    and link to more details for each listing. \n",
    "    '''    \n",
    "    keep_looping = True\n",
    "    offset = 0\n",
    "    df = pd.DataFrame()\n",
    "    base = 'https://reelgood.com'\n",
    "    \n",
    "    while keep_looping == True:\n",
    "        response = requests.get(baseurl+str(offset)) # gets the webpage as response\n",
    "        soup = BeautifulSoup(response.content,'lxml') #turns response into soup\n",
    "        table_list = soup.find_all('table',attrs={'class':'css-1179hly'}) # makes a list of tables. our webpage should only have one\n",
    "        \n",
    "        if len(table_list) == 1: #if 1 table is found, there are still results. execute code\n",
    "            result_list = pd.read_html(str(table_list[0])) #returns a list of dataframes (only 1 found here)\n",
    "            page_df = result_list[0] #returns the table found into a dataframe\n",
    "            \n",
    "            #next lines used to get the links as a column\n",
    "            table_soup = BeautifulSoup(str(table_list[0])) #turns the html for the table into soup\n",
    "            links = table_soup.find_all('a', attrs={'href': re.compile(\"/\")})\n",
    "            links_list = []\n",
    "            for i in range (int(len(links)/2)):\n",
    "                full_url = base+links[2*i]['href']\n",
    "                links_list.append(full_url)\n",
    "            page_df['link'] = links_list\n",
    "            \n",
    "            df = pd.concat([df,page_df], axis=0) #concatenates dataframe for each page with the combined dataframe\n",
    "            offset += 50 #increases this variable, which will be used to get the next page of 50 tv/movie listings\n",
    "        \n",
    "        elif len(table_list) == 0: #if no tables are found, stop loop. \n",
    "            keep_looping = False\n",
    "    \n",
    "    df = df.reset_index(drop=True)\n",
    "    df.columns = ['pic','title','tv','year','rating','score_imdb','score_rotten',str(service),'episodes','track', 'link']\n",
    "    df.iloc[:,7] = 'Yes'\n",
    "    df = df.drop(columns = ['pic','episodes','track'])\n",
    "        \n",
    "    return df"
   ]
  },
  {
   "cell_type": "markdown",
   "metadata": {},
   "source": [
    "### Try it out for Netflix!"
   ]
  },
  {
   "cell_type": "code",
   "execution_count": 10,
   "metadata": {},
   "outputs": [
    {
     "name": "stdout",
     "output_type": "stream",
     "text": [
      "Wall time: 1min 36s\n"
     ]
    }
   ],
   "source": [
    "%%time\n",
    "df_netflix = scrape_reelgood('https://reelgood.com/source/netflix?offset=', 'netflix')"
   ]
  },
  {
   "cell_type": "markdown",
   "metadata": {},
   "source": [
    "### A little eda before running it for all other services"
   ]
  },
  {
   "cell_type": "code",
   "execution_count": 11,
   "metadata": {},
   "outputs": [
    {
     "data": {
      "text/html": [
       "<div>\n",
       "<style scoped>\n",
       "    .dataframe tbody tr th:only-of-type {\n",
       "        vertical-align: middle;\n",
       "    }\n",
       "\n",
       "    .dataframe tbody tr th {\n",
       "        vertical-align: top;\n",
       "    }\n",
       "\n",
       "    .dataframe thead th {\n",
       "        text-align: right;\n",
       "    }\n",
       "</style>\n",
       "<table border=\"1\" class=\"dataframe\">\n",
       "  <thead>\n",
       "    <tr style=\"text-align: right;\">\n",
       "      <th></th>\n",
       "      <th>title</th>\n",
       "      <th>tv</th>\n",
       "      <th>year</th>\n",
       "      <th>rating</th>\n",
       "      <th>score_imdb</th>\n",
       "      <th>score_rotten</th>\n",
       "      <th>netflix</th>\n",
       "      <th>link</th>\n",
       "    </tr>\n",
       "  </thead>\n",
       "  <tbody>\n",
       "    <tr>\n",
       "      <th>0</th>\n",
       "      <td>Breaking Bad</td>\n",
       "      <td>TV</td>\n",
       "      <td>2008</td>\n",
       "      <td>18+</td>\n",
       "      <td>9.5</td>\n",
       "      <td>96%</td>\n",
       "      <td>Yes</td>\n",
       "      <td>https://reelgood.com/show/breaking-bad-2008</td>\n",
       "    </tr>\n",
       "    <tr>\n",
       "      <th>1</th>\n",
       "      <td>Inception</td>\n",
       "      <td>NaN</td>\n",
       "      <td>2010</td>\n",
       "      <td>13+</td>\n",
       "      <td>8.8</td>\n",
       "      <td>87%</td>\n",
       "      <td>Yes</td>\n",
       "      <td>https://reelgood.com/movie/inception-2010</td>\n",
       "    </tr>\n",
       "    <tr>\n",
       "      <th>2</th>\n",
       "      <td>Back to the Future</td>\n",
       "      <td>NaN</td>\n",
       "      <td>1985</td>\n",
       "      <td>7+</td>\n",
       "      <td>8.5</td>\n",
       "      <td>96%</td>\n",
       "      <td>Yes</td>\n",
       "      <td>https://reelgood.com/movie/back-to-the-future-...</td>\n",
       "    </tr>\n",
       "    <tr>\n",
       "      <th>3</th>\n",
       "      <td>The Matrix</td>\n",
       "      <td>NaN</td>\n",
       "      <td>1999</td>\n",
       "      <td>18+</td>\n",
       "      <td>8.7</td>\n",
       "      <td>88%</td>\n",
       "      <td>Yes</td>\n",
       "      <td>https://reelgood.com/movie/the-matrix-1999</td>\n",
       "    </tr>\n",
       "    <tr>\n",
       "      <th>4</th>\n",
       "      <td>Stranger Things</td>\n",
       "      <td>TV</td>\n",
       "      <td>2016</td>\n",
       "      <td>16+</td>\n",
       "      <td>8.8</td>\n",
       "      <td>93%</td>\n",
       "      <td>Yes</td>\n",
       "      <td>https://reelgood.com/show/stranger-things-2016</td>\n",
       "    </tr>\n",
       "  </tbody>\n",
       "</table>\n",
       "</div>"
      ],
      "text/plain": [
       "                title   tv  year rating  score_imdb score_rotten netflix  \\\n",
       "0        Breaking Bad   TV  2008    18+         9.5          96%     Yes   \n",
       "1           Inception  NaN  2010    13+         8.8          87%     Yes   \n",
       "2  Back to the Future  NaN  1985     7+         8.5          96%     Yes   \n",
       "3          The Matrix  NaN  1999    18+         8.7          88%     Yes   \n",
       "4     Stranger Things   TV  2016    16+         8.8          93%     Yes   \n",
       "\n",
       "                                                link  \n",
       "0        https://reelgood.com/show/breaking-bad-2008  \n",
       "1          https://reelgood.com/movie/inception-2010  \n",
       "2  https://reelgood.com/movie/back-to-the-future-...  \n",
       "3         https://reelgood.com/movie/the-matrix-1999  \n",
       "4     https://reelgood.com/show/stranger-things-2016  "
      ]
     },
     "execution_count": 11,
     "metadata": {},
     "output_type": "execute_result"
    }
   ],
   "source": [
    "df_netflix.head()"
   ]
  },
  {
   "cell_type": "code",
   "execution_count": 12,
   "metadata": {},
   "outputs": [
    {
     "data": {
      "text/html": [
       "<div>\n",
       "<style scoped>\n",
       "    .dataframe tbody tr th:only-of-type {\n",
       "        vertical-align: middle;\n",
       "    }\n",
       "\n",
       "    .dataframe tbody tr th {\n",
       "        vertical-align: top;\n",
       "    }\n",
       "\n",
       "    .dataframe thead th {\n",
       "        text-align: right;\n",
       "    }\n",
       "</style>\n",
       "<table border=\"1\" class=\"dataframe\">\n",
       "  <thead>\n",
       "    <tr style=\"text-align: right;\">\n",
       "      <th></th>\n",
       "      <th>title</th>\n",
       "      <th>tv</th>\n",
       "      <th>year</th>\n",
       "      <th>rating</th>\n",
       "      <th>score_imdb</th>\n",
       "      <th>score_rotten</th>\n",
       "      <th>netflix</th>\n",
       "      <th>link</th>\n",
       "    </tr>\n",
       "  </thead>\n",
       "  <tbody>\n",
       "    <tr>\n",
       "      <th>5779</th>\n",
       "      <td>Shikari</td>\n",
       "      <td>NaN</td>\n",
       "      <td>1991</td>\n",
       "      <td>NaN</td>\n",
       "      <td>NaN</td>\n",
       "      <td>NaN</td>\n",
       "      <td>Yes</td>\n",
       "      <td>https://reelgood.com/movie/shikari-1991</td>\n",
       "    </tr>\n",
       "    <tr>\n",
       "      <th>5780</th>\n",
       "      <td>Love Family</td>\n",
       "      <td>TV</td>\n",
       "      <td>2013</td>\n",
       "      <td>NaN</td>\n",
       "      <td>NaN</td>\n",
       "      <td>NaN</td>\n",
       "      <td>Yes</td>\n",
       "      <td>https://reelgood.com/show/love-family-2013</td>\n",
       "    </tr>\n",
       "    <tr>\n",
       "      <th>5781</th>\n",
       "      <td>The Show</td>\n",
       "      <td>NaN</td>\n",
       "      <td>2017</td>\n",
       "      <td>NaN</td>\n",
       "      <td>NaN</td>\n",
       "      <td>NaN</td>\n",
       "      <td>Yes</td>\n",
       "      <td>https://reelgood.com/movie/the-show-2017</td>\n",
       "    </tr>\n",
       "    <tr>\n",
       "      <th>5782</th>\n",
       "      <td>The Stolen</td>\n",
       "      <td>NaN</td>\n",
       "      <td>2017</td>\n",
       "      <td>NaN</td>\n",
       "      <td>5.2</td>\n",
       "      <td>NaN</td>\n",
       "      <td>Yes</td>\n",
       "      <td>https://reelgood.com/movie/the-stolen-2017</td>\n",
       "    </tr>\n",
       "    <tr>\n",
       "      <th>5783</th>\n",
       "      <td>Bal Ganesh</td>\n",
       "      <td>TV</td>\n",
       "      <td>2012</td>\n",
       "      <td>NaN</td>\n",
       "      <td>NaN</td>\n",
       "      <td>NaN</td>\n",
       "      <td>Yes</td>\n",
       "      <td>https://reelgood.com/show/bal-ganesh-2012</td>\n",
       "    </tr>\n",
       "  </tbody>\n",
       "</table>\n",
       "</div>"
      ],
      "text/plain": [
       "            title   tv  year rating  score_imdb score_rotten netflix  \\\n",
       "5779      Shikari  NaN  1991    NaN         NaN          NaN     Yes   \n",
       "5780  Love Family   TV  2013    NaN         NaN          NaN     Yes   \n",
       "5781     The Show  NaN  2017    NaN         NaN          NaN     Yes   \n",
       "5782   The Stolen  NaN  2017    NaN         5.2          NaN     Yes   \n",
       "5783   Bal Ganesh   TV  2012    NaN         NaN          NaN     Yes   \n",
       "\n",
       "                                            link  \n",
       "5779     https://reelgood.com/movie/shikari-1991  \n",
       "5780  https://reelgood.com/show/love-family-2013  \n",
       "5781    https://reelgood.com/movie/the-show-2017  \n",
       "5782  https://reelgood.com/movie/the-stolen-2017  \n",
       "5783   https://reelgood.com/show/bal-ganesh-2012  "
      ]
     },
     "execution_count": 12,
     "metadata": {},
     "output_type": "execute_result"
    }
   ],
   "source": [
    "df_netflix.tail()"
   ]
  },
  {
   "cell_type": "code",
   "execution_count": 14,
   "metadata": {},
   "outputs": [
    {
     "name": "stdout",
     "output_type": "stream",
     "text": [
      "<class 'pandas.core.frame.DataFrame'>\n",
      "RangeIndex: 5784 entries, 0 to 5783\n",
      "Data columns (total 8 columns):\n",
      " #   Column        Non-Null Count  Dtype  \n",
      "---  ------        --------------  -----  \n",
      " 0   title         5784 non-null   object \n",
      " 1   tv            2036 non-null   object \n",
      " 2   year          5784 non-null   int64  \n",
      " 3   rating        2988 non-null   object \n",
      " 4   score_imdb    5530 non-null   float64\n",
      " 5   score_rotten  1906 non-null   object \n",
      " 6   netflix       5784 non-null   object \n",
      " 7   link          5784 non-null   object \n",
      "dtypes: float64(1), int64(1), object(6)\n",
      "memory usage: 361.6+ KB\n"
     ]
    }
   ],
   "source": [
    "df_netflix.info()"
   ]
  },
  {
   "cell_type": "markdown",
   "metadata": {},
   "source": [
    "### Looks good at first glance, let's run this for all services"
   ]
  },
  {
   "cell_type": "code",
   "execution_count": 15,
   "metadata": {},
   "outputs": [
    {
     "name": "stdout",
     "output_type": "stream",
     "text": [
      "Wall time: 5min 38s\n"
     ]
    }
   ],
   "source": [
    "%%time\n",
    "df_prime = scrape_reelgood('https://reelgood.com/source/amazon?offset=', 'Prime Video')"
   ]
  },
  {
   "cell_type": "code",
   "execution_count": 16,
   "metadata": {},
   "outputs": [
    {
     "name": "stdout",
     "output_type": "stream",
     "text": [
      "(15488, 8)\n"
     ]
    },
    {
     "data": {
      "text/html": [
       "<div>\n",
       "<style scoped>\n",
       "    .dataframe tbody tr th:only-of-type {\n",
       "        vertical-align: middle;\n",
       "    }\n",
       "\n",
       "    .dataframe tbody tr th {\n",
       "        vertical-align: top;\n",
       "    }\n",
       "\n",
       "    .dataframe thead th {\n",
       "        text-align: right;\n",
       "    }\n",
       "</style>\n",
       "<table border=\"1\" class=\"dataframe\">\n",
       "  <thead>\n",
       "    <tr style=\"text-align: right;\">\n",
       "      <th></th>\n",
       "      <th>title</th>\n",
       "      <th>tv</th>\n",
       "      <th>year</th>\n",
       "      <th>rating</th>\n",
       "      <th>score_imdb</th>\n",
       "      <th>score_rotten</th>\n",
       "      <th>Prime Video</th>\n",
       "      <th>link</th>\n",
       "    </tr>\n",
       "  </thead>\n",
       "  <tbody>\n",
       "    <tr>\n",
       "      <th>15483</th>\n",
       "      <td>A Place to Stand</td>\n",
       "      <td>NaN</td>\n",
       "      <td>2015</td>\n",
       "      <td>NaN</td>\n",
       "      <td>8.1</td>\n",
       "      <td>NaN</td>\n",
       "      <td>Yes</td>\n",
       "      <td>https://reelgood.com/movie/a-place-to-stand-2015</td>\n",
       "    </tr>\n",
       "    <tr>\n",
       "      <th>15484</th>\n",
       "      <td>The Cure</td>\n",
       "      <td>NaN</td>\n",
       "      <td>2019</td>\n",
       "      <td>NaN</td>\n",
       "      <td>7.2</td>\n",
       "      <td>NaN</td>\n",
       "      <td>Yes</td>\n",
       "      <td>https://reelgood.com/movie/the-cure-2019</td>\n",
       "    </tr>\n",
       "    <tr>\n",
       "      <th>15485</th>\n",
       "      <td>Fine Lines</td>\n",
       "      <td>NaN</td>\n",
       "      <td>2019</td>\n",
       "      <td>7+</td>\n",
       "      <td>7.3</td>\n",
       "      <td>NaN</td>\n",
       "      <td>Yes</td>\n",
       "      <td>https://reelgood.com/movie/fine-lines-2019</td>\n",
       "    </tr>\n",
       "    <tr>\n",
       "      <th>15486</th>\n",
       "      <td>World's Best Beaches</td>\n",
       "      <td>TV</td>\n",
       "      <td>2016</td>\n",
       "      <td>NaN</td>\n",
       "      <td>NaN</td>\n",
       "      <td>NaN</td>\n",
       "      <td>Yes</td>\n",
       "      <td>https://reelgood.com/show/worlds-best-beaches-...</td>\n",
       "    </tr>\n",
       "    <tr>\n",
       "      <th>15487</th>\n",
       "      <td>Kayak to Klemtu</td>\n",
       "      <td>NaN</td>\n",
       "      <td>2018</td>\n",
       "      <td>NaN</td>\n",
       "      <td>6.3</td>\n",
       "      <td>NaN</td>\n",
       "      <td>Yes</td>\n",
       "      <td>https://reelgood.com/movie/kayak-to-klemtu-2018</td>\n",
       "    </tr>\n",
       "  </tbody>\n",
       "</table>\n",
       "</div>"
      ],
      "text/plain": [
       "                      title   tv  year rating  score_imdb score_rotten  \\\n",
       "15483      A Place to Stand  NaN  2015    NaN         8.1          NaN   \n",
       "15484              The Cure  NaN  2019    NaN         7.2          NaN   \n",
       "15485            Fine Lines  NaN  2019     7+         7.3          NaN   \n",
       "15486  World's Best Beaches   TV  2016    NaN         NaN          NaN   \n",
       "15487       Kayak to Klemtu  NaN  2018    NaN         6.3          NaN   \n",
       "\n",
       "      Prime Video                                               link  \n",
       "15483         Yes   https://reelgood.com/movie/a-place-to-stand-2015  \n",
       "15484         Yes           https://reelgood.com/movie/the-cure-2019  \n",
       "15485         Yes         https://reelgood.com/movie/fine-lines-2019  \n",
       "15486         Yes  https://reelgood.com/show/worlds-best-beaches-...  \n",
       "15487         Yes    https://reelgood.com/movie/kayak-to-klemtu-2018  "
      ]
     },
     "execution_count": 16,
     "metadata": {},
     "output_type": "execute_result"
    }
   ],
   "source": [
    "print(df_prime.shape)\n",
    "df_prime.tail()"
   ]
  },
  {
   "cell_type": "code",
   "execution_count": 17,
   "metadata": {},
   "outputs": [
    {
     "name": "stdout",
     "output_type": "stream",
     "text": [
      "Wall time: 46.4 s\n"
     ]
    }
   ],
   "source": [
    "%%time\n",
    "df_hulu = scrape_reelgood('https://reelgood.com/source/hulu?offset=', 'Hulu')"
   ]
  },
  {
   "cell_type": "code",
   "execution_count": 18,
   "metadata": {},
   "outputs": [
    {
     "name": "stdout",
     "output_type": "stream",
     "text": [
      "(2806, 8)\n"
     ]
    },
    {
     "data": {
      "text/html": [
       "<div>\n",
       "<style scoped>\n",
       "    .dataframe tbody tr th:only-of-type {\n",
       "        vertical-align: middle;\n",
       "    }\n",
       "\n",
       "    .dataframe tbody tr th {\n",
       "        vertical-align: top;\n",
       "    }\n",
       "\n",
       "    .dataframe thead th {\n",
       "        text-align: right;\n",
       "    }\n",
       "</style>\n",
       "<table border=\"1\" class=\"dataframe\">\n",
       "  <thead>\n",
       "    <tr style=\"text-align: right;\">\n",
       "      <th></th>\n",
       "      <th>title</th>\n",
       "      <th>tv</th>\n",
       "      <th>year</th>\n",
       "      <th>rating</th>\n",
       "      <th>score_imdb</th>\n",
       "      <th>score_rotten</th>\n",
       "      <th>Hulu</th>\n",
       "      <th>link</th>\n",
       "    </tr>\n",
       "  </thead>\n",
       "  <tbody>\n",
       "    <tr>\n",
       "      <th>2801</th>\n",
       "      <td>pocket.watch JillianTubeHD Ultimate mishmash</td>\n",
       "      <td>TV</td>\n",
       "      <td>2018</td>\n",
       "      <td>NaN</td>\n",
       "      <td>NaN</td>\n",
       "      <td>NaN</td>\n",
       "      <td>Yes</td>\n",
       "      <td>https://reelgood.com/show/pocketwatch-jilliant...</td>\n",
       "    </tr>\n",
       "    <tr>\n",
       "      <th>2802</th>\n",
       "      <td>Gen H</td>\n",
       "      <td>TV</td>\n",
       "      <td>2012</td>\n",
       "      <td>NaN</td>\n",
       "      <td>NaN</td>\n",
       "      <td>NaN</td>\n",
       "      <td>Yes</td>\n",
       "      <td>https://reelgood.com/show/gen-h-2012</td>\n",
       "    </tr>\n",
       "    <tr>\n",
       "      <th>2803</th>\n",
       "      <td>Crime Shock: Asia Exposed</td>\n",
       "      <td>TV</td>\n",
       "      <td>2013</td>\n",
       "      <td>NaN</td>\n",
       "      <td>NaN</td>\n",
       "      <td>NaN</td>\n",
       "      <td>Yes</td>\n",
       "      <td>https://reelgood.com/show/crime-shock-asia-exp...</td>\n",
       "    </tr>\n",
       "    <tr>\n",
       "      <th>2804</th>\n",
       "      <td>Walter and Dude</td>\n",
       "      <td>TV</td>\n",
       "      <td>2012</td>\n",
       "      <td>NaN</td>\n",
       "      <td>NaN</td>\n",
       "      <td>NaN</td>\n",
       "      <td>Yes</td>\n",
       "      <td>https://reelgood.com/show/walter-and-dude-2012</td>\n",
       "    </tr>\n",
       "    <tr>\n",
       "      <th>2805</th>\n",
       "      <td>Revolt</td>\n",
       "      <td>TV</td>\n",
       "      <td>2017</td>\n",
       "      <td>NaN</td>\n",
       "      <td>NaN</td>\n",
       "      <td>NaN</td>\n",
       "      <td>Yes</td>\n",
       "      <td>https://reelgood.com/show/revolt-2017</td>\n",
       "    </tr>\n",
       "  </tbody>\n",
       "</table>\n",
       "</div>"
      ],
      "text/plain": [
       "                                             title  tv  year rating  \\\n",
       "2801  pocket.watch JillianTubeHD Ultimate mishmash  TV  2018    NaN   \n",
       "2802                                         Gen H  TV  2012    NaN   \n",
       "2803                     Crime Shock: Asia Exposed  TV  2013    NaN   \n",
       "2804                               Walter and Dude  TV  2012    NaN   \n",
       "2805                                        Revolt  TV  2017    NaN   \n",
       "\n",
       "      score_imdb score_rotten Hulu  \\\n",
       "2801         NaN          NaN  Yes   \n",
       "2802         NaN          NaN  Yes   \n",
       "2803         NaN          NaN  Yes   \n",
       "2804         NaN          NaN  Yes   \n",
       "2805         NaN          NaN  Yes   \n",
       "\n",
       "                                                   link  \n",
       "2801  https://reelgood.com/show/pocketwatch-jilliant...  \n",
       "2802               https://reelgood.com/show/gen-h-2012  \n",
       "2803  https://reelgood.com/show/crime-shock-asia-exp...  \n",
       "2804     https://reelgood.com/show/walter-and-dude-2012  \n",
       "2805              https://reelgood.com/show/revolt-2017  "
      ]
     },
     "execution_count": 18,
     "metadata": {},
     "output_type": "execute_result"
    }
   ],
   "source": [
    "print(df_hulu.shape)\n",
    "df_hulu.tail()"
   ]
  },
  {
   "cell_type": "code",
   "execution_count": 19,
   "metadata": {},
   "outputs": [],
   "source": [
    "df_disney = scrape_reelgood('https://reelgood.com/source/disney_plus?offset=', 'Disney+')"
   ]
  },
  {
   "cell_type": "code",
   "execution_count": 21,
   "metadata": {},
   "outputs": [
    {
     "name": "stdout",
     "output_type": "stream",
     "text": [
      "(803, 8)\n"
     ]
    },
    {
     "data": {
      "text/html": [
       "<div>\n",
       "<style scoped>\n",
       "    .dataframe tbody tr th:only-of-type {\n",
       "        vertical-align: middle;\n",
       "    }\n",
       "\n",
       "    .dataframe tbody tr th {\n",
       "        vertical-align: top;\n",
       "    }\n",
       "\n",
       "    .dataframe thead th {\n",
       "        text-align: right;\n",
       "    }\n",
       "</style>\n",
       "<table border=\"1\" class=\"dataframe\">\n",
       "  <thead>\n",
       "    <tr style=\"text-align: right;\">\n",
       "      <th></th>\n",
       "      <th>title</th>\n",
       "      <th>tv</th>\n",
       "      <th>year</th>\n",
       "      <th>rating</th>\n",
       "      <th>score_imdb</th>\n",
       "      <th>score_rotten</th>\n",
       "      <th>Disney+</th>\n",
       "      <th>link</th>\n",
       "    </tr>\n",
       "  </thead>\n",
       "  <tbody>\n",
       "    <tr>\n",
       "      <th>0</th>\n",
       "      <td>Star Wars: A New Hope</td>\n",
       "      <td>NaN</td>\n",
       "      <td>1977</td>\n",
       "      <td>7+</td>\n",
       "      <td>8.6</td>\n",
       "      <td>92%</td>\n",
       "      <td>Yes</td>\n",
       "      <td>https://reelgood.com/movie/star-wars-1977</td>\n",
       "    </tr>\n",
       "    <tr>\n",
       "      <th>1</th>\n",
       "      <td>Star Wars: The Empire Strikes Back</td>\n",
       "      <td>NaN</td>\n",
       "      <td>1980</td>\n",
       "      <td>7+</td>\n",
       "      <td>8.7</td>\n",
       "      <td>94%</td>\n",
       "      <td>Yes</td>\n",
       "      <td>https://reelgood.com/movie/the-empire-strikes-...</td>\n",
       "    </tr>\n",
       "    <tr>\n",
       "      <th>2</th>\n",
       "      <td>The Lion King</td>\n",
       "      <td>NaN</td>\n",
       "      <td>1994</td>\n",
       "      <td>all</td>\n",
       "      <td>8.5</td>\n",
       "      <td>93%</td>\n",
       "      <td>Yes</td>\n",
       "      <td>https://reelgood.com/movie/the-lion-king-1994</td>\n",
       "    </tr>\n",
       "    <tr>\n",
       "      <th>3</th>\n",
       "      <td>The Avengers</td>\n",
       "      <td>NaN</td>\n",
       "      <td>2012</td>\n",
       "      <td>13+</td>\n",
       "      <td>8.0</td>\n",
       "      <td>92%</td>\n",
       "      <td>Yes</td>\n",
       "      <td>https://reelgood.com/movie/the-avengers-2012</td>\n",
       "    </tr>\n",
       "    <tr>\n",
       "      <th>4</th>\n",
       "      <td>Toy Story</td>\n",
       "      <td>NaN</td>\n",
       "      <td>1995</td>\n",
       "      <td>all</td>\n",
       "      <td>8.3</td>\n",
       "      <td>100%</td>\n",
       "      <td>Yes</td>\n",
       "      <td>https://reelgood.com/movie/toy-story-1995</td>\n",
       "    </tr>\n",
       "  </tbody>\n",
       "</table>\n",
       "</div>"
      ],
      "text/plain": [
       "                                title   tv  year rating  score_imdb  \\\n",
       "0               Star Wars: A New Hope  NaN  1977     7+         8.6   \n",
       "1  Star Wars: The Empire Strikes Back  NaN  1980     7+         8.7   \n",
       "2                       The Lion King  NaN  1994    all         8.5   \n",
       "3                        The Avengers  NaN  2012    13+         8.0   \n",
       "4                           Toy Story  NaN  1995    all         8.3   \n",
       "\n",
       "  score_rotten Disney+                                               link  \n",
       "0          92%     Yes          https://reelgood.com/movie/star-wars-1977  \n",
       "1          94%     Yes  https://reelgood.com/movie/the-empire-strikes-...  \n",
       "2          93%     Yes      https://reelgood.com/movie/the-lion-king-1994  \n",
       "3          92%     Yes       https://reelgood.com/movie/the-avengers-2012  \n",
       "4         100%     Yes          https://reelgood.com/movie/toy-story-1995  "
      ]
     },
     "execution_count": 21,
     "metadata": {},
     "output_type": "execute_result"
    }
   ],
   "source": [
    "print(df_disney.shape)\n",
    "df_disney.head()"
   ]
  },
  {
   "cell_type": "code",
   "execution_count": 22,
   "metadata": {},
   "outputs": [
    {
     "name": "stdout",
     "output_type": "stream",
     "text": [
      "Wall time: 31.3 s\n"
     ]
    }
   ],
   "source": [
    "%%time\n",
    "df_hbomax = scrape_reelgood('https://reelgood.com/source/hbo_max?offset=', 'HBO Max')"
   ]
  },
  {
   "cell_type": "code",
   "execution_count": 23,
   "metadata": {},
   "outputs": [
    {
     "name": "stdout",
     "output_type": "stream",
     "text": [
      "(2016, 8)\n"
     ]
    },
    {
     "data": {
      "text/html": [
       "<div>\n",
       "<style scoped>\n",
       "    .dataframe tbody tr th:only-of-type {\n",
       "        vertical-align: middle;\n",
       "    }\n",
       "\n",
       "    .dataframe tbody tr th {\n",
       "        vertical-align: top;\n",
       "    }\n",
       "\n",
       "    .dataframe thead th {\n",
       "        text-align: right;\n",
       "    }\n",
       "</style>\n",
       "<table border=\"1\" class=\"dataframe\">\n",
       "  <thead>\n",
       "    <tr style=\"text-align: right;\">\n",
       "      <th></th>\n",
       "      <th>title</th>\n",
       "      <th>tv</th>\n",
       "      <th>year</th>\n",
       "      <th>rating</th>\n",
       "      <th>score_imdb</th>\n",
       "      <th>score_rotten</th>\n",
       "      <th>HBO Max</th>\n",
       "      <th>link</th>\n",
       "    </tr>\n",
       "  </thead>\n",
       "  <tbody>\n",
       "    <tr>\n",
       "      <th>2011</th>\n",
       "      <td>What Animals See</td>\n",
       "      <td>NaN</td>\n",
       "      <td>2018</td>\n",
       "      <td>NaN</td>\n",
       "      <td>NaN</td>\n",
       "      <td>NaN</td>\n",
       "      <td>Yes</td>\n",
       "      <td>https://reelgood.com/movie/what-animals-see-2018</td>\n",
       "    </tr>\n",
       "    <tr>\n",
       "      <th>2012</th>\n",
       "      <td>The Moon's Spell On The Great Barrier Reef</td>\n",
       "      <td>NaN</td>\n",
       "      <td>2014</td>\n",
       "      <td>NaN</td>\n",
       "      <td>NaN</td>\n",
       "      <td>NaN</td>\n",
       "      <td>Yes</td>\n",
       "      <td>https://reelgood.com/movie/the-moons-spell-on-...</td>\n",
       "    </tr>\n",
       "    <tr>\n",
       "      <th>2013</th>\n",
       "      <td>Mandrake Telefilm: Part 1</td>\n",
       "      <td>NaN</td>\n",
       "      <td>2013</td>\n",
       "      <td>NaN</td>\n",
       "      <td>NaN</td>\n",
       "      <td>NaN</td>\n",
       "      <td>Yes</td>\n",
       "      <td>https://reelgood.com/movie/mandrake-telefilm-p...</td>\n",
       "    </tr>\n",
       "    <tr>\n",
       "      <th>2014</th>\n",
       "      <td>The Hunt for the Slave Ship Guerrero</td>\n",
       "      <td>NaN</td>\n",
       "      <td>2018</td>\n",
       "      <td>NaN</td>\n",
       "      <td>NaN</td>\n",
       "      <td>NaN</td>\n",
       "      <td>Yes</td>\n",
       "      <td>https://reelgood.com/movie/the-hunt-for-the-sl...</td>\n",
       "    </tr>\n",
       "    <tr>\n",
       "      <th>2015</th>\n",
       "      <td>The Rise &amp; Fall Of T-Rex</td>\n",
       "      <td>NaN</td>\n",
       "      <td>2015</td>\n",
       "      <td>NaN</td>\n",
       "      <td>NaN</td>\n",
       "      <td>NaN</td>\n",
       "      <td>Yes</td>\n",
       "      <td>https://reelgood.com/movie/the-rise-fall-of-tr...</td>\n",
       "    </tr>\n",
       "  </tbody>\n",
       "</table>\n",
       "</div>"
      ],
      "text/plain": [
       "                                           title   tv  year rating  \\\n",
       "2011                            What Animals See  NaN  2018    NaN   \n",
       "2012  The Moon's Spell On The Great Barrier Reef  NaN  2014    NaN   \n",
       "2013                   Mandrake Telefilm: Part 1  NaN  2013    NaN   \n",
       "2014        The Hunt for the Slave Ship Guerrero  NaN  2018    NaN   \n",
       "2015                    The Rise & Fall Of T-Rex  NaN  2015    NaN   \n",
       "\n",
       "      score_imdb score_rotten HBO Max  \\\n",
       "2011         NaN          NaN     Yes   \n",
       "2012         NaN          NaN     Yes   \n",
       "2013         NaN          NaN     Yes   \n",
       "2014         NaN          NaN     Yes   \n",
       "2015         NaN          NaN     Yes   \n",
       "\n",
       "                                                   link  \n",
       "2011   https://reelgood.com/movie/what-animals-see-2018  \n",
       "2012  https://reelgood.com/movie/the-moons-spell-on-...  \n",
       "2013  https://reelgood.com/movie/mandrake-telefilm-p...  \n",
       "2014  https://reelgood.com/movie/the-hunt-for-the-sl...  \n",
       "2015  https://reelgood.com/movie/the-rise-fall-of-tr...  "
      ]
     },
     "execution_count": 23,
     "metadata": {},
     "output_type": "execute_result"
    }
   ],
   "source": [
    "print(df_hbomax.shape)\n",
    "df_hbomax.tail()"
   ]
  },
  {
   "cell_type": "markdown",
   "metadata": {},
   "source": [
    "### Exporting the individual dataframes, for our records."
   ]
  },
  {
   "cell_type": "code",
   "execution_count": 24,
   "metadata": {},
   "outputs": [],
   "source": [
    "df_netflix.to_csv('../data/df_netflix.csv',index = False)\n",
    "df_prime.to_csv('../data/df_prime.csv',index = False)\n",
    "df_hulu.to_csv('../data/df_hulu.csv',index = False)\n",
    "df_disney.to_csv('../data/df_disney.csv',index = False)\n",
    "df_hbomax.to_csv('../data/df_hbomax.csv',index = False)"
   ]
  },
  {
   "cell_type": "code",
   "execution_count": null,
   "metadata": {},
   "outputs": [],
   "source": []
  }
 ],
 "metadata": {
  "kernelspec": {
   "display_name": "Python 3",
   "language": "python",
   "name": "python3"
  },
  "language_info": {
   "codemirror_mode": {
    "name": "ipython",
    "version": 3
   },
   "file_extension": ".py",
   "mimetype": "text/x-python",
   "name": "python",
   "nbconvert_exporter": "python",
   "pygments_lexer": "ipython3",
   "version": "3.7.6"
  }
 },
 "nbformat": 4,
 "nbformat_minor": 4
}
