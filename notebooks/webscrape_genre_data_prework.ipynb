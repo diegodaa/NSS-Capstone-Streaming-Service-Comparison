{
 "cells": [
  {
   "cell_type": "markdown",
   "metadata": {},
   "source": [
    "# Webscraping genre data - prework\n",
    "This notebook was used to figure out the method for scraping genre data. Approach is the following:\n",
    "\n",
    "- test using 1 page of netflix data\n",
    "- find and add url to more details as a column\n",
    "- use url in dataframe to scrape genre data, and add as another column\n",
    "\n",
    "If method works, a new concise notebook created to scrape for all titles. "
   ]
  },
  {
   "cell_type": "code",
   "execution_count": 7,
   "metadata": {},
   "outputs": [],
   "source": [
    "import requests\n",
    "from bs4 import BeautifulSoup\n",
    "import pandas as pd\n",
    "import re"
   ]
  },
  {
   "cell_type": "markdown",
   "metadata": {},
   "source": [
    "### Test getting the URL for one page"
   ]
  },
  {
   "cell_type": "code",
   "execution_count": 10,
   "metadata": {},
   "outputs": [
    {
     "data": {
      "text/plain": [
       "200"
      ]
     },
     "execution_count": 10,
     "metadata": {},
     "output_type": "execute_result"
    }
   ],
   "source": [
    "baseurl = 'https://reelgood.com/source/netflix?offset=0'\n",
    "response = requests.get(baseurl)\n",
    "response.status_code"
   ]
  },
  {
   "cell_type": "code",
   "execution_count": 11,
   "metadata": {},
   "outputs": [
    {
     "data": {
      "text/html": [
       "<div>\n",
       "<style scoped>\n",
       "    .dataframe tbody tr th:only-of-type {\n",
       "        vertical-align: middle;\n",
       "    }\n",
       "\n",
       "    .dataframe tbody tr th {\n",
       "        vertical-align: top;\n",
       "    }\n",
       "\n",
       "    .dataframe thead th {\n",
       "        text-align: right;\n",
       "    }\n",
       "</style>\n",
       "<table border=\"1\" class=\"dataframe\">\n",
       "  <thead>\n",
       "    <tr style=\"text-align: right;\">\n",
       "      <th></th>\n",
       "      <th>Unnamed: 0</th>\n",
       "      <th>.css-1cxgkif{color:inherit;}.css-1cxgkif:hover{color:white;}Title.css-1thuphj{width:12px;margin-left:5px;}</th>\n",
       "      <th>Unnamed: 2</th>\n",
       "      <th>Year</th>\n",
       "      <th>Rating</th>\n",
       "      <th>.css-pp4al6{height:14px;margin-right:1px;margin-bottom:-2px;opacity:0.85;}.css-pp4al6:hover{opacity:1;}</th>\n",
       "      <th>.css-2goa6a{height:18px;margin-bottom:-2px;opacity:0.85;}.css-2goa6a:hover{opacity:1;}</th>\n",
       "      <th>Available On</th>\n",
       "      <th>Unnamed: 8</th>\n",
       "      <th>Unnamed: 9</th>\n",
       "    </tr>\n",
       "  </thead>\n",
       "  <tbody>\n",
       "    <tr>\n",
       "      <th>0</th>\n",
       "      <td>.css-1s3a0kl{position:static;width:51px;min-wi...</td>\n",
       "      <td>Breaking Bad</td>\n",
       "      <td>TV</td>\n",
       "      <td>2008</td>\n",
       "      <td>18+</td>\n",
       "      <td>9.5</td>\n",
       "      <td>96%</td>\n",
       "      <td>.css-1uvh71f{display:inline-block;margin:2px 0...</td>\n",
       "      <td>62 Free Episodes</td>\n",
       "      <td>.css-1bnyegh{display:-webkit-box;display:-webk...</td>\n",
       "    </tr>\n",
       "    <tr>\n",
       "      <th>1</th>\n",
       "      <td>NaN</td>\n",
       "      <td>Inception</td>\n",
       "      <td>NaN</td>\n",
       "      <td>2010</td>\n",
       "      <td>13+</td>\n",
       "      <td>8.8</td>\n",
       "      <td>87%</td>\n",
       "      <td>.css-1sd2sh1{width:50px;height:25px;margin:0 2...</td>\n",
       "      <td>NaN</td>\n",
       "      <td>Want To SeeSeen</td>\n",
       "    </tr>\n",
       "    <tr>\n",
       "      <th>2</th>\n",
       "      <td>NaN</td>\n",
       "      <td>Back to the Future</td>\n",
       "      <td>NaN</td>\n",
       "      <td>1985</td>\n",
       "      <td>7+</td>\n",
       "      <td>8.5</td>\n",
       "      <td>96%</td>\n",
       "      <td>+ Rent or Buy</td>\n",
       "      <td>NaN</td>\n",
       "      <td>Want To SeeSeen</td>\n",
       "    </tr>\n",
       "    <tr>\n",
       "      <th>3</th>\n",
       "      <td>NaN</td>\n",
       "      <td>The Matrix</td>\n",
       "      <td>NaN</td>\n",
       "      <td>1999</td>\n",
       "      <td>18+</td>\n",
       "      <td>8.7</td>\n",
       "      <td>88%</td>\n",
       "      <td>+ Rent or Buy</td>\n",
       "      <td>NaN</td>\n",
       "      <td>Want To SeeSeen</td>\n",
       "    </tr>\n",
       "    <tr>\n",
       "      <th>4</th>\n",
       "      <td>NaN</td>\n",
       "      <td>Stranger Things</td>\n",
       "      <td>TV</td>\n",
       "      <td>2016</td>\n",
       "      <td>16+</td>\n",
       "      <td>8.8</td>\n",
       "      <td>93%</td>\n",
       "      <td>NaN</td>\n",
       "      <td>25 Free Episodes</td>\n",
       "      <td>TrackHave You Seen?AllSomeNoneCancel</td>\n",
       "    </tr>\n",
       "  </tbody>\n",
       "</table>\n",
       "</div>"
      ],
      "text/plain": [
       "                                          Unnamed: 0  \\\n",
       "0  .css-1s3a0kl{position:static;width:51px;min-wi...   \n",
       "1                                                NaN   \n",
       "2                                                NaN   \n",
       "3                                                NaN   \n",
       "4                                                NaN   \n",
       "\n",
       "  .css-1cxgkif{color:inherit;}.css-1cxgkif:hover{color:white;}Title.css-1thuphj{width:12px;margin-left:5px;}  \\\n",
       "0                                       Breaking Bad                                                           \n",
       "1                                          Inception                                                           \n",
       "2                                 Back to the Future                                                           \n",
       "3                                         The Matrix                                                           \n",
       "4                                    Stranger Things                                                           \n",
       "\n",
       "  Unnamed: 2  Year Rating  \\\n",
       "0         TV  2008    18+   \n",
       "1        NaN  2010    13+   \n",
       "2        NaN  1985     7+   \n",
       "3        NaN  1999    18+   \n",
       "4         TV  2016    16+   \n",
       "\n",
       "   .css-pp4al6{height:14px;margin-right:1px;margin-bottom:-2px;opacity:0.85;}.css-pp4al6:hover{opacity:1;}  \\\n",
       "0                                                9.5                                                         \n",
       "1                                                8.8                                                         \n",
       "2                                                8.5                                                         \n",
       "3                                                8.7                                                         \n",
       "4                                                8.8                                                         \n",
       "\n",
       "  .css-2goa6a{height:18px;margin-bottom:-2px;opacity:0.85;}.css-2goa6a:hover{opacity:1;}  \\\n",
       "0                                                96%                                       \n",
       "1                                                87%                                       \n",
       "2                                                96%                                       \n",
       "3                                                88%                                       \n",
       "4                                                93%                                       \n",
       "\n",
       "                                        Available On        Unnamed: 8  \\\n",
       "0  .css-1uvh71f{display:inline-block;margin:2px 0...  62 Free Episodes   \n",
       "1  .css-1sd2sh1{width:50px;height:25px;margin:0 2...               NaN   \n",
       "2                                      + Rent or Buy               NaN   \n",
       "3                                      + Rent or Buy               NaN   \n",
       "4                                                NaN  25 Free Episodes   \n",
       "\n",
       "                                          Unnamed: 9  \n",
       "0  .css-1bnyegh{display:-webkit-box;display:-webk...  \n",
       "1                                    Want To SeeSeen  \n",
       "2                                    Want To SeeSeen  \n",
       "3                                    Want To SeeSeen  \n",
       "4               TrackHave You Seen?AllSomeNoneCancel  "
      ]
     },
     "execution_count": 11,
     "metadata": {},
     "output_type": "execute_result"
    }
   ],
   "source": [
    "soup = BeautifulSoup(response.content, 'lxml')\n",
    "table = soup.find_all('table',attrs={'class':'css-1179hly'})\n",
    "result_list = pd.read_html(str(table[0])) # a list of dataframes\n",
    "df = result_list[0]\n",
    "df.head()"
   ]
  },
  {
   "cell_type": "code",
   "execution_count": 16,
   "metadata": {},
   "outputs": [],
   "source": [
    "table_soup = BeautifulSoup(str(table[0]))"
   ]
  },
  {
   "cell_type": "code",
   "execution_count": 22,
   "metadata": {
    "collapsed": true
   },
   "outputs": [
    {
     "data": {
      "text/plain": [
       "<html><body><table class=\"css-1179hly\"><thead><tr><style data-emotion-css=\"opyfxi\">.css-opyfxi{padding:0 0 0 16px;}@media screen and (max-width:1230px){.css-opyfxi{padding-left:18px;}}@media screen and (max-width:1010px){.css-opyfxi{padding:14px;}}</style><th class=\"css-opyfxi\"></th><style data-emotion-css=\"umrvtk\">.css-umrvtk{padding:7px 32px;padding-left:25px;}@media screen and (max-width:1230px){.css-umrvtk{padding:4px 18px;padding-left:25px;}}</style><th class=\"css-umrvtk\"><style data-emotion-css=\"1cxgkif\">.css-1cxgkif{color:inherit;}.css-1cxgkif:hover{color:white;}</style><button class=\"css-1cxgkif\" data-sort=\"4\">Title<style data-emotion-css=\"1thuphj\">.css-1thuphj{width:12px;margin-left:5px;}</style><img alt=\"arrow\" class=\"css-1thuphj\" src=\"data:image/svg+xml;base64,PHN2ZyB4bWxucz0iaHR0cDovL3d3dy53My5vcmcvMjAwMC9zdmciIHZpZXdCb3g9IjAgMCAxMiA4Ij48cGF0aCBkPSJNMSAuOTVMNS45NSA1LjkgMTAuOS45NSIgc3Ryb2tlPSIjRkZGIiBzdHJva2Utd2lkdGg9IjIiIGZpbGw9Im5vbmUiLz48L3N2Zz4=\"/></button></th><style data-emotion-css=\"y8aj3r\">.css-y8aj3r{padding:0;}</style><th class=\"css-y8aj3r\"></th><style data-emotion-css=\"oog9im\">.css-oog9im{padding:7px 32px;}@media screen and (max-width:1230px){.css-oog9im{padding:4px 18px;}}</style><th class=\"css-oog9im\"><button class=\"css-1cxgkif\" data-sort=\"3\">Year<img alt=\"arrow\" class=\"css-1thuphj\" src=\"data:image/svg+xml;base64,PHN2ZyB4bWxucz0iaHR0cDovL3d3dy53My5vcmcvMjAwMC9zdmciIHZpZXdCb3g9IjAgMCAxMiA4Ij48cGF0aCBkPSJNMSAuOTVMNS45NSA1LjkgMTAuOS45NSIgc3Ryb2tlPSIjRkZGIiBzdHJva2Utd2lkdGg9IjIiIGZpbGw9Im5vbmUiLz48L3N2Zz4=\"/></button></th><th class=\"css-oog9im\" title=\"Classification\">Rating</th><th class=\"css-oog9im\" title=\"IMDB Score\"><button class=\"css-1cxgkif\" data-sort=\"2\"><style data-emotion-css=\"pp4al6\">.css-pp4al6{height:14px;margin-right:1px;margin-bottom:-2px;opacity:0.85;}.css-pp4al6:hover{opacity:1;}</style><img alt=\"imdb logo\" class=\"css-pp4al6\" height=\"16\" src=\"data:image/svg+xml;base64,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\" width=\"33\"/><img alt=\"arrow\" class=\"css-1thuphj\" src=\"data:image/svg+xml;base64,PHN2ZyB4bWxucz0iaHR0cDovL3d3dy53My5vcmcvMjAwMC9zdmciIHZpZXdCb3g9IjAgMCAxMiA4Ij48cGF0aCBkPSJNMSAuOTVMNS45NSA1LjkgMTAuOS45NSIgc3Ryb2tlPSIjRkZGIiBzdHJva2Utd2lkdGg9IjIiIGZpbGw9Im5vbmUiLz48L3N2Zz4=\"/></button></th><th class=\"css-oog9im\" title=\"Rotten Tomatoes Critics Score\"><button class=\"css-1cxgkif\" data-sort=\"5\"><style data-emotion-css=\"2goa6a\">.css-2goa6a{height:18px;margin-bottom:-2px;opacity:0.85;}.css-2goa6a:hover{opacity:1;}</style><img alt=\"rotten tomatoes tomato\" class=\"css-2goa6a\" height=\"17\" src=\"data:image/svg+xml;base64,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\" width=\"28\"/><img alt=\"arrow\" class=\"css-1thuphj\" src=\"data:image/svg+xml;base64,PHN2ZyB4bWxucz0iaHR0cDovL3d3dy53My5vcmcvMjAwMC9zdmciIHZpZXdCb3g9IjAgMCAxMiA4Ij48cGF0aCBkPSJNMSAuOTVMNS45NSA1LjkgMTAuOS45NSIgc3Ryb2tlPSIjRkZGIiBzdHJva2Utd2lkdGg9IjIiIGZpbGw9Im5vbmUiLz48L3N2Zz4=\"/></button></th><th class=\"css-oog9im\">Available On</th><th class=\"css-y8aj3r\"></th><th class=\"css-y8aj3r\"></th></tr></thead><tbody><style data-emotion-css=\"gfsdx9\">.css-gfsdx9{-webkit-transition:background-color 50ms;transition:background-color 50ms;border-bottom:1px solid rgba(200,200,200,0.1);cursor:pointer;}.css-gfsdx9:hover{background-color:rgba(255,255,255,0.1);}.css-gfsdx9:hover td{color:rgb(230,230,230);}.css-gfsdx9 td{vertical-align:middle;color:rgb(180,180,180);line-height:1.25;}@media screen and (max-width:1230px){.css-gfsdx9 td{font-size:15px;}}@media screen and (max-width:1230px){.css-gfsdx9 td:nth-of-type(1n + 8){font-size:14px;}}</style><tr class=\"css-gfsdx9\" itemprop=\"itemListElement\" itemscope=\"\" itemtype=\"//schema.org/ListItem\"><style data-emotion-css=\"1n32qfq\">.css-1n32qfq{width:51px;min-width:51px;height:76px;position:relative;box-sizing:content-box;padding:5px 0 5px 16px;}@media screen and (max-width:1230px){.css-1n32qfq{padding:5px 0 5px 18px;}}.css-1n32qfq > a > span{display:block;}</style><td class=\"css-1n32qfq\"><a href=\"/show/breaking-bad-2008\"><style data-emotion-css=\"1s3a0kl\">.css-1s3a0kl{position:static;width:51px;min-width:51px;height:76px;}.css-1s3a0kl > picture,.css-1s3a0kl > picture > img{position:static;width:51px;min-width:51px;height:76px;}</style><style data-emotion-css=\"1rashen\">.css-1rashen{contain:strict;position:absolute;width:100%;height:100%;background-color:#2b3239cc;overflow:hidden;position:static;width:51px;min-width:51px;height:76px;}.css-1rashen > picture,.css-1rashen > picture > img{position:static;width:51px;min-width:51px;height:76px;}</style><div class=\"css-1rashen e126mwsw1\"><style data-emotion-css=\"b4kcmh\">.css-b4kcmh{position:absolute;width:100%;height:100%;}</style><picture class=\"css-b4kcmh e1181ybh0\"><source srcset=\"https://img.reelgood.com/content/show/f75762df-3e5b-4cd3-b621-32399a3dd20d/poster-92.webp 92w,https://img.reelgood.com/content/show/f75762df-3e5b-4cd3-b621-32399a3dd20d/poster-154.webp 154w,https://img.reelgood.com/content/show/f75762df-3e5b-4cd3-b621-32399a3dd20d/poster-185.webp 185w,https://img.reelgood.com/content/show/f75762df-3e5b-4cd3-b621-32399a3dd20d/poster-342.webp 342w\" type=\"image/webp\"/><source srcset=\"https://img.reelgood.com/content/show/f75762df-3e5b-4cd3-b621-32399a3dd20d/poster-92.jpg 92w,https://img.reelgood.com/content/show/f75762df-3e5b-4cd3-b621-32399a3dd20d/poster-154.jpg 154w,https://img.reelgood.com/content/show/f75762df-3e5b-4cd3-b621-32399a3dd20d/poster-185.jpg 185w,https://img.reelgood.com/content/show/f75762df-3e5b-4cd3-b621-32399a3dd20d/poster-342.jpg 342w\" type=\"image/jpeg\"/><style data-emotion-css=\"4rt6dn\">.css-4rt6dn{object-fit:cover;object-position:center;width:100%;height:100%;-webkit-transition-duration:350ms;transition-duration:350ms;-webkit-transition-property:opacity;transition-property:opacity;-webkit-transition-timing-function:cubic-bezier(0.4,0,0.2,1);transition-timing-function:cubic-bezier(0.4,0,0.2,1);}.css-4rt6dn::after{display:block;position:absolute;top:-10%;left:-10%;width:120%;height:120%;background-color:#000;content:attr(alt);}.css-4rt6dn:-moz-loading{visibility:hidden;}</style><img alt=\"Breaking Bad Poster\" class=\"css-4rt6dn e1181ybh1\" data-async-image=\"true\" decoding=\"async\" src=\"https://img.reelgood.com/content/show/f75762df-3e5b-4cd3-b621-32399a3dd20d/poster-342.jpg\"/></picture></div></a></td><style data-emotion-css=\"1u7zfla\">.css-1u7zfla{padding:8px 32px;padding-left:25px;}.css-1u7zfla a{color:#00dc89;-webkit-text-decoration:none;text-decoration:none;}@media screen and (max-width:1230px){.css-1u7zfla{padding:8px 18px;padding-left:25px;}}@media screen and (max-width:1010px){.css-1u7zfla{padding:4px 14px;padding-left:25px;}}</style><td class=\"css-1u7zfla e126mwsw1\"><a href=\"/show/breaking-bad-2008\">Breaking Bad</a><meta content=\"0\" itemprop=\"position\"/><meta content=\"https://reelgood.com/show/breaking-bad-2008\" itemprop=\"url\"/></td><style data-emotion-css=\"1azbcl6\">.css-1azbcl6{padding:0 8px;}.css-1azbcl6 > span{font-size:10px;-webkit-letter-spacing:1px;-moz-letter-spacing:1px;-ms-letter-spacing:1px;letter-spacing:1px;background:rgba(0,0,0,0.7);padding:2px 6px;}</style><td class=\"css-1azbcl6\"><span>TV</span></td><style data-emotion-css=\"1u11l3y\">.css-1u11l3y{padding:8px 32px;}@media screen and (max-width:1230px){.css-1u11l3y{padding:8px 18px;}}@media screen and (max-width:1010px){.css-1u11l3y{padding:4px 14px;}}</style><td class=\"css-1u11l3y\">2008</td><td class=\"css-1u11l3y\">18+</td><td class=\"css-1u11l3y\">9.5</td><td class=\"css-1u11l3y\">96%</td><style data-emotion-css=\"1vuzpp2\">.css-1vuzpp2{padding:8px 32px;counter-reset:sourcesCount;width:244px;}.css-1vuzpp2 > a{-webkit-text-decoration:none;text-decoration:none;color:inherit;}@media screen and (min-width:2200px){.css-1vuzpp2{width:auto;}}@media screen and (max-width:1230px){.css-1vuzpp2{padding:8px 18px;}}@media screen and (max-width:1010px){.css-1vuzpp2{font-size:14px;}}</style><td class=\"css-1vuzpp2\"><style data-emotion-css=\"1uvh71f\">.css-1uvh71f{display:inline-block;margin:2px 0;}</style><span class=\"css-1uvh71f\"><style data-emotion-css=\"hsaqsh\">.css-hsaqsh{width:50px;height:25px;margin:0 2px;cursor:pointer;vertical-align:middle;}@media screen and (max-width:1010px){.css-hsaqsh{width:45px;height:23px;margin:0 1px;}}</style><style data-emotion-css=\"koqe8h\">.css-koqe8h{width:48px;height:24px;display:inline-block;overflow:hidden;border-radius:3px;margin-left:5px;width:50px;height:25px;margin:0 2px;cursor:pointer;vertical-align:middle;}.css-koqe8h img{position:relative;width:100%;}.css-koqe8h img::after{content:'';display:block;position:absolute;top:0;left:0;z-index:2;width:48px;height:24px;background-image:linear-gradient(139deg,#00e18c,#00e46a);border-radius:3px;}@media screen and (max-width:1010px){.css-koqe8h{width:45px;height:23px;margin:0 1px;}}</style><div class=\"css-koqe8h e11eoopx0\"><img alt=\"netflix\" src=\"https://img.reelgood.com/service-logos/netflix.svg\"/></div></span><style data-emotion-css=\"1llszt4\">.css-1llszt4{display:inline-block;line-height:25px;margin-left:3px;cursor:pointer;font-size:13px;white-space:pre;vertical-align:middle;}</style><span class=\"css-1llszt4\">+ Rent or Buy</span><span><style data-emotion-css=\"1fmire8\">.css-1fmire8{display:inline-block;vertical-align:middle;}.css-1fmire8::before{margin-left:3px;cursor:pointer;font-size:13px;white-space:pre;}@media screen and (max-width:1350px){.css-1fmire8::before{margin-left:2px;}}@media screen and (max-width:1010px){.css-1fmire8::before{font-size:12px;}}</style><span class=\"css-1fmire8\"></span></span></td><style data-emotion-css=\"9fnwd0\">.css-9fnwd0{padding:8px 32px;font-size:14px;white-space:nowrap;}.css-9fnwd0 br{display:none;}@media screen and (max-width:1450px){.css-9fnwd0 br{display:inline;}}</style><td class=\"css-9fnwd0\"><div class=\"css-0\">62 <span>Free Episodes</span></div></td><style data-emotion-css=\"1g4hjyy\">.css-1g4hjyy{padding:8px 32px;position:relative;}@media screen and (max-width:1230px){.css-1g4hjyy{padding:8px 18px;}}</style><td class=\"css-1g4hjyy\"><style data-emotion-css=\"1bnyegh\">.css-1bnyegh{display:-webkit-box;display:-webkit-flex;display:-ms-flexbox;display:flex;-webkit-box-pack:center;-webkit-justify-content:center;-ms-flex-pack:center;justify-content:center;line-height:0;}.css-1bnyegh > div:first-of-type{margin-right:10px;}.css-1bnyegh > div:last-of-type{margin-left:10px;}.css-1bnyegh > div span{opacity:0;position:absolute;top:3px;font-size:14px;width:100%;text-align:center;left:0;padding-top:3px;-webkit-transition:opacity 70ms ease-in-out;transition:opacity 70ms ease-in-out;pointer-events:none;line-height:14px;}.css-1bnyegh > div img{padding:7px;border-radius:100%;border-width:1px;border-style:solid;cursor:pointer;}@media screen and (max-width:1230px){.css-1bnyegh > div img{width:10px;padding:5px;}}</style><div class=\"css-1bnyegh\"><style data-emotion-css=\"1ov9pc1\">.css-1ov9pc1 img{background:transparent;border-color:rgba(255,255,255,0.8);}.css-1ov9pc1:hover span{opacity:1;}.css-1ov9pc1:hover img{background-color:rgba(200,200,200,0.2);background:rgba(200,200,200,0.2);}</style><div class=\"css-1ov9pc1 e126mwsw1\"><span>Track</span><img alt=\"Tracking Icon\" src=\"data:image/svg+xml;base64,PHN2ZyB4bWxucz0iaHR0cDovL3d3dy53My5vcmcvMjAwMC9zdmciIHdpZHRoPSIxMyIgaGVpZ2h0PSIxMyI+PHBhdGggZD0iTTEyLjU3NS41NzZMLjU3NiA1LjU1OWw1Ljc3MiAxLjI0NCAxLjI0NCA1Ljc3MnoiIGZpbGw9IiNGRkYiIGZpbGwtcnVsZT0iZXZlbm9kZCIvPjwvc3ZnPg==\" title=\"Track Show\"/><style data-emotion-css=\"1r8r34v\">.css-1r8r34v{right:35px;position:absolute;max-width:140px;padding:16px 20px;box-sizing:content-box;background-color:#2c3034;border-radius:8px;box-shadow:2px 8px 14px 0 rgba(0,0,0,0.6);cursor:initial;margin-top:3px;}@media screen and (max-width:1230px){.css-1r8r34v{right:20px;}}</style><style data-emotion-css=\"1otsefl\">.css-1otsefl{right:35px;position:absolute;max-width:140px;padding:16px 20px;box-sizing:content-box;background-color:#2c3034;border-radius:8px;box-shadow:2px 8px 14px 0 rgba(0,0,0,0.6);cursor:initial;margin-top:3px;}@media screen and (max-width:1230px){.css-1otsefl{right:20px;}}</style><style data-emotion-css=\"1iaqbrw\">.css-1iaqbrw{opacity:0;padding:16px;box-sizing:border-box;z-index:3;text-align:center;white-space:normal;pointer-events:none;-webkit-transition:opacity 120ms;transition:opacity 120ms;right:35px;position:absolute;max-width:140px;padding:16px 20px;box-sizing:content-box;background-color:#2c3034;border-radius:8px;box-shadow:2px 8px 14px 0 rgba(0,0,0,0.6);cursor:initial;margin-top:3px;}@media screen and (max-width:1230px){.css-1iaqbrw{right:20px;}}</style><div class=\"css-1iaqbrw e16felo50\" id=\"trackItPopup\"><style data-emotion-css=\"5y4ld6\">.css-5y4ld6{font-family:'ProximaNova-Bold',Arial,sans-serif;margin-bottom:10px;font-size:15px;color:white;line-height:1.1;}</style><div class=\"css-5y4ld6 e16felo51\">Have You Seen?</div><style data-emotion-css=\"1fz9kir\">.css-1fz9kir{margin:6px 0;width:100%;}</style><style data-emotion-css=\"1hknzz6\">.css-1hknzz6{-webkit-transition:background 100ms,opacity 100ms;transition:background 100ms,opacity 100ms;border:none;outline:none;cursor:pointer;line-height:1;color:#fff;background:rgba(255,255,255,0.16);border-radius:16px;font-size:16px;padding:8px 32px;color:#fff;margin:6px 0;width:100%;}.css-1hknzz6:hover{background:rgba(255,255,255,0.32);}.css-1hknzz6 img,.css-1hknzz6 amp-img{height:11px;margin-right:8px;position:relative;top:1px;display:inline-block;}.css-1hknzz6:disabled{opacity:0.45;pointer-events:none;}</style><button class=\"css-1hknzz6 eyx6tna1\" data-type=\"All\">All</button><button class=\"css-1hknzz6 eyx6tna1\" data-type=\"Some\">Some</button><button class=\"css-1hknzz6 eyx6tna1\" data-type=\"None\">None</button><style data-emotion-css=\"omf9uz\">.css-omf9uz{background:none;outline:none;border:none;-webkit-text-decoration:underline;text-decoration:underline;font-size:14px;color:rgba(255,255,255,0.5);margin-top:6px;cursor:pointer;}.css-omf9uz:hover{color:rgba(255,255,255,0.7);}</style><button class=\"css-omf9uz e16felo52\" data-type=\"cancel\">Cancel</button></div></div></div></td></tr><style data-emotion-css=\"o6sgwe\">.css-o6sgwe{-webkit-transition:background-color 50ms;transition:background-color 50ms;border-bottom:1px solid rgba(200,200,200,0.1);cursor:pointer;padding:0;}.css-o6sgwe:hover{background-color:rgba(255,255,255,0.1);}.css-o6sgwe:hover td{color:rgb(230,230,230);}.css-o6sgwe td{vertical-align:middle;color:rgb(180,180,180);line-height:1.25;}@media screen and (max-width:1230px){.css-o6sgwe td{font-size:15px;}}@media screen and (max-width:1230px){.css-o6sgwe td:nth-of-type(1n + 8){font-size:14px;}}</style><tr class=\"css-o6sgwe\" itemprop=\"itemListElement\" itemscope=\"\" itemtype=\"//schema.org/ListItem\"><td class=\"css-1n32qfq\"><a href=\"/movie/inception-2010\"><div class=\"css-1rashen e126mwsw1\"><picture class=\"css-b4kcmh e1181ybh0\"><source srcset=\"https://img.reelgood.com/content/movie/2208ea58-f84f-48ed-b387-13dd836dc446/poster-92.webp 92w,https://img.reelgood.com/content/movie/2208ea58-f84f-48ed-b387-13dd836dc446/poster-154.webp 154w,https://img.reelgood.com/content/movie/2208ea58-f84f-48ed-b387-13dd836dc446/poster-185.webp 185w,https://img.reelgood.com/content/movie/2208ea58-f84f-48ed-b387-13dd836dc446/poster-342.webp 342w\" type=\"image/webp\"/><source srcset=\"https://img.reelgood.com/content/movie/2208ea58-f84f-48ed-b387-13dd836dc446/poster-92.jpg 92w,https://img.reelgood.com/content/movie/2208ea58-f84f-48ed-b387-13dd836dc446/poster-154.jpg 154w,https://img.reelgood.com/content/movie/2208ea58-f84f-48ed-b387-13dd836dc446/poster-185.jpg 185w,https://img.reelgood.com/content/movie/2208ea58-f84f-48ed-b387-13dd836dc446/poster-342.jpg 342w\" type=\"image/jpeg\"/><img alt=\"Inception Poster\" class=\"css-4rt6dn e1181ybh1\" data-async-image=\"true\" decoding=\"async\" src=\"https://img.reelgood.com/content/movie/2208ea58-f84f-48ed-b387-13dd836dc446/poster-342.jpg\"/></picture></div></a></td><td class=\"css-1u7zfla e126mwsw1\"><a href=\"/movie/inception-2010\">Inception</a><meta content=\"1\" itemprop=\"position\"/><meta content=\"https://reelgood.com/movie/inception-2010\" itemprop=\"url\"/></td><td class=\"css-0\"></td><td class=\"css-1u11l3y\">2010</td><td class=\"css-1u11l3y\">13+</td><td class=\"css-1u11l3y\">8.8</td><td class=\"css-1u11l3y\">87%</td><td class=\"css-1vuzpp2\"><span class=\"css-1uvh71f\"><style data-emotion-css=\"1sd2sh1\">.css-1sd2sh1{width:50px;height:25px;margin:0 2px;cursor:pointer;vertical-align:middle;}@media screen and (max-width:1010px){.css-1sd2sh1{width:45px;height:23px;margin:0 1px;}}@media screen and (max-width:1010px){.css-1sd2sh1:nth-of-type(1n+2){counter-increment:sourcesCount;visibility:hidden;width:0;height:0;font-size:0;float:left;}}</style><style data-emotion-css=\"1teokc7\">.css-1teokc7{width:48px;height:24px;display:inline-block;overflow:hidden;border-radius:3px;margin-left:5px;width:50px;height:25px;margin:0 2px;cursor:pointer;vertical-align:middle;}.css-1teokc7 img{position:relative;width:100%;}.css-1teokc7 img::after{content:'';display:block;position:absolute;top:0;left:0;z-index:2;width:48px;height:24px;background-image:linear-gradient(139deg,#00e18c,#00e46a);border-radius:3px;}@media screen and (max-width:1010px){.css-1teokc7{width:45px;height:23px;margin:0 1px;}}@media screen and (max-width:1010px){.css-1teokc7:nth-of-type(1n+2){counter-increment:sourcesCount;visibility:hidden;width:0;height:0;font-size:0;float:left;}}</style><div class=\"css-1teokc7 e11eoopx0\"><img alt=\"netflix\" src=\"https://img.reelgood.com/service-logos/netflix.svg\"/></div></span><span class=\"css-1uvh71f\"><div class=\"css-1teokc7 e11eoopx0\"><img alt=\"tbs\" src=\"https://img.reelgood.com/service-logos/tbs.svg\"/></div></span><span class=\"css-1uvh71f\"><div class=\"css-1teokc7 e11eoopx0\"><img alt=\"tnt\" src=\"https://img.reelgood.com/service-logos/tnt.svg\"/></div></span><style data-emotion-css=\"16a9vcn\">.css-16a9vcn{display:inline-block;line-height:25px;margin-left:3px;cursor:pointer;font-size:13px;white-space:pre;vertical-align:middle;}@media screen and (max-width:1010px){.css-16a9vcn{counter-increment:sourcesCount;visibility:hidden;width:0;height:0;font-size:0;float:left;}}</style><span class=\"css-16a9vcn\">+ Rent or Buy</span><span><style data-emotion-css=\"1e0xpdq\">.css-1e0xpdq{display:inline-block;vertical-align:middle;}.css-1e0xpdq::before{margin-left:3px;cursor:pointer;font-size:13px;white-space:pre;}@media screen and (max-width:1350px){.css-1e0xpdq::before{margin-left:2px;}}@media screen and (max-width:1010px){.css-1e0xpdq::before{font-size:12px;}}@media screen and (max-width:1010px){.css-1e0xpdq::before{display:initial;content:\"+ \" counter(sourcesCount);}}</style><span class=\"css-1e0xpdq\"></span></span></td><td class=\"css-y8aj3r\"></td><td class=\"css-1g4hjyy\"><div class=\"css-1bnyegh\"><div class=\"css-1ov9pc1 e126mwsw1\"><span>Want To See</span><img alt=\"Want To See Icon\" src=\"data:image/svg+xml;base64,PHN2ZyB4bWxucz0iaHR0cDovL3d3dy53My5vcmcvMjAwMC9zdmciIHdpZHRoPSIxMiIgaGVpZ2h0PSIxMiI+PHBhdGggZD0iTTQuMzY3IDB2NC4zNjdIMHYzLjI2Nmg0LjM2N1YxMmgzLjI2N1Y3LjYzM0gxMlY0LjM2N0g3LjYzNFYweiIgZmlsbD0iI0ZGRiIgZmlsbC1ydWxlPSJldmVub2RkIi8+PC9zdmc+\" title=\"Add movie to watchlist\"/></div><div class=\"css-1ov9pc1 e126mwsw1\"><span>Seen</span><img alt=\"Check Mark Icon\" src=\"data:image/svg+xml;base64,PHN2ZyB4bWxucz0iaHR0cDovL3d3dy53My5vcmcvMjAwMC9zdmciIHdpZHRoPSIxMSIgaGVpZ2h0PSIxMiI+PHBhdGggZD0iTTYuOTk0IDEuNTA0TDMuODUyIDYuODY3bC0xLjU4Ny0yLjZMMCA1LjUybDMuODYyIDYuMzI2TDExIDB6IiBmaWxsPSIjRkZGIiBmaWxsLXJ1bGU9ImV2ZW5vZGQiLz48L3N2Zz4=\" title=\"Mark movie as seen\"/></div></div></td></tr><tr class=\"css-o6sgwe\" itemprop=\"itemListElement\" itemscope=\"\" itemtype=\"//schema.org/ListItem\"><td class=\"css-1n32qfq\"><a href=\"/movie/back-to-the-future-1985\"><div class=\"css-1rashen e126mwsw1\"><picture class=\"css-b4kcmh e1181ybh0\"><source srcset=\"https://img.reelgood.com/content/movie/667a030c-a4dc-4c34-8577-6898478ab435/poster-92.webp 92w,https://img.reelgood.com/content/movie/667a030c-a4dc-4c34-8577-6898478ab435/poster-154.webp 154w,https://img.reelgood.com/content/movie/667a030c-a4dc-4c34-8577-6898478ab435/poster-185.webp 185w,https://img.reelgood.com/content/movie/667a030c-a4dc-4c34-8577-6898478ab435/poster-342.webp 342w\" type=\"image/webp\"/><source srcset=\"https://img.reelgood.com/content/movie/667a030c-a4dc-4c34-8577-6898478ab435/poster-92.jpg 92w,https://img.reelgood.com/content/movie/667a030c-a4dc-4c34-8577-6898478ab435/poster-154.jpg 154w,https://img.reelgood.com/content/movie/667a030c-a4dc-4c34-8577-6898478ab435/poster-185.jpg 185w,https://img.reelgood.com/content/movie/667a030c-a4dc-4c34-8577-6898478ab435/poster-342.jpg 342w\" type=\"image/jpeg\"/><img alt=\"Back to the Future Poster\" class=\"css-4rt6dn e1181ybh1\" data-async-image=\"true\" decoding=\"async\" src=\"https://img.reelgood.com/content/movie/667a030c-a4dc-4c34-8577-6898478ab435/poster-342.jpg\"/></picture></div></a></td><td class=\"css-1u7zfla e126mwsw1\"><a href=\"/movie/back-to-the-future-1985\">Back to the Future</a><meta content=\"2\" itemprop=\"position\"/><meta content=\"https://reelgood.com/movie/back-to-the-future-1985\" itemprop=\"url\"/></td><td class=\"css-0\"></td><td class=\"css-1u11l3y\">1985</td><td class=\"css-1u11l3y\">7+</td><td class=\"css-1u11l3y\">8.5</td><td class=\"css-1u11l3y\">96%</td><td class=\"css-1vuzpp2\"><span class=\"css-1uvh71f\"><div class=\"css-1teokc7 e11eoopx0\"><img alt=\"netflix\" src=\"https://img.reelgood.com/service-logos/netflix.svg\"/></div></span><span class=\"css-1uvh71f\"><div class=\"css-1teokc7 e11eoopx0\"><img alt=\"showtime\" src=\"https://img.reelgood.com/service-logos/showtime.svg\"/></div></span><span class=\"css-1uvh71f\"><div class=\"css-1teokc7 e11eoopx0\"><img alt=\"fubo_tv\" src=\"https://img.reelgood.com/service-logos/fubo_tv.svg\"/></div></span><span class=\"css-16a9vcn\">+ Rent or Buy</span><span><span class=\"css-1e0xpdq\"></span></span></td><td class=\"css-y8aj3r\"></td><td class=\"css-1g4hjyy\"><div class=\"css-1bnyegh\"><div class=\"css-1ov9pc1 e126mwsw1\"><span>Want To See</span><img alt=\"Want To See Icon\" src=\"data:image/svg+xml;base64,PHN2ZyB4bWxucz0iaHR0cDovL3d3dy53My5vcmcvMjAwMC9zdmciIHdpZHRoPSIxMiIgaGVpZ2h0PSIxMiI+PHBhdGggZD0iTTQuMzY3IDB2NC4zNjdIMHYzLjI2Nmg0LjM2N1YxMmgzLjI2N1Y3LjYzM0gxMlY0LjM2N0g3LjYzNFYweiIgZmlsbD0iI0ZGRiIgZmlsbC1ydWxlPSJldmVub2RkIi8+PC9zdmc+\" title=\"Add movie to watchlist\"/></div><div class=\"css-1ov9pc1 e126mwsw1\"><span>Seen</span><img alt=\"Check Mark Icon\" src=\"data:image/svg+xml;base64,PHN2ZyB4bWxucz0iaHR0cDovL3d3dy53My5vcmcvMjAwMC9zdmciIHdpZHRoPSIxMSIgaGVpZ2h0PSIxMiI+PHBhdGggZD0iTTYuOTk0IDEuNTA0TDMuODUyIDYuODY3bC0xLjU4Ny0yLjZMMCA1LjUybDMuODYyIDYuMzI2TDExIDB6IiBmaWxsPSIjRkZGIiBmaWxsLXJ1bGU9ImV2ZW5vZGQiLz48L3N2Zz4=\" title=\"Mark movie as seen\"/></div></div></td></tr><tr class=\"css-o6sgwe\" itemprop=\"itemListElement\" itemscope=\"\" itemtype=\"//schema.org/ListItem\"><td class=\"css-1n32qfq\"><a href=\"/movie/the-matrix-1999\"><div class=\"css-1rashen e126mwsw1\"><picture class=\"css-b4kcmh e1181ybh0\"><source srcset=\"https://img.reelgood.com/content/movie/6eb67f3f-113d-47e6-8776-406dda49f7ca/poster-92.webp 92w,https://img.reelgood.com/content/movie/6eb67f3f-113d-47e6-8776-406dda49f7ca/poster-154.webp 154w,https://img.reelgood.com/content/movie/6eb67f3f-113d-47e6-8776-406dda49f7ca/poster-185.webp 185w,https://img.reelgood.com/content/movie/6eb67f3f-113d-47e6-8776-406dda49f7ca/poster-342.webp 342w\" type=\"image/webp\"/><source srcset=\"https://img.reelgood.com/content/movie/6eb67f3f-113d-47e6-8776-406dda49f7ca/poster-92.jpg 92w,https://img.reelgood.com/content/movie/6eb67f3f-113d-47e6-8776-406dda49f7ca/poster-154.jpg 154w,https://img.reelgood.com/content/movie/6eb67f3f-113d-47e6-8776-406dda49f7ca/poster-185.jpg 185w,https://img.reelgood.com/content/movie/6eb67f3f-113d-47e6-8776-406dda49f7ca/poster-342.jpg 342w\" type=\"image/jpeg\"/><img alt=\"The Matrix Poster\" class=\"css-4rt6dn e1181ybh1\" data-async-image=\"true\" decoding=\"async\" src=\"https://img.reelgood.com/content/movie/6eb67f3f-113d-47e6-8776-406dda49f7ca/poster-342.jpg\"/></picture></div></a></td><td class=\"css-1u7zfla e126mwsw1\"><a href=\"/movie/the-matrix-1999\">The Matrix</a><meta content=\"3\" itemprop=\"position\"/><meta content=\"https://reelgood.com/movie/the-matrix-1999\" itemprop=\"url\"/></td><td class=\"css-0\"></td><td class=\"css-1u11l3y\">1999</td><td class=\"css-1u11l3y\">18+</td><td class=\"css-1u11l3y\">8.7</td><td class=\"css-1u11l3y\">88%</td><td class=\"css-1vuzpp2\"><span class=\"css-1uvh71f\"><div class=\"css-koqe8h e11eoopx0\"><img alt=\"netflix\" src=\"https://img.reelgood.com/service-logos/netflix.svg\"/></div></span><span class=\"css-1llszt4\">+ Rent or Buy</span><span><span class=\"css-1fmire8\"></span></span></td><td class=\"css-y8aj3r\"></td><td class=\"css-1g4hjyy\"><div class=\"css-1bnyegh\"><div class=\"css-1ov9pc1 e126mwsw1\"><span>Want To See</span><img alt=\"Want To See Icon\" src=\"data:image/svg+xml;base64,PHN2ZyB4bWxucz0iaHR0cDovL3d3dy53My5vcmcvMjAwMC9zdmciIHdpZHRoPSIxMiIgaGVpZ2h0PSIxMiI+PHBhdGggZD0iTTQuMzY3IDB2NC4zNjdIMHYzLjI2Nmg0LjM2N1YxMmgzLjI2N1Y3LjYzM0gxMlY0LjM2N0g3LjYzNFYweiIgZmlsbD0iI0ZGRiIgZmlsbC1ydWxlPSJldmVub2RkIi8+PC9zdmc+\" title=\"Add movie to watchlist\"/></div><div class=\"css-1ov9pc1 e126mwsw1\"><span>Seen</span><img alt=\"Check Mark Icon\" src=\"data:image/svg+xml;base64,PHN2ZyB4bWxucz0iaHR0cDovL3d3dy53My5vcmcvMjAwMC9zdmciIHdpZHRoPSIxMSIgaGVpZ2h0PSIxMiI+PHBhdGggZD0iTTYuOTk0IDEuNTA0TDMuODUyIDYuODY3bC0xLjU4Ny0yLjZMMCA1LjUybDMuODYyIDYuMzI2TDExIDB6IiBmaWxsPSIjRkZGIiBmaWxsLXJ1bGU9ImV2ZW5vZGQiLz48L3N2Zz4=\" title=\"Mark movie as seen\"/></div></div></td></tr><tr class=\"css-gfsdx9\" itemprop=\"itemListElement\" itemscope=\"\" itemtype=\"//schema.org/ListItem\"><td class=\"css-1n32qfq\"><a href=\"/show/stranger-things-2016\"><div class=\"css-1rashen e126mwsw1\"><picture class=\"css-b4kcmh e1181ybh0\"><source srcset=\"https://img.reelgood.com/content/show/244c3e6a-0057-4354-b535-8b52fd83c3e1/poster-92.webp 92w,https://img.reelgood.com/content/show/244c3e6a-0057-4354-b535-8b52fd83c3e1/poster-154.webp 154w,https://img.reelgood.com/content/show/244c3e6a-0057-4354-b535-8b52fd83c3e1/poster-185.webp 185w,https://img.reelgood.com/content/show/244c3e6a-0057-4354-b535-8b52fd83c3e1/poster-342.webp 342w\" type=\"image/webp\"/><source srcset=\"https://img.reelgood.com/content/show/244c3e6a-0057-4354-b535-8b52fd83c3e1/poster-92.jpg 92w,https://img.reelgood.com/content/show/244c3e6a-0057-4354-b535-8b52fd83c3e1/poster-154.jpg 154w,https://img.reelgood.com/content/show/244c3e6a-0057-4354-b535-8b52fd83c3e1/poster-185.jpg 185w,https://img.reelgood.com/content/show/244c3e6a-0057-4354-b535-8b52fd83c3e1/poster-342.jpg 342w\" type=\"image/jpeg\"/><img alt=\"Stranger Things Poster\" class=\"css-4rt6dn e1181ybh1\" data-async-image=\"true\" decoding=\"async\" src=\"https://img.reelgood.com/content/show/244c3e6a-0057-4354-b535-8b52fd83c3e1/poster-342.jpg\"/></picture></div></a></td><td class=\"css-1u7zfla e126mwsw1\"><a href=\"/show/stranger-things-2016\">Stranger Things</a><meta content=\"4\" itemprop=\"position\"/><meta content=\"https://reelgood.com/show/stranger-things-2016\" itemprop=\"url\"/></td><td class=\"css-1azbcl6\"><span>TV</span></td><td class=\"css-1u11l3y\">2016</td><td class=\"css-1u11l3y\">16+</td><td class=\"css-1u11l3y\">8.8</td><td class=\"css-1u11l3y\">93%</td><td class=\"css-1vuzpp2\"><span class=\"css-1uvh71f\"><div class=\"css-koqe8h e11eoopx0\"><img alt=\"netflix\" src=\"https://img.reelgood.com/service-logos/netflix.svg\"/></div></span><span><span class=\"css-1fmire8\"></span></span></td><td class=\"css-9fnwd0\"><div class=\"css-0\">25 <span>Free Episodes</span></div></td><td class=\"css-1g4hjyy\"><div class=\"css-1bnyegh\"><div class=\"css-1ov9pc1 e126mwsw1\"><span>Track</span><img alt=\"Tracking Icon\" src=\"data:image/svg+xml;base64,PHN2ZyB4bWxucz0iaHR0cDovL3d3dy53My5vcmcvMjAwMC9zdmciIHdpZHRoPSIxMyIgaGVpZ2h0PSIxMyI+PHBhdGggZD0iTTEyLjU3NS41NzZMLjU3NiA1LjU1OWw1Ljc3MiAxLjI0NCAxLjI0NCA1Ljc3MnoiIGZpbGw9IiNGRkYiIGZpbGwtcnVsZT0iZXZlbm9kZCIvPjwvc3ZnPg==\" title=\"Track Show\"/><div class=\"css-1iaqbrw e16felo50\" id=\"trackItPopup\"><div class=\"css-5y4ld6 e16felo51\">Have You Seen?</div><button class=\"css-1hknzz6 eyx6tna1\" data-type=\"All\">All</button><button class=\"css-1hknzz6 eyx6tna1\" data-type=\"Some\">Some</button><button class=\"css-1hknzz6 eyx6tna1\" data-type=\"None\">None</button><button class=\"css-omf9uz e16felo52\" data-type=\"cancel\">Cancel</button></div></div></div></td></tr><tr class=\"css-o6sgwe\" itemprop=\"itemListElement\" itemscope=\"\" itemtype=\"//schema.org/ListItem\"><td class=\"css-1n32qfq\"><a href=\"/movie/the-silence-of-the-lambs-1991\"><div class=\"css-1rashen e126mwsw1\"><picture class=\"css-b4kcmh e1181ybh0\"><source srcset=\"https://img.reelgood.com/content/movie/6d3011e0-e4e7-4f56-8ecd-bcb30ed2f381/poster-92.webp 92w,https://img.reelgood.com/content/movie/6d3011e0-e4e7-4f56-8ecd-bcb30ed2f381/poster-154.webp 154w,https://img.reelgood.com/content/movie/6d3011e0-e4e7-4f56-8ecd-bcb30ed2f381/poster-185.webp 185w,https://img.reelgood.com/content/movie/6d3011e0-e4e7-4f56-8ecd-bcb30ed2f381/poster-342.webp 342w\" type=\"image/webp\"/><source srcset=\"https://img.reelgood.com/content/movie/6d3011e0-e4e7-4f56-8ecd-bcb30ed2f381/poster-92.jpg 92w,https://img.reelgood.com/content/movie/6d3011e0-e4e7-4f56-8ecd-bcb30ed2f381/poster-154.jpg 154w,https://img.reelgood.com/content/movie/6d3011e0-e4e7-4f56-8ecd-bcb30ed2f381/poster-185.jpg 185w,https://img.reelgood.com/content/movie/6d3011e0-e4e7-4f56-8ecd-bcb30ed2f381/poster-342.jpg 342w\" type=\"image/jpeg\"/><img alt=\"The Silence of the Lambs Poster\" class=\"css-4rt6dn e1181ybh1\" data-async-image=\"true\" decoding=\"async\" src=\"https://img.reelgood.com/content/movie/6d3011e0-e4e7-4f56-8ecd-bcb30ed2f381/poster-342.jpg\"/></picture></div></a></td><td class=\"css-1u7zfla e126mwsw1\"><a href=\"/movie/the-silence-of-the-lambs-1991\">The Silence of the Lambs</a><meta content=\"5\" itemprop=\"position\"/><meta content=\"https://reelgood.com/movie/the-silence-of-the-lambs-1991\" itemprop=\"url\"/></td><td class=\"css-0\"></td><td class=\"css-1u11l3y\">1991</td><td class=\"css-1u11l3y\">18+</td><td class=\"css-1u11l3y\">8.6</td><td class=\"css-1u11l3y\">96%</td><td class=\"css-1vuzpp2\"><span class=\"css-1uvh71f\"><div class=\"css-koqe8h e11eoopx0\"><img alt=\"netflix\" src=\"https://img.reelgood.com/service-logos/netflix.svg\"/></div></span><span class=\"css-1uvh71f\"><div class=\"css-koqe8h e11eoopx0\"><img alt=\"fubo_tv\" src=\"https://img.reelgood.com/service-logos/fubo_tv.svg\"/></div></span><span class=\"css-1llszt4\">+ Rent or Buy</span><span><span class=\"css-1fmire8\"></span></span></td><td class=\"css-y8aj3r\"></td><td class=\"css-1g4hjyy\"><div class=\"css-1bnyegh\"><div class=\"css-1ov9pc1 e126mwsw1\"><span>Want To See</span><img alt=\"Want To See Icon\" src=\"data:image/svg+xml;base64,PHN2ZyB4bWxucz0iaHR0cDovL3d3dy53My5vcmcvMjAwMC9zdmciIHdpZHRoPSIxMiIgaGVpZ2h0PSIxMiI+PHBhdGggZD0iTTQuMzY3IDB2NC4zNjdIMHYzLjI2Nmg0LjM2N1YxMmgzLjI2N1Y3LjYzM0gxMlY0LjM2N0g3LjYzNFYweiIgZmlsbD0iI0ZGRiIgZmlsbC1ydWxlPSJldmVub2RkIi8+PC9zdmc+\" title=\"Add movie to watchlist\"/></div><div class=\"css-1ov9pc1 e126mwsw1\"><span>Seen</span><img alt=\"Check Mark Icon\" src=\"data:image/svg+xml;base64,PHN2ZyB4bWxucz0iaHR0cDovL3d3dy53My5vcmcvMjAwMC9zdmciIHdpZHRoPSIxMSIgaGVpZ2h0PSIxMiI+PHBhdGggZD0iTTYuOTk0IDEuNTA0TDMuODUyIDYuODY3bC0xLjU4Ny0yLjZMMCA1LjUybDMuODYyIDYuMzI2TDExIDB6IiBmaWxsPSIjRkZGIiBmaWxsLXJ1bGU9ImV2ZW5vZGQiLz48L3N2Zz4=\" title=\"Mark movie as seen\"/></div></div></td></tr><tr class=\"css-o6sgwe\" itemprop=\"itemListElement\" itemscope=\"\" itemtype=\"//schema.org/ListItem\"><td class=\"css-1n32qfq\"><a href=\"/movie/avengers-infinity-war-2018\"><div class=\"css-1rashen e126mwsw1\"><picture class=\"css-b4kcmh e1181ybh0\"><source srcset=\"https://img.reelgood.com/content/movie/9a70e529-9070-4a2f-963c-c5bb253cc721/poster-92.webp 92w,https://img.reelgood.com/content/movie/9a70e529-9070-4a2f-963c-c5bb253cc721/poster-154.webp 154w,https://img.reelgood.com/content/movie/9a70e529-9070-4a2f-963c-c5bb253cc721/poster-185.webp 185w,https://img.reelgood.com/content/movie/9a70e529-9070-4a2f-963c-c5bb253cc721/poster-342.webp 342w\" type=\"image/webp\"/><source srcset=\"https://img.reelgood.com/content/movie/9a70e529-9070-4a2f-963c-c5bb253cc721/poster-92.jpg 92w,https://img.reelgood.com/content/movie/9a70e529-9070-4a2f-963c-c5bb253cc721/poster-154.jpg 154w,https://img.reelgood.com/content/movie/9a70e529-9070-4a2f-963c-c5bb253cc721/poster-185.jpg 185w,https://img.reelgood.com/content/movie/9a70e529-9070-4a2f-963c-c5bb253cc721/poster-342.jpg 342w\" type=\"image/jpeg\"/><img alt=\"Avengers: Infinity War Poster\" class=\"css-4rt6dn e1181ybh1\" data-async-image=\"true\" decoding=\"async\" src=\"https://img.reelgood.com/content/movie/9a70e529-9070-4a2f-963c-c5bb253cc721/poster-342.jpg\"/></picture></div></a></td><td class=\"css-1u7zfla e126mwsw1\"><a href=\"/movie/avengers-infinity-war-2018\">Avengers: Infinity War</a><meta content=\"6\" itemprop=\"position\"/><meta content=\"https://reelgood.com/movie/avengers-infinity-war-2018\" itemprop=\"url\"/></td><td class=\"css-0\"></td><td class=\"css-1u11l3y\">2018</td><td class=\"css-1u11l3y\">13+</td><td class=\"css-1u11l3y\">8.5</td><td class=\"css-1u11l3y\">85%</td><td class=\"css-1vuzpp2\"><span class=\"css-1uvh71f\"><div class=\"css-koqe8h e11eoopx0\"><img alt=\"netflix\" src=\"https://img.reelgood.com/service-logos/netflix.svg\"/></div></span><span class=\"css-1llszt4\">+ Rent or Buy</span><span><span class=\"css-1fmire8\"></span></span></td><td class=\"css-y8aj3r\"></td><td class=\"css-1g4hjyy\"><div class=\"css-1bnyegh\"><div class=\"css-1ov9pc1 e126mwsw1\"><span>Want To See</span><img alt=\"Want To See Icon\" src=\"data:image/svg+xml;base64,PHN2ZyB4bWxucz0iaHR0cDovL3d3dy53My5vcmcvMjAwMC9zdmciIHdpZHRoPSIxMiIgaGVpZ2h0PSIxMiI+PHBhdGggZD0iTTQuMzY3IDB2NC4zNjdIMHYzLjI2Nmg0LjM2N1YxMmgzLjI2N1Y3LjYzM0gxMlY0LjM2N0g3LjYzNFYweiIgZmlsbD0iI0ZGRiIgZmlsbC1ydWxlPSJldmVub2RkIi8+PC9zdmc+\" title=\"Add movie to watchlist\"/></div><div class=\"css-1ov9pc1 e126mwsw1\"><span>Seen</span><img alt=\"Check Mark Icon\" src=\"data:image/svg+xml;base64,PHN2ZyB4bWxucz0iaHR0cDovL3d3dy53My5vcmcvMjAwMC9zdmciIHdpZHRoPSIxMSIgaGVpZ2h0PSIxMiI+PHBhdGggZD0iTTYuOTk0IDEuNTA0TDMuODUyIDYuODY3bC0xLjU4Ny0yLjZMMCA1LjUybDMuODYyIDYuMzI2TDExIDB6IiBmaWxsPSIjRkZGIiBmaWxsLXJ1bGU9ImV2ZW5vZGQiLz48L3N2Zz4=\" title=\"Mark movie as seen\"/></div></div></td></tr><tr class=\"css-o6sgwe\" itemprop=\"itemListElement\" itemscope=\"\" itemtype=\"//schema.org/ListItem\"><td class=\"css-1n32qfq\"><a href=\"/movie/the-good-the-bad-and-the-ugly-1966\"><div class=\"css-1rashen e126mwsw1\"><picture class=\"css-b4kcmh e1181ybh0\"><source srcset=\"https://img.reelgood.com/content/movie/71ce5ee1-f2b4-4f88-9287-81d42a447d04/poster-92.webp 92w,https://img.reelgood.com/content/movie/71ce5ee1-f2b4-4f88-9287-81d42a447d04/poster-154.webp 154w,https://img.reelgood.com/content/movie/71ce5ee1-f2b4-4f88-9287-81d42a447d04/poster-185.webp 185w,https://img.reelgood.com/content/movie/71ce5ee1-f2b4-4f88-9287-81d42a447d04/poster-342.webp 342w\" type=\"image/webp\"/><source srcset=\"https://img.reelgood.com/content/movie/71ce5ee1-f2b4-4f88-9287-81d42a447d04/poster-92.jpg 92w,https://img.reelgood.com/content/movie/71ce5ee1-f2b4-4f88-9287-81d42a447d04/poster-154.jpg 154w,https://img.reelgood.com/content/movie/71ce5ee1-f2b4-4f88-9287-81d42a447d04/poster-185.jpg 185w,https://img.reelgood.com/content/movie/71ce5ee1-f2b4-4f88-9287-81d42a447d04/poster-342.jpg 342w\" type=\"image/jpeg\"/><img alt=\"The Good, the Bad and the Ugly Poster\" class=\"css-4rt6dn e1181ybh1\" data-async-image=\"true\" decoding=\"async\" src=\"https://img.reelgood.com/content/movie/71ce5ee1-f2b4-4f88-9287-81d42a447d04/poster-342.jpg\"/></picture></div></a></td><td class=\"css-1u7zfla e126mwsw1\"><a href=\"/movie/the-good-the-bad-and-the-ugly-1966\">The Good, the Bad and the Ugly</a><meta content=\"7\" itemprop=\"position\"/><meta content=\"https://reelgood.com/movie/the-good-the-bad-and-the-ugly-1966\" itemprop=\"url\"/></td><td class=\"css-0\"></td><td class=\"css-1u11l3y\">1966</td><td class=\"css-1u11l3y\">18+</td><td class=\"css-1u11l3y\">8.8</td><td class=\"css-1u11l3y\">97%</td><td class=\"css-1vuzpp2\"><span class=\"css-1uvh71f\"><div class=\"css-koqe8h e11eoopx0\"><img alt=\"netflix\" src=\"https://img.reelgood.com/service-logos/netflix.svg\"/></div></span><span class=\"css-1uvh71f\"><div class=\"css-koqe8h e11eoopx0\"><img alt=\"amazon_prime\" src=\"https://img.reelgood.com/service-logos/amazon_prime.svg\"/></div></span><span class=\"css-1llszt4\">+ Rent or Buy</span><span><span class=\"css-1fmire8\"></span></span></td><td class=\"css-y8aj3r\"></td><td class=\"css-1g4hjyy\"><div class=\"css-1bnyegh\"><div class=\"css-1ov9pc1 e126mwsw1\"><span>Want To See</span><img alt=\"Want To See Icon\" src=\"data:image/svg+xml;base64,PHN2ZyB4bWxucz0iaHR0cDovL3d3dy53My5vcmcvMjAwMC9zdmciIHdpZHRoPSIxMiIgaGVpZ2h0PSIxMiI+PHBhdGggZD0iTTQuMzY3IDB2NC4zNjdIMHYzLjI2Nmg0LjM2N1YxMmgzLjI2N1Y3LjYzM0gxMlY0LjM2N0g3LjYzNFYweiIgZmlsbD0iI0ZGRiIgZmlsbC1ydWxlPSJldmVub2RkIi8+PC9zdmc+\" title=\"Add movie to watchlist\"/></div><div class=\"css-1ov9pc1 e126mwsw1\"><span>Seen</span><img alt=\"Check Mark Icon\" src=\"data:image/svg+xml;base64,PHN2ZyB4bWxucz0iaHR0cDovL3d3dy53My5vcmcvMjAwMC9zdmciIHdpZHRoPSIxMSIgaGVpZ2h0PSIxMiI+PHBhdGggZD0iTTYuOTk0IDEuNTA0TDMuODUyIDYuODY3bC0xLjU4Ny0yLjZMMCA1LjUybDMuODYyIDYuMzI2TDExIDB6IiBmaWxsPSIjRkZGIiBmaWxsLXJ1bGU9ImV2ZW5vZGQiLz48L3N2Zz4=\" title=\"Mark movie as seen\"/></div></div></td></tr><tr class=\"css-o6sgwe\" itemprop=\"itemListElement\" itemscope=\"\" itemtype=\"//schema.org/ListItem\"><td class=\"css-1n32qfq\"><a href=\"/movie/django-unchained-2012\"><div class=\"css-1rashen e126mwsw1\"><picture class=\"css-b4kcmh e1181ybh0\"><source srcset=\"https://img.reelgood.com/content/movie/d4f90bf6-4d74-42a9-aba8-39a205a0e0b6/poster-92.webp 92w,https://img.reelgood.com/content/movie/d4f90bf6-4d74-42a9-aba8-39a205a0e0b6/poster-154.webp 154w,https://img.reelgood.com/content/movie/d4f90bf6-4d74-42a9-aba8-39a205a0e0b6/poster-185.webp 185w,https://img.reelgood.com/content/movie/d4f90bf6-4d74-42a9-aba8-39a205a0e0b6/poster-342.webp 342w\" type=\"image/webp\"/><source srcset=\"https://img.reelgood.com/content/movie/d4f90bf6-4d74-42a9-aba8-39a205a0e0b6/poster-92.jpg 92w,https://img.reelgood.com/content/movie/d4f90bf6-4d74-42a9-aba8-39a205a0e0b6/poster-154.jpg 154w,https://img.reelgood.com/content/movie/d4f90bf6-4d74-42a9-aba8-39a205a0e0b6/poster-185.jpg 185w,https://img.reelgood.com/content/movie/d4f90bf6-4d74-42a9-aba8-39a205a0e0b6/poster-342.jpg 342w\" type=\"image/jpeg\"/><img alt=\"Django Unchained Poster\" class=\"css-4rt6dn e1181ybh1\" data-async-image=\"true\" decoding=\"async\" src=\"https://img.reelgood.com/content/movie/d4f90bf6-4d74-42a9-aba8-39a205a0e0b6/poster-342.jpg\"/></picture></div></a></td><td class=\"css-1u7zfla e126mwsw1\"><a href=\"/movie/django-unchained-2012\">Django Unchained</a><meta content=\"8\" itemprop=\"position\"/><meta content=\"https://reelgood.com/movie/django-unchained-2012\" itemprop=\"url\"/></td><td class=\"css-0\"></td><td class=\"css-1u11l3y\">2012</td><td class=\"css-1u11l3y\">18+</td><td class=\"css-1u11l3y\">8.4</td><td class=\"css-1u11l3y\">87%</td><td class=\"css-1vuzpp2\"><span class=\"css-1uvh71f\"><div class=\"css-koqe8h e11eoopx0\"><img alt=\"netflix\" src=\"https://img.reelgood.com/service-logos/netflix.svg\"/></div></span><span class=\"css-1llszt4\">+ Rent or Buy</span><span><span class=\"css-1fmire8\"></span></span></td><td class=\"css-y8aj3r\"></td><td class=\"css-1g4hjyy\"><div class=\"css-1bnyegh\"><div class=\"css-1ov9pc1 e126mwsw1\"><span>Want To See</span><img alt=\"Want To See Icon\" src=\"data:image/svg+xml;base64,PHN2ZyB4bWxucz0iaHR0cDovL3d3dy53My5vcmcvMjAwMC9zdmciIHdpZHRoPSIxMiIgaGVpZ2h0PSIxMiI+PHBhdGggZD0iTTQuMzY3IDB2NC4zNjdIMHYzLjI2Nmg0LjM2N1YxMmgzLjI2N1Y3LjYzM0gxMlY0LjM2N0g3LjYzNFYweiIgZmlsbD0iI0ZGRiIgZmlsbC1ydWxlPSJldmVub2RkIi8+PC9zdmc+\" title=\"Add movie to watchlist\"/></div><div class=\"css-1ov9pc1 e126mwsw1\"><span>Seen</span><img alt=\"Check Mark Icon\" src=\"data:image/svg+xml;base64,PHN2ZyB4bWxucz0iaHR0cDovL3d3dy53My5vcmcvMjAwMC9zdmciIHdpZHRoPSIxMSIgaGVpZ2h0PSIxMiI+PHBhdGggZD0iTTYuOTk0IDEuNTA0TDMuODUyIDYuODY3bC0xLjU4Ny0yLjZMMCA1LjUybDMuODYyIDYuMzI2TDExIDB6IiBmaWxsPSIjRkZGIiBmaWxsLXJ1bGU9ImV2ZW5vZGQiLz48L3N2Zz4=\" title=\"Mark movie as seen\"/></div></div></td></tr><tr class=\"css-o6sgwe\" itemprop=\"itemListElement\" itemscope=\"\" itemtype=\"//schema.org/ListItem\"><td class=\"css-1n32qfq\"><a href=\"/movie/the-pianist-2002\"><div class=\"css-1rashen e126mwsw1\"><picture class=\"css-b4kcmh e1181ybh0\"><source srcset=\"https://img.reelgood.com/content/movie/88cc9e4e-d585-4fc3-87d7-5d3e90a7830a/poster-92.webp 92w,https://img.reelgood.com/content/movie/88cc9e4e-d585-4fc3-87d7-5d3e90a7830a/poster-154.webp 154w,https://img.reelgood.com/content/movie/88cc9e4e-d585-4fc3-87d7-5d3e90a7830a/poster-185.webp 185w,https://img.reelgood.com/content/movie/88cc9e4e-d585-4fc3-87d7-5d3e90a7830a/poster-342.webp 342w\" type=\"image/webp\"/><source srcset=\"https://img.reelgood.com/content/movie/88cc9e4e-d585-4fc3-87d7-5d3e90a7830a/poster-92.jpg 92w,https://img.reelgood.com/content/movie/88cc9e4e-d585-4fc3-87d7-5d3e90a7830a/poster-154.jpg 154w,https://img.reelgood.com/content/movie/88cc9e4e-d585-4fc3-87d7-5d3e90a7830a/poster-185.jpg 185w,https://img.reelgood.com/content/movie/88cc9e4e-d585-4fc3-87d7-5d3e90a7830a/poster-342.jpg 342w\" type=\"image/jpeg\"/><img alt=\"The Pianist Poster\" class=\"css-4rt6dn e1181ybh1\" data-async-image=\"true\" decoding=\"async\" src=\"https://img.reelgood.com/content/movie/88cc9e4e-d585-4fc3-87d7-5d3e90a7830a/poster-342.jpg\"/></picture></div></a></td><td class=\"css-1u7zfla e126mwsw1\"><a href=\"/movie/the-pianist-2002\">The Pianist</a><meta content=\"9\" itemprop=\"position\"/><meta content=\"https://reelgood.com/movie/the-pianist-2002\" itemprop=\"url\"/></td><td class=\"css-0\"></td><td class=\"css-1u11l3y\">2002</td><td class=\"css-1u11l3y\">18+</td><td class=\"css-1u11l3y\">8.5</td><td class=\"css-1u11l3y\">95%</td><td class=\"css-1vuzpp2\"><span class=\"css-1uvh71f\"><div class=\"css-koqe8h e11eoopx0\"><img alt=\"netflix\" src=\"https://img.reelgood.com/service-logos/netflix.svg\"/></div></span><span class=\"css-1uvh71f\"><div class=\"css-koqe8h e11eoopx0\"><img alt=\"amazon_prime\" src=\"https://img.reelgood.com/service-logos/amazon_prime.svg\"/></div></span><span class=\"css-1llszt4\">+ Rent or Buy</span><span><span class=\"css-1fmire8\"></span></span></td><td class=\"css-y8aj3r\"></td><td class=\"css-1g4hjyy\"><div class=\"css-1bnyegh\"><div class=\"css-1ov9pc1 e126mwsw1\"><span>Want To See</span><img alt=\"Want To See Icon\" src=\"data:image/svg+xml;base64,PHN2ZyB4bWxucz0iaHR0cDovL3d3dy53My5vcmcvMjAwMC9zdmciIHdpZHRoPSIxMiIgaGVpZ2h0PSIxMiI+PHBhdGggZD0iTTQuMzY3IDB2NC4zNjdIMHYzLjI2Nmg0LjM2N1YxMmgzLjI2N1Y3LjYzM0gxMlY0LjM2N0g3LjYzNFYweiIgZmlsbD0iI0ZGRiIgZmlsbC1ydWxlPSJldmVub2RkIi8+PC9zdmc+\" title=\"Add movie to watchlist\"/></div><div class=\"css-1ov9pc1 e126mwsw1\"><span>Seen</span><img alt=\"Check Mark Icon\" src=\"data:image/svg+xml;base64,PHN2ZyB4bWxucz0iaHR0cDovL3d3dy53My5vcmcvMjAwMC9zdmciIHdpZHRoPSIxMSIgaGVpZ2h0PSIxMiI+PHBhdGggZD0iTTYuOTk0IDEuNTA0TDMuODUyIDYuODY3bC0xLjU4Ny0yLjZMMCA1LjUybDMuODYyIDYuMzI2TDExIDB6IiBmaWxsPSIjRkZGIiBmaWxsLXJ1bGU9ImV2ZW5vZGQiLz48L3N2Zz4=\" title=\"Mark movie as seen\"/></div></div></td></tr><tr class=\"css-o6sgwe\" itemprop=\"itemListElement\" itemscope=\"\" itemtype=\"//schema.org/ListItem\"><td class=\"css-1n32qfq\"><a href=\"/movie/spider-man-into-the-spider-verse-2018\"><div class=\"css-1rashen e126mwsw1\"><picture class=\"css-b4kcmh e1181ybh0\"><source srcset=\"https://img.reelgood.com/content/movie/f3d91837-a2ff-4250-99b0-e8c9c036a23a/poster-92.webp 92w,https://img.reelgood.com/content/movie/f3d91837-a2ff-4250-99b0-e8c9c036a23a/poster-154.webp 154w,https://img.reelgood.com/content/movie/f3d91837-a2ff-4250-99b0-e8c9c036a23a/poster-185.webp 185w,https://img.reelgood.com/content/movie/f3d91837-a2ff-4250-99b0-e8c9c036a23a/poster-342.webp 342w\" type=\"image/webp\"/><source srcset=\"https://img.reelgood.com/content/movie/f3d91837-a2ff-4250-99b0-e8c9c036a23a/poster-92.jpg 92w,https://img.reelgood.com/content/movie/f3d91837-a2ff-4250-99b0-e8c9c036a23a/poster-154.jpg 154w,https://img.reelgood.com/content/movie/f3d91837-a2ff-4250-99b0-e8c9c036a23a/poster-185.jpg 185w,https://img.reelgood.com/content/movie/f3d91837-a2ff-4250-99b0-e8c9c036a23a/poster-342.jpg 342w\" type=\"image/jpeg\"/><img alt=\"Spider-Man: Into the Spider-Verse Poster\" class=\"css-4rt6dn e1181ybh1\" data-async-image=\"true\" decoding=\"async\" src=\"https://img.reelgood.com/content/movie/f3d91837-a2ff-4250-99b0-e8c9c036a23a/poster-342.jpg\"/></picture></div></a></td><td class=\"css-1u7zfla e126mwsw1\"><a href=\"/movie/spider-man-into-the-spider-verse-2018\">Spider-Man: Into the Spider-Verse</a><meta content=\"10\" itemprop=\"position\"/><meta content=\"https://reelgood.com/movie/spider-man-into-the-spider-verse-2018\" itemprop=\"url\"/></td><td class=\"css-0\"></td><td class=\"css-1u11l3y\">2018</td><td class=\"css-1u11l3y\">7+</td><td class=\"css-1u11l3y\">8.4</td><td class=\"css-1u11l3y\">97%</td><td class=\"css-1vuzpp2\"><span class=\"css-1uvh71f\"><div class=\"css-koqe8h e11eoopx0\"><img alt=\"netflix\" src=\"https://img.reelgood.com/service-logos/netflix.svg\"/></div></span><span class=\"css-1llszt4\">+ Rent or Buy</span><span><span class=\"css-1fmire8\"></span></span></td><td class=\"css-y8aj3r\"></td><td class=\"css-1g4hjyy\"><div class=\"css-1bnyegh\"><div class=\"css-1ov9pc1 e126mwsw1\"><span>Want To See</span><img alt=\"Want To See Icon\" src=\"data:image/svg+xml;base64,PHN2ZyB4bWxucz0iaHR0cDovL3d3dy53My5vcmcvMjAwMC9zdmciIHdpZHRoPSIxMiIgaGVpZ2h0PSIxMiI+PHBhdGggZD0iTTQuMzY3IDB2NC4zNjdIMHYzLjI2Nmg0LjM2N1YxMmgzLjI2N1Y3LjYzM0gxMlY0LjM2N0g3LjYzNFYweiIgZmlsbD0iI0ZGRiIgZmlsbC1ydWxlPSJldmVub2RkIi8+PC9zdmc+\" title=\"Add movie to watchlist\"/></div><div class=\"css-1ov9pc1 e126mwsw1\"><span>Seen</span><img alt=\"Check Mark Icon\" src=\"data:image/svg+xml;base64,PHN2ZyB4bWxucz0iaHR0cDovL3d3dy53My5vcmcvMjAwMC9zdmciIHdpZHRoPSIxMSIgaGVpZ2h0PSIxMiI+PHBhdGggZD0iTTYuOTk0IDEuNTA0TDMuODUyIDYuODY3bC0xLjU4Ny0yLjZMMCA1LjUybDMuODYyIDYuMzI2TDExIDB6IiBmaWxsPSIjRkZGIiBmaWxsLXJ1bGU9ImV2ZW5vZGQiLz48L3N2Zz4=\" title=\"Mark movie as seen\"/></div></div></td></tr><tr class=\"css-o6sgwe\" itemprop=\"itemListElement\" itemscope=\"\" itemtype=\"//schema.org/ListItem\"><td class=\"css-1n32qfq\"><a href=\"/movie/raiders-of-the-lost-ark-1981\"><div class=\"css-1rashen e126mwsw1\"><picture class=\"css-b4kcmh e1181ybh0\"><source srcset=\"https://img.reelgood.com/content/movie/4d949e14-b08b-47fb-bab0-22c732dbedf3/poster-92.webp 92w,https://img.reelgood.com/content/movie/4d949e14-b08b-47fb-bab0-22c732dbedf3/poster-154.webp 154w,https://img.reelgood.com/content/movie/4d949e14-b08b-47fb-bab0-22c732dbedf3/poster-185.webp 185w,https://img.reelgood.com/content/movie/4d949e14-b08b-47fb-bab0-22c732dbedf3/poster-342.webp 342w\" type=\"image/webp\"/><source srcset=\"https://img.reelgood.com/content/movie/4d949e14-b08b-47fb-bab0-22c732dbedf3/poster-92.jpg 92w,https://img.reelgood.com/content/movie/4d949e14-b08b-47fb-bab0-22c732dbedf3/poster-154.jpg 154w,https://img.reelgood.com/content/movie/4d949e14-b08b-47fb-bab0-22c732dbedf3/poster-185.jpg 185w,https://img.reelgood.com/content/movie/4d949e14-b08b-47fb-bab0-22c732dbedf3/poster-342.jpg 342w\" type=\"image/jpeg\"/><img alt=\"Raiders of the Lost Ark Poster\" class=\"css-4rt6dn e1181ybh1\" data-async-image=\"true\" decoding=\"async\" src=\"https://img.reelgood.com/content/movie/4d949e14-b08b-47fb-bab0-22c732dbedf3/poster-342.jpg\"/></picture></div></a></td><td class=\"css-1u7zfla e126mwsw1\"><a href=\"/movie/raiders-of-the-lost-ark-1981\">Raiders of the Lost Ark</a><meta content=\"11\" itemprop=\"position\"/><meta content=\"https://reelgood.com/movie/raiders-of-the-lost-ark-1981\" itemprop=\"url\"/></td><td class=\"css-0\"></td><td class=\"css-1u11l3y\">1981</td><td class=\"css-1u11l3y\">7+</td><td class=\"css-1u11l3y\">8.4</td><td class=\"css-1u11l3y\">95%</td><td class=\"css-1vuzpp2\"><span class=\"css-1uvh71f\"><div class=\"css-koqe8h e11eoopx0\"><img alt=\"netflix\" src=\"https://img.reelgood.com/service-logos/netflix.svg\"/></div></span><span class=\"css-1llszt4\">+ Rent or Buy</span><span><span class=\"css-1fmire8\"></span></span></td><td class=\"css-y8aj3r\"></td><td class=\"css-1g4hjyy\"><div class=\"css-1bnyegh\"><div class=\"css-1ov9pc1 e126mwsw1\"><span>Want To See</span><img alt=\"Want To See Icon\" src=\"data:image/svg+xml;base64,PHN2ZyB4bWxucz0iaHR0cDovL3d3dy53My5vcmcvMjAwMC9zdmciIHdpZHRoPSIxMiIgaGVpZ2h0PSIxMiI+PHBhdGggZD0iTTQuMzY3IDB2NC4zNjdIMHYzLjI2Nmg0LjM2N1YxMmgzLjI2N1Y3LjYzM0gxMlY0LjM2N0g3LjYzNFYweiIgZmlsbD0iI0ZGRiIgZmlsbC1ydWxlPSJldmVub2RkIi8+PC9zdmc+\" title=\"Add movie to watchlist\"/></div><div class=\"css-1ov9pc1 e126mwsw1\"><span>Seen</span><img alt=\"Check Mark Icon\" src=\"data:image/svg+xml;base64,PHN2ZyB4bWxucz0iaHR0cDovL3d3dy53My5vcmcvMjAwMC9zdmciIHdpZHRoPSIxMSIgaGVpZ2h0PSIxMiI+PHBhdGggZD0iTTYuOTk0IDEuNTA0TDMuODUyIDYuODY3bC0xLjU4Ny0yLjZMMCA1LjUybDMuODYyIDYuMzI2TDExIDB6IiBmaWxsPSIjRkZGIiBmaWxsLXJ1bGU9ImV2ZW5vZGQiLz48L3N2Zz4=\" title=\"Mark movie as seen\"/></div></div></td></tr><tr class=\"css-gfsdx9\" itemprop=\"itemListElement\" itemscope=\"\" itemtype=\"//schema.org/ListItem\"><td class=\"css-1n32qfq\"><a href=\"/show/avatar-the-last-airbender-2005\"><div class=\"css-1rashen e126mwsw1\"><picture class=\"css-b4kcmh e1181ybh0\"><source srcset=\"https://img.reelgood.com/content/show/8cf463d8-ccba-4392-b852-d372a11a2a92/poster-92.webp 92w,https://img.reelgood.com/content/show/8cf463d8-ccba-4392-b852-d372a11a2a92/poster-154.webp 154w,https://img.reelgood.com/content/show/8cf463d8-ccba-4392-b852-d372a11a2a92/poster-185.webp 185w,https://img.reelgood.com/content/show/8cf463d8-ccba-4392-b852-d372a11a2a92/poster-342.webp 342w\" type=\"image/webp\"/><source srcset=\"https://img.reelgood.com/content/show/8cf463d8-ccba-4392-b852-d372a11a2a92/poster-92.jpg 92w,https://img.reelgood.com/content/show/8cf463d8-ccba-4392-b852-d372a11a2a92/poster-154.jpg 154w,https://img.reelgood.com/content/show/8cf463d8-ccba-4392-b852-d372a11a2a92/poster-185.jpg 185w,https://img.reelgood.com/content/show/8cf463d8-ccba-4392-b852-d372a11a2a92/poster-342.jpg 342w\" type=\"image/jpeg\"/><img alt=\"Avatar: The Last Airbender Poster\" class=\"css-4rt6dn e1181ybh1\" data-async-image=\"true\" decoding=\"async\" src=\"https://img.reelgood.com/content/show/8cf463d8-ccba-4392-b852-d372a11a2a92/poster-342.jpg\"/></picture></div></a></td><td class=\"css-1u7zfla e126mwsw1\"><a href=\"/show/avatar-the-last-airbender-2005\">Avatar: The Last Airbender</a><meta content=\"12\" itemprop=\"position\"/><meta content=\"https://reelgood.com/show/avatar-the-last-airbender-2005\" itemprop=\"url\"/></td><td class=\"css-1azbcl6\"><span>TV</span></td><td class=\"css-1u11l3y\">2005</td><td class=\"css-1u11l3y\">7+</td><td class=\"css-1u11l3y\">9.2</td><td class=\"css-1u11l3y\">100%</td><td class=\"css-1vuzpp2\"><span class=\"css-1uvh71f\"><div class=\"css-koqe8h e11eoopx0\"><img alt=\"netflix\" src=\"https://img.reelgood.com/service-logos/netflix.svg\"/></div></span><span class=\"css-1llszt4\">+ Rent or Buy</span><span><span class=\"css-1fmire8\"></span></span></td><td class=\"css-9fnwd0\"><div class=\"css-0\">61 <span>Free Episodes</span></div></td><td class=\"css-1g4hjyy\"><div class=\"css-1bnyegh\"><div class=\"css-1ov9pc1 e126mwsw1\"><span>Track</span><img alt=\"Tracking Icon\" src=\"data:image/svg+xml;base64,PHN2ZyB4bWxucz0iaHR0cDovL3d3dy53My5vcmcvMjAwMC9zdmciIHdpZHRoPSIxMyIgaGVpZ2h0PSIxMyI+PHBhdGggZD0iTTEyLjU3NS41NzZMLjU3NiA1LjU1OWw1Ljc3MiAxLjI0NCAxLjI0NCA1Ljc3MnoiIGZpbGw9IiNGRkYiIGZpbGwtcnVsZT0iZXZlbm9kZCIvPjwvc3ZnPg==\" title=\"Track Show\"/><div class=\"css-1iaqbrw e16felo50\" id=\"trackItPopup\"><div class=\"css-5y4ld6 e16felo51\">Have You Seen?</div><button class=\"css-1hknzz6 eyx6tna1\" data-type=\"All\">All</button><button class=\"css-1hknzz6 eyx6tna1\" data-type=\"Some\">Some</button><button class=\"css-1hknzz6 eyx6tna1\" data-type=\"None\">None</button><button class=\"css-omf9uz e16felo52\" data-type=\"cancel\">Cancel</button></div></div></div></td></tr><tr class=\"css-o6sgwe\" itemprop=\"itemListElement\" itemscope=\"\" itemtype=\"//schema.org/ListItem\"><td class=\"css-1n32qfq\"><a href=\"/movie/inglourious-basterds-2009\"><div class=\"css-1rashen e126mwsw1\"><picture class=\"css-b4kcmh e1181ybh0\"><source srcset=\"https://img.reelgood.com/content/movie/566ade1b-7fb8-41eb-8b51-f010c3a246ac/poster-92.webp 92w,https://img.reelgood.com/content/movie/566ade1b-7fb8-41eb-8b51-f010c3a246ac/poster-154.webp 154w,https://img.reelgood.com/content/movie/566ade1b-7fb8-41eb-8b51-f010c3a246ac/poster-185.webp 185w,https://img.reelgood.com/content/movie/566ade1b-7fb8-41eb-8b51-f010c3a246ac/poster-342.webp 342w\" type=\"image/webp\"/><source srcset=\"https://img.reelgood.com/content/movie/566ade1b-7fb8-41eb-8b51-f010c3a246ac/poster-92.jpg 92w,https://img.reelgood.com/content/movie/566ade1b-7fb8-41eb-8b51-f010c3a246ac/poster-154.jpg 154w,https://img.reelgood.com/content/movie/566ade1b-7fb8-41eb-8b51-f010c3a246ac/poster-185.jpg 185w,https://img.reelgood.com/content/movie/566ade1b-7fb8-41eb-8b51-f010c3a246ac/poster-342.jpg 342w\" type=\"image/jpeg\"/><img alt=\"Inglourious Basterds Poster\" class=\"css-4rt6dn e1181ybh1\" data-async-image=\"true\" decoding=\"async\" src=\"https://img.reelgood.com/content/movie/566ade1b-7fb8-41eb-8b51-f010c3a246ac/poster-342.jpg\"/></picture></div></a></td><td class=\"css-1u7zfla e126mwsw1\"><a href=\"/movie/inglourious-basterds-2009\">Inglourious Basterds</a><meta content=\"13\" itemprop=\"position\"/><meta content=\"https://reelgood.com/movie/inglourious-basterds-2009\" itemprop=\"url\"/></td><td class=\"css-0\"></td><td class=\"css-1u11l3y\">2009</td><td class=\"css-1u11l3y\">18+</td><td class=\"css-1u11l3y\">8.3</td><td class=\"css-1u11l3y\">89%</td><td class=\"css-1vuzpp2\"><span class=\"css-1uvh71f\"><div class=\"css-koqe8h e11eoopx0\"><img alt=\"netflix\" src=\"https://img.reelgood.com/service-logos/netflix.svg\"/></div></span><span class=\"css-1llszt4\">+ Rent or Buy</span><span><span class=\"css-1fmire8\"></span></span></td><td class=\"css-y8aj3r\"></td><td class=\"css-1g4hjyy\"><div class=\"css-1bnyegh\"><div class=\"css-1ov9pc1 e126mwsw1\"><span>Want To See</span><img alt=\"Want To See Icon\" src=\"data:image/svg+xml;base64,PHN2ZyB4bWxucz0iaHR0cDovL3d3dy53My5vcmcvMjAwMC9zdmciIHdpZHRoPSIxMiIgaGVpZ2h0PSIxMiI+PHBhdGggZD0iTTQuMzY3IDB2NC4zNjdIMHYzLjI2Nmg0LjM2N1YxMmgzLjI2N1Y3LjYzM0gxMlY0LjM2N0g3LjYzNFYweiIgZmlsbD0iI0ZGRiIgZmlsbC1ydWxlPSJldmVub2RkIi8+PC9zdmc+\" title=\"Add movie to watchlist\"/></div><div class=\"css-1ov9pc1 e126mwsw1\"><span>Seen</span><img alt=\"Check Mark Icon\" src=\"data:image/svg+xml;base64,PHN2ZyB4bWxucz0iaHR0cDovL3d3dy53My5vcmcvMjAwMC9zdmciIHdpZHRoPSIxMSIgaGVpZ2h0PSIxMiI+PHBhdGggZD0iTTYuOTk0IDEuNTA0TDMuODUyIDYuODY3bC0xLjU4Ny0yLjZMMCA1LjUybDMuODYyIDYuMzI2TDExIDB6IiBmaWxsPSIjRkZGIiBmaWxsLXJ1bGU9ImV2ZW5vZGQiLz48L3N2Zz4=\" title=\"Mark movie as seen\"/></div></div></td></tr><tr class=\"css-o6sgwe\" itemprop=\"itemListElement\" itemscope=\"\" itemtype=\"//schema.org/ListItem\"><td class=\"css-1n32qfq\"><a href=\"/movie/taxi-driver-1976\"><div class=\"css-1rashen e126mwsw1\"><picture class=\"css-b4kcmh e1181ybh0\"><source srcset=\"https://img.reelgood.com/content/movie/372702a0-3e49-4bf3-812a-0c241a8c5ac9/poster-92.webp 92w,https://img.reelgood.com/content/movie/372702a0-3e49-4bf3-812a-0c241a8c5ac9/poster-154.webp 154w,https://img.reelgood.com/content/movie/372702a0-3e49-4bf3-812a-0c241a8c5ac9/poster-185.webp 185w,https://img.reelgood.com/content/movie/372702a0-3e49-4bf3-812a-0c241a8c5ac9/poster-342.webp 342w\" type=\"image/webp\"/><source srcset=\"https://img.reelgood.com/content/movie/372702a0-3e49-4bf3-812a-0c241a8c5ac9/poster-92.jpg 92w,https://img.reelgood.com/content/movie/372702a0-3e49-4bf3-812a-0c241a8c5ac9/poster-154.jpg 154w,https://img.reelgood.com/content/movie/372702a0-3e49-4bf3-812a-0c241a8c5ac9/poster-185.jpg 185w,https://img.reelgood.com/content/movie/372702a0-3e49-4bf3-812a-0c241a8c5ac9/poster-342.jpg 342w\" type=\"image/jpeg\"/><img alt=\"Taxi Driver Poster\" class=\"css-4rt6dn e1181ybh1\" data-async-image=\"true\" decoding=\"async\" src=\"https://img.reelgood.com/content/movie/372702a0-3e49-4bf3-812a-0c241a8c5ac9/poster-342.jpg\"/></picture></div></a></td><td class=\"css-1u7zfla e126mwsw1\"><a href=\"/movie/taxi-driver-1976\">Taxi Driver</a><meta content=\"14\" itemprop=\"position\"/><meta content=\"https://reelgood.com/movie/taxi-driver-1976\" itemprop=\"url\"/></td><td class=\"css-0\"></td><td class=\"css-1u11l3y\">1976</td><td class=\"css-1u11l3y\">18+</td><td class=\"css-1u11l3y\">8.3</td><td class=\"css-1u11l3y\">96%</td><td class=\"css-1vuzpp2\"><span class=\"css-1uvh71f\"><div class=\"css-koqe8h e11eoopx0\"><img alt=\"netflix\" src=\"https://img.reelgood.com/service-logos/netflix.svg\"/></div></span><span class=\"css-1uvh71f\"><div class=\"css-koqe8h e11eoopx0\"><img alt=\"criterion_channel\" src=\"https://img.reelgood.com/service-logos/criterion_channel.svg\"/></div></span><span class=\"css-1llszt4\">+ Rent or Buy</span><span><span class=\"css-1fmire8\"></span></span></td><td class=\"css-y8aj3r\"></td><td class=\"css-1g4hjyy\"><div class=\"css-1bnyegh\"><div class=\"css-1ov9pc1 e126mwsw1\"><span>Want To See</span><img alt=\"Want To See Icon\" src=\"data:image/svg+xml;base64,PHN2ZyB4bWxucz0iaHR0cDovL3d3dy53My5vcmcvMjAwMC9zdmciIHdpZHRoPSIxMiIgaGVpZ2h0PSIxMiI+PHBhdGggZD0iTTQuMzY3IDB2NC4zNjdIMHYzLjI2Nmg0LjM2N1YxMmgzLjI2N1Y3LjYzM0gxMlY0LjM2N0g3LjYzNFYweiIgZmlsbD0iI0ZGRiIgZmlsbC1ydWxlPSJldmVub2RkIi8+PC9zdmc+\" title=\"Add movie to watchlist\"/></div><div class=\"css-1ov9pc1 e126mwsw1\"><span>Seen</span><img alt=\"Check Mark Icon\" src=\"data:image/svg+xml;base64,PHN2ZyB4bWxucz0iaHR0cDovL3d3dy53My5vcmcvMjAwMC9zdmciIHdpZHRoPSIxMSIgaGVpZ2h0PSIxMiI+PHBhdGggZD0iTTYuOTk0IDEuNTA0TDMuODUyIDYuODY3bC0xLjU4Ny0yLjZMMCA1LjUybDMuODYyIDYuMzI2TDExIDB6IiBmaWxsPSIjRkZGIiBmaWxsLXJ1bGU9ImV2ZW5vZGQiLz48L3N2Zz4=\" title=\"Mark movie as seen\"/></div></div></td></tr><tr class=\"css-gfsdx9\" itemprop=\"itemListElement\" itemscope=\"\" itemtype=\"//schema.org/ListItem\"><td class=\"css-1n32qfq\"><a href=\"/show/sherlock-2010\"><div class=\"css-1rashen e126mwsw1\"><picture class=\"css-b4kcmh e1181ybh0\"><source srcset=\"https://img.reelgood.com/content/show/cb95f4e2-d119-4a1c-99cd-bda75ac33e32/poster-92.webp 92w,https://img.reelgood.com/content/show/cb95f4e2-d119-4a1c-99cd-bda75ac33e32/poster-154.webp 154w,https://img.reelgood.com/content/show/cb95f4e2-d119-4a1c-99cd-bda75ac33e32/poster-185.webp 185w,https://img.reelgood.com/content/show/cb95f4e2-d119-4a1c-99cd-bda75ac33e32/poster-342.webp 342w\" type=\"image/webp\"/><source srcset=\"https://img.reelgood.com/content/show/cb95f4e2-d119-4a1c-99cd-bda75ac33e32/poster-92.jpg 92w,https://img.reelgood.com/content/show/cb95f4e2-d119-4a1c-99cd-bda75ac33e32/poster-154.jpg 154w,https://img.reelgood.com/content/show/cb95f4e2-d119-4a1c-99cd-bda75ac33e32/poster-185.jpg 185w,https://img.reelgood.com/content/show/cb95f4e2-d119-4a1c-99cd-bda75ac33e32/poster-342.jpg 342w\" type=\"image/jpeg\"/><img alt=\"Sherlock Poster\" class=\"css-4rt6dn e1181ybh1\" data-async-image=\"true\" decoding=\"async\" src=\"https://img.reelgood.com/content/show/cb95f4e2-d119-4a1c-99cd-bda75ac33e32/poster-342.jpg\"/></picture></div></a></td><td class=\"css-1u7zfla e126mwsw1\"><a href=\"/show/sherlock-2010\">Sherlock</a><meta content=\"15\" itemprop=\"position\"/><meta content=\"https://reelgood.com/show/sherlock-2010\" itemprop=\"url\"/></td><td class=\"css-1azbcl6\"><span>TV</span></td><td class=\"css-1u11l3y\">2010</td><td class=\"css-1u11l3y\">16+</td><td class=\"css-1u11l3y\">9.1</td><td class=\"css-1u11l3y\">78%</td><td class=\"css-1vuzpp2\"><span class=\"css-1uvh71f\"><div class=\"css-koqe8h e11eoopx0\"><img alt=\"netflix\" src=\"https://img.reelgood.com/service-logos/netflix.svg\"/></div></span><span class=\"css-1llszt4\">+ Rent or Buy</span><span><span class=\"css-1fmire8\"></span></span></td><td class=\"css-9fnwd0\"><div class=\"css-0\">12 <span>Free Episodes</span></div></td><td class=\"css-1g4hjyy\"><div class=\"css-1bnyegh\"><div class=\"css-1ov9pc1 e126mwsw1\"><span>Track</span><img alt=\"Tracking Icon\" src=\"data:image/svg+xml;base64,PHN2ZyB4bWxucz0iaHR0cDovL3d3dy53My5vcmcvMjAwMC9zdmciIHdpZHRoPSIxMyIgaGVpZ2h0PSIxMyI+PHBhdGggZD0iTTEyLjU3NS41NzZMLjU3NiA1LjU1OWw1Ljc3MiAxLjI0NCAxLjI0NCA1Ljc3MnoiIGZpbGw9IiNGRkYiIGZpbGwtcnVsZT0iZXZlbm9kZCIvPjwvc3ZnPg==\" title=\"Track Show\"/><div class=\"css-1iaqbrw e16felo50\" id=\"trackItPopup\"><div class=\"css-5y4ld6 e16felo51\">Have You Seen?</div><button class=\"css-1hknzz6 eyx6tna1\" data-type=\"All\">All</button><button class=\"css-1hknzz6 eyx6tna1\" data-type=\"Some\">Some</button><button class=\"css-1hknzz6 eyx6tna1\" data-type=\"None\">None</button><button class=\"css-omf9uz e16felo52\" data-type=\"cancel\">Cancel</button></div></div></div></td></tr><tr class=\"css-gfsdx9\" itemprop=\"itemListElement\" itemscope=\"\" itemtype=\"//schema.org/ListItem\"><td class=\"css-1n32qfq\"><a href=\"/show/money-heist-2017\"><div class=\"css-1rashen e126mwsw1\"><picture class=\"css-b4kcmh e1181ybh0\"><source srcset=\"https://img.reelgood.com/content/show/a1690196-5da4-447b-85c8-bf1e799dd465/poster-92.webp 92w,https://img.reelgood.com/content/show/a1690196-5da4-447b-85c8-bf1e799dd465/poster-154.webp 154w,https://img.reelgood.com/content/show/a1690196-5da4-447b-85c8-bf1e799dd465/poster-185.webp 185w,https://img.reelgood.com/content/show/a1690196-5da4-447b-85c8-bf1e799dd465/poster-342.webp 342w\" type=\"image/webp\"/><source srcset=\"https://img.reelgood.com/content/show/a1690196-5da4-447b-85c8-bf1e799dd465/poster-92.jpg 92w,https://img.reelgood.com/content/show/a1690196-5da4-447b-85c8-bf1e799dd465/poster-154.jpg 154w,https://img.reelgood.com/content/show/a1690196-5da4-447b-85c8-bf1e799dd465/poster-185.jpg 185w,https://img.reelgood.com/content/show/a1690196-5da4-447b-85c8-bf1e799dd465/poster-342.jpg 342w\" type=\"image/jpeg\"/><img alt=\"Money Heist Poster\" class=\"css-4rt6dn e1181ybh1\" data-async-image=\"true\" decoding=\"async\" src=\"https://img.reelgood.com/content/show/a1690196-5da4-447b-85c8-bf1e799dd465/poster-342.jpg\"/></picture></div></a></td><td class=\"css-1u7zfla e126mwsw1\"><a href=\"/show/money-heist-2017\">Money Heist</a><meta content=\"16\" itemprop=\"position\"/><meta content=\"https://reelgood.com/show/money-heist-2017\" itemprop=\"url\"/></td><td class=\"css-1azbcl6\"><span>TV</span></td><td class=\"css-1u11l3y\">2017</td><td class=\"css-1u11l3y\">18+</td><td class=\"css-1u11l3y\">8.4</td><td class=\"css-1u11l3y\">91%</td><td class=\"css-1vuzpp2\"><span class=\"css-1uvh71f\"><div class=\"css-koqe8h e11eoopx0\"><img alt=\"netflix\" src=\"https://img.reelgood.com/service-logos/netflix.svg\"/></div></span><span><span class=\"css-1fmire8\"></span></span></td><td class=\"css-9fnwd0\"><div class=\"css-0\">38 <span>Free Episodes</span></div></td><td class=\"css-1g4hjyy\"><div class=\"css-1bnyegh\"><div class=\"css-1ov9pc1 e126mwsw1\"><span>Track</span><img alt=\"Tracking Icon\" src=\"data:image/svg+xml;base64,PHN2ZyB4bWxucz0iaHR0cDovL3d3dy53My5vcmcvMjAwMC9zdmciIHdpZHRoPSIxMyIgaGVpZ2h0PSIxMyI+PHBhdGggZD0iTTEyLjU3NS41NzZMLjU3NiA1LjU1OWw1Ljc3MiAxLjI0NCAxLjI0NCA1Ljc3MnoiIGZpbGw9IiNGRkYiIGZpbGwtcnVsZT0iZXZlbm9kZCIvPjwvc3ZnPg==\" title=\"Track Show\"/><div class=\"css-1iaqbrw e16felo50\" id=\"trackItPopup\"><div class=\"css-5y4ld6 e16felo51\">Have You Seen?</div><button class=\"css-1hknzz6 eyx6tna1\" data-type=\"All\">All</button><button class=\"css-1hknzz6 eyx6tna1\" data-type=\"Some\">Some</button><button class=\"css-1hknzz6 eyx6tna1\" data-type=\"None\">None</button><button class=\"css-omf9uz e16felo52\" data-type=\"cancel\">Cancel</button></div></div></div></td></tr><tr class=\"css-o6sgwe\" itemprop=\"itemListElement\" itemscope=\"\" itemtype=\"//schema.org/ListItem\"><td class=\"css-1n32qfq\"><a href=\"/movie/3-idiots-2009\"><div class=\"css-1rashen e126mwsw1\"><picture class=\"css-b4kcmh e1181ybh0\"><source srcset=\"https://img.reelgood.com/content/movie/26bb8427-79b8-47e5-ae3f-272110a486aa/poster-92.webp 92w,https://img.reelgood.com/content/movie/26bb8427-79b8-47e5-ae3f-272110a486aa/poster-154.webp 154w,https://img.reelgood.com/content/movie/26bb8427-79b8-47e5-ae3f-272110a486aa/poster-185.webp 185w,https://img.reelgood.com/content/movie/26bb8427-79b8-47e5-ae3f-272110a486aa/poster-342.webp 342w\" type=\"image/webp\"/><source srcset=\"https://img.reelgood.com/content/movie/26bb8427-79b8-47e5-ae3f-272110a486aa/poster-92.jpg 92w,https://img.reelgood.com/content/movie/26bb8427-79b8-47e5-ae3f-272110a486aa/poster-154.jpg 154w,https://img.reelgood.com/content/movie/26bb8427-79b8-47e5-ae3f-272110a486aa/poster-185.jpg 185w,https://img.reelgood.com/content/movie/26bb8427-79b8-47e5-ae3f-272110a486aa/poster-342.jpg 342w\" type=\"image/jpeg\"/><img alt=\"3 Idiots Poster\" class=\"css-4rt6dn e1181ybh1\" data-async-image=\"true\" decoding=\"async\" src=\"https://img.reelgood.com/content/movie/26bb8427-79b8-47e5-ae3f-272110a486aa/poster-342.jpg\"/></picture></div></a></td><td class=\"css-1u7zfla e126mwsw1\"><a href=\"/movie/3-idiots-2009\">3 Idiots</a><meta content=\"17\" itemprop=\"position\"/><meta content=\"https://reelgood.com/movie/3-idiots-2009\" itemprop=\"url\"/></td><td class=\"css-0\"></td><td class=\"css-1u11l3y\">2009</td><td class=\"css-1u11l3y\">13+</td><td class=\"css-1u11l3y\">8.4</td><td class=\"css-1u11l3y\">100%</td><td class=\"css-1vuzpp2\"><span class=\"css-1uvh71f\"><div class=\"css-koqe8h e11eoopx0\"><img alt=\"netflix\" src=\"https://img.reelgood.com/service-logos/netflix.svg\"/></div></span><span class=\"css-1uvh71f\"><div class=\"css-koqe8h e11eoopx0\"><img alt=\"amazon_prime\" src=\"https://img.reelgood.com/service-logos/amazon_prime.svg\"/></div></span><span><span class=\"css-1fmire8\"></span></span></td><td class=\"css-y8aj3r\"></td><td class=\"css-1g4hjyy\"><div class=\"css-1bnyegh\"><div class=\"css-1ov9pc1 e126mwsw1\"><span>Want To See</span><img alt=\"Want To See Icon\" src=\"data:image/svg+xml;base64,PHN2ZyB4bWxucz0iaHR0cDovL3d3dy53My5vcmcvMjAwMC9zdmciIHdpZHRoPSIxMiIgaGVpZ2h0PSIxMiI+PHBhdGggZD0iTTQuMzY3IDB2NC4zNjdIMHYzLjI2Nmg0LjM2N1YxMmgzLjI2N1Y3LjYzM0gxMlY0LjM2N0g3LjYzNFYweiIgZmlsbD0iI0ZGRiIgZmlsbC1ydWxlPSJldmVub2RkIi8+PC9zdmc+\" title=\"Add movie to watchlist\"/></div><div class=\"css-1ov9pc1 e126mwsw1\"><span>Seen</span><img alt=\"Check Mark Icon\" src=\"data:image/svg+xml;base64,PHN2ZyB4bWxucz0iaHR0cDovL3d3dy53My5vcmcvMjAwMC9zdmciIHdpZHRoPSIxMSIgaGVpZ2h0PSIxMiI+PHBhdGggZD0iTTYuOTk0IDEuNTA0TDMuODUyIDYuODY3bC0xLjU4Ny0yLjZMMCA1LjUybDMuODYyIDYuMzI2TDExIDB6IiBmaWxsPSIjRkZGIiBmaWxsLXJ1bGU9ImV2ZW5vZGQiLz48L3N2Zz4=\" title=\"Mark movie as seen\"/></div></div></td></tr><tr class=\"css-o6sgwe\" itemprop=\"itemListElement\" itemscope=\"\" itemtype=\"//schema.org/ListItem\"><td class=\"css-1n32qfq\"><a href=\"/movie/pans-labyrinth-2006\"><div class=\"css-1rashen e126mwsw1\"><picture class=\"css-b4kcmh e1181ybh0\"><source srcset=\"https://img.reelgood.com/content/movie/c028d6f7-d6d0-4a41-a3b6-a7c3b1b1b614/poster-92.webp 92w,https://img.reelgood.com/content/movie/c028d6f7-d6d0-4a41-a3b6-a7c3b1b1b614/poster-154.webp 154w,https://img.reelgood.com/content/movie/c028d6f7-d6d0-4a41-a3b6-a7c3b1b1b614/poster-185.webp 185w,https://img.reelgood.com/content/movie/c028d6f7-d6d0-4a41-a3b6-a7c3b1b1b614/poster-342.webp 342w\" type=\"image/webp\"/><source srcset=\"https://img.reelgood.com/content/movie/c028d6f7-d6d0-4a41-a3b6-a7c3b1b1b614/poster-92.jpg 92w,https://img.reelgood.com/content/movie/c028d6f7-d6d0-4a41-a3b6-a7c3b1b1b614/poster-154.jpg 154w,https://img.reelgood.com/content/movie/c028d6f7-d6d0-4a41-a3b6-a7c3b1b1b614/poster-185.jpg 185w,https://img.reelgood.com/content/movie/c028d6f7-d6d0-4a41-a3b6-a7c3b1b1b614/poster-342.jpg 342w\" type=\"image/jpeg\"/><img alt=\"Pan's Labyrinth Poster\" class=\"css-4rt6dn e1181ybh1\" data-async-image=\"true\" decoding=\"async\" src=\"https://img.reelgood.com/content/movie/c028d6f7-d6d0-4a41-a3b6-a7c3b1b1b614/poster-342.jpg\"/></picture></div></a></td><td class=\"css-1u7zfla e126mwsw1\"><a href=\"/movie/pans-labyrinth-2006\">Pan's Labyrinth</a><meta content=\"18\" itemprop=\"position\"/><meta content=\"https://reelgood.com/movie/pans-labyrinth-2006\" itemprop=\"url\"/></td><td class=\"css-0\"></td><td class=\"css-1u11l3y\">2006</td><td class=\"css-1u11l3y\">18+</td><td class=\"css-1u11l3y\">8.2</td><td class=\"css-1u11l3y\">95%</td><td class=\"css-1vuzpp2\"><span class=\"css-1uvh71f\"><div class=\"css-koqe8h e11eoopx0\"><img alt=\"netflix\" src=\"https://img.reelgood.com/service-logos/netflix.svg\"/></div></span><span class=\"css-1llszt4\">+ Rent or Buy</span><span><span class=\"css-1fmire8\"></span></span></td><td class=\"css-y8aj3r\"></td><td class=\"css-1g4hjyy\"><div class=\"css-1bnyegh\"><div class=\"css-1ov9pc1 e126mwsw1\"><span>Want To See</span><img alt=\"Want To See Icon\" src=\"data:image/svg+xml;base64,PHN2ZyB4bWxucz0iaHR0cDovL3d3dy53My5vcmcvMjAwMC9zdmciIHdpZHRoPSIxMiIgaGVpZ2h0PSIxMiI+PHBhdGggZD0iTTQuMzY3IDB2NC4zNjdIMHYzLjI2Nmg0LjM2N1YxMmgzLjI2N1Y3LjYzM0gxMlY0LjM2N0g3LjYzNFYweiIgZmlsbD0iI0ZGRiIgZmlsbC1ydWxlPSJldmVub2RkIi8+PC9zdmc+\" title=\"Add movie to watchlist\"/></div><div class=\"css-1ov9pc1 e126mwsw1\"><span>Seen</span><img alt=\"Check Mark Icon\" src=\"data:image/svg+xml;base64,PHN2ZyB4bWxucz0iaHR0cDovL3d3dy53My5vcmcvMjAwMC9zdmciIHdpZHRoPSIxMSIgaGVpZ2h0PSIxMiI+PHBhdGggZD0iTTYuOTk0IDEuNTA0TDMuODUyIDYuODY3bC0xLjU4Ny0yLjZMMCA1LjUybDMuODYyIDYuMzI2TDExIDB6IiBmaWxsPSIjRkZGIiBmaWxsLXJ1bGU9ImV2ZW5vZGQiLz48L3N2Zz4=\" title=\"Mark movie as seen\"/></div></div></td></tr><tr class=\"css-gfsdx9\" itemprop=\"itemListElement\" itemscope=\"\" itemtype=\"//schema.org/ListItem\"><td class=\"css-1n32qfq\"><a href=\"/show/dark-2017\"><div class=\"css-1rashen e126mwsw1\"><picture class=\"css-b4kcmh e1181ybh0\"><source srcset=\"https://img.reelgood.com/content/show/b9802965-16f0-4d3f-9b2c-891656532924/poster-92.webp 92w,https://img.reelgood.com/content/show/b9802965-16f0-4d3f-9b2c-891656532924/poster-154.webp 154w,https://img.reelgood.com/content/show/b9802965-16f0-4d3f-9b2c-891656532924/poster-185.webp 185w,https://img.reelgood.com/content/show/b9802965-16f0-4d3f-9b2c-891656532924/poster-342.webp 342w\" type=\"image/webp\"/><source srcset=\"https://img.reelgood.com/content/show/b9802965-16f0-4d3f-9b2c-891656532924/poster-92.jpg 92w,https://img.reelgood.com/content/show/b9802965-16f0-4d3f-9b2c-891656532924/poster-154.jpg 154w,https://img.reelgood.com/content/show/b9802965-16f0-4d3f-9b2c-891656532924/poster-185.jpg 185w,https://img.reelgood.com/content/show/b9802965-16f0-4d3f-9b2c-891656532924/poster-342.jpg 342w\" type=\"image/jpeg\"/><img alt=\"Dark Poster\" class=\"css-4rt6dn e1181ybh1\" data-async-image=\"true\" decoding=\"async\" src=\"https://img.reelgood.com/content/show/b9802965-16f0-4d3f-9b2c-891656532924/poster-342.jpg\"/></picture></div></a></td><td class=\"css-1u7zfla e126mwsw1\"><a href=\"/show/dark-2017\">Dark</a><meta content=\"19\" itemprop=\"position\"/><meta content=\"https://reelgood.com/show/dark-2017\" itemprop=\"url\"/></td><td class=\"css-1azbcl6\"><span>TV</span></td><td class=\"css-1u11l3y\">2017</td><td class=\"css-1u11l3y\">16+</td><td class=\"css-1u11l3y\">8.7</td><td class=\"css-1u11l3y\">94%</td><td class=\"css-1vuzpp2\"><span class=\"css-1uvh71f\"><div class=\"css-koqe8h e11eoopx0\"><img alt=\"netflix\" src=\"https://img.reelgood.com/service-logos/netflix.svg\"/></div></span><span><span class=\"css-1fmire8\"></span></span></td><td class=\"css-9fnwd0\"><div class=\"css-0\">18 <span>Free Episodes</span></div></td><td class=\"css-1g4hjyy\"><div class=\"css-1bnyegh\"><div class=\"css-1ov9pc1 e126mwsw1\"><span>Track</span><img alt=\"Tracking Icon\" src=\"data:image/svg+xml;base64,PHN2ZyB4bWxucz0iaHR0cDovL3d3dy53My5vcmcvMjAwMC9zdmciIHdpZHRoPSIxMyIgaGVpZ2h0PSIxMyI+PHBhdGggZD0iTTEyLjU3NS41NzZMLjU3NiA1LjU1OWw1Ljc3MiAxLjI0NCAxLjI0NCA1Ljc3MnoiIGZpbGw9IiNGRkYiIGZpbGwtcnVsZT0iZXZlbm9kZCIvPjwvc3ZnPg==\" title=\"Track Show\"/><div class=\"css-1iaqbrw e16felo50\" id=\"trackItPopup\"><div class=\"css-5y4ld6 e16felo51\">Have You Seen?</div><button class=\"css-1hknzz6 eyx6tna1\" data-type=\"All\">All</button><button class=\"css-1hknzz6 eyx6tna1\" data-type=\"Some\">Some</button><button class=\"css-1hknzz6 eyx6tna1\" data-type=\"None\">None</button><button class=\"css-omf9uz e16felo52\" data-type=\"cancel\">Cancel</button></div></div></div></td></tr><tr class=\"css-o6sgwe\" itemprop=\"itemListElement\" itemscope=\"\" itemtype=\"//schema.org/ListItem\"><td class=\"css-1n32qfq\"><a href=\"/movie/room-2015\"><div class=\"css-1rashen e126mwsw1\"><picture class=\"css-b4kcmh e1181ybh0\"><source srcset=\"https://img.reelgood.com/content/movie/9fb4b518-b407-467d-b076-fb2d2c541593/poster-92.webp 92w,https://img.reelgood.com/content/movie/9fb4b518-b407-467d-b076-fb2d2c541593/poster-154.webp 154w,https://img.reelgood.com/content/movie/9fb4b518-b407-467d-b076-fb2d2c541593/poster-185.webp 185w,https://img.reelgood.com/content/movie/9fb4b518-b407-467d-b076-fb2d2c541593/poster-342.webp 342w\" type=\"image/webp\"/><source srcset=\"https://img.reelgood.com/content/movie/9fb4b518-b407-467d-b076-fb2d2c541593/poster-92.jpg 92w,https://img.reelgood.com/content/movie/9fb4b518-b407-467d-b076-fb2d2c541593/poster-154.jpg 154w,https://img.reelgood.com/content/movie/9fb4b518-b407-467d-b076-fb2d2c541593/poster-185.jpg 185w,https://img.reelgood.com/content/movie/9fb4b518-b407-467d-b076-fb2d2c541593/poster-342.jpg 342w\" type=\"image/jpeg\"/><img alt=\"Room Poster\" class=\"css-4rt6dn e1181ybh1\" data-async-image=\"true\" decoding=\"async\" src=\"https://img.reelgood.com/content/movie/9fb4b518-b407-467d-b076-fb2d2c541593/poster-342.jpg\"/></picture></div></a></td><td class=\"css-1u7zfla e126mwsw1\"><a href=\"/movie/room-2015\">Room</a><meta content=\"20\" itemprop=\"position\"/><meta content=\"https://reelgood.com/movie/room-2015\" itemprop=\"url\"/></td><td class=\"css-0\"></td><td class=\"css-1u11l3y\">2015</td><td class=\"css-1u11l3y\">18+</td><td class=\"css-1u11l3y\">8.1</td><td class=\"css-1u11l3y\">93%</td><td class=\"css-1vuzpp2\"><span class=\"css-1uvh71f\"><div class=\"css-koqe8h e11eoopx0\"><img alt=\"netflix\" src=\"https://img.reelgood.com/service-logos/netflix.svg\"/></div></span><span class=\"css-1uvh71f\"><div class=\"css-koqe8h e11eoopx0\"><img alt=\"kanopy\" src=\"https://img.reelgood.com/service-logos/kanopy.svg\"/></div></span><span class=\"css-1llszt4\">+ Rent or Buy</span><span><span class=\"css-1fmire8\"></span></span></td><td class=\"css-y8aj3r\"></td><td class=\"css-1g4hjyy\"><div class=\"css-1bnyegh\"><div class=\"css-1ov9pc1 e126mwsw1\"><span>Want To See</span><img alt=\"Want To See Icon\" src=\"data:image/svg+xml;base64,PHN2ZyB4bWxucz0iaHR0cDovL3d3dy53My5vcmcvMjAwMC9zdmciIHdpZHRoPSIxMiIgaGVpZ2h0PSIxMiI+PHBhdGggZD0iTTQuMzY3IDB2NC4zNjdIMHYzLjI2Nmg0LjM2N1YxMmgzLjI2N1Y3LjYzM0gxMlY0LjM2N0g3LjYzNFYweiIgZmlsbD0iI0ZGRiIgZmlsbC1ydWxlPSJldmVub2RkIi8+PC9zdmc+\" title=\"Add movie to watchlist\"/></div><div class=\"css-1ov9pc1 e126mwsw1\"><span>Seen</span><img alt=\"Check Mark Icon\" src=\"data:image/svg+xml;base64,PHN2ZyB4bWxucz0iaHR0cDovL3d3dy53My5vcmcvMjAwMC9zdmciIHdpZHRoPSIxMSIgaGVpZ2h0PSIxMiI+PHBhdGggZD0iTTYuOTk0IDEuNTA0TDMuODUyIDYuODY3bC0xLjU4Ny0yLjZMMCA1LjUybDMuODYyIDYuMzI2TDExIDB6IiBmaWxsPSIjRkZGIiBmaWxsLXJ1bGU9ImV2ZW5vZGQiLz48L3N2Zz4=\" title=\"Mark movie as seen\"/></div></div></td></tr><tr class=\"css-o6sgwe\" itemprop=\"itemListElement\" itemscope=\"\" itemtype=\"//schema.org/ListItem\"><td class=\"css-1n32qfq\"><a href=\"/movie/monty-python-and-the-holy-grail-1975\"><div class=\"css-1rashen e126mwsw1\"><picture class=\"css-b4kcmh e1181ybh0\"><source srcset=\"https://img.reelgood.com/content/movie/cb7f9b74-5876-4f1b-a1d6-496246b229f8/poster-92.webp 92w,https://img.reelgood.com/content/movie/cb7f9b74-5876-4f1b-a1d6-496246b229f8/poster-154.webp 154w,https://img.reelgood.com/content/movie/cb7f9b74-5876-4f1b-a1d6-496246b229f8/poster-185.webp 185w,https://img.reelgood.com/content/movie/cb7f9b74-5876-4f1b-a1d6-496246b229f8/poster-342.webp 342w\" type=\"image/webp\"/><source srcset=\"https://img.reelgood.com/content/movie/cb7f9b74-5876-4f1b-a1d6-496246b229f8/poster-92.jpg 92w,https://img.reelgood.com/content/movie/cb7f9b74-5876-4f1b-a1d6-496246b229f8/poster-154.jpg 154w,https://img.reelgood.com/content/movie/cb7f9b74-5876-4f1b-a1d6-496246b229f8/poster-185.jpg 185w,https://img.reelgood.com/content/movie/cb7f9b74-5876-4f1b-a1d6-496246b229f8/poster-342.jpg 342w\" type=\"image/jpeg\"/><img alt=\"Monty Python and the Holy Grail Poster\" class=\"css-4rt6dn e1181ybh1\" data-async-image=\"true\" decoding=\"async\" src=\"https://img.reelgood.com/content/movie/cb7f9b74-5876-4f1b-a1d6-496246b229f8/poster-342.jpg\"/></picture></div></a></td><td class=\"css-1u7zfla e126mwsw1\"><a href=\"/movie/monty-python-and-the-holy-grail-1975\">Monty Python and the Holy Grail</a><meta content=\"21\" itemprop=\"position\"/><meta content=\"https://reelgood.com/movie/monty-python-and-the-holy-grail-1975\" itemprop=\"url\"/></td><td class=\"css-0\"></td><td class=\"css-1u11l3y\">1975</td><td class=\"css-1u11l3y\">7+</td><td class=\"css-1u11l3y\">8.2</td><td class=\"css-1u11l3y\">97%</td><td class=\"css-1vuzpp2\"><span class=\"css-1uvh71f\"><div class=\"css-koqe8h e11eoopx0\"><img alt=\"netflix\" src=\"https://img.reelgood.com/service-logos/netflix.svg\"/></div></span><span class=\"css-1llszt4\">+ Rent or Buy</span><span><span class=\"css-1fmire8\"></span></span></td><td class=\"css-y8aj3r\"></td><td class=\"css-1g4hjyy\"><div class=\"css-1bnyegh\"><div class=\"css-1ov9pc1 e126mwsw1\"><span>Want To See</span><img alt=\"Want To See Icon\" src=\"data:image/svg+xml;base64,PHN2ZyB4bWxucz0iaHR0cDovL3d3dy53My5vcmcvMjAwMC9zdmciIHdpZHRoPSIxMiIgaGVpZ2h0PSIxMiI+PHBhdGggZD0iTTQuMzY3IDB2NC4zNjdIMHYzLjI2Nmg0LjM2N1YxMmgzLjI2N1Y3LjYzM0gxMlY0LjM2N0g3LjYzNFYweiIgZmlsbD0iI0ZGRiIgZmlsbC1ydWxlPSJldmVub2RkIi8+PC9zdmc+\" title=\"Add movie to watchlist\"/></div><div class=\"css-1ov9pc1 e126mwsw1\"><span>Seen</span><img alt=\"Check Mark Icon\" src=\"data:image/svg+xml;base64,PHN2ZyB4bWxucz0iaHR0cDovL3d3dy53My5vcmcvMjAwMC9zdmciIHdpZHRoPSIxMSIgaGVpZ2h0PSIxMiI+PHBhdGggZD0iTTYuOTk0IDEuNTA0TDMuODUyIDYuODY3bC0xLjU4Ny0yLjZMMCA1LjUybDMuODYyIDYuMzI2TDExIDB6IiBmaWxsPSIjRkZGIiBmaWxsLXJ1bGU9ImV2ZW5vZGQiLz48L3N2Zz4=\" title=\"Mark movie as seen\"/></div></div></td></tr><tr class=\"css-o6sgwe\" itemprop=\"itemListElement\" itemscope=\"\" itemtype=\"//schema.org/ListItem\"><td class=\"css-1n32qfq\"><a href=\"/movie/indiana-jones-and-the-last-crusade-1989\"><div class=\"css-1rashen e126mwsw1\"><picture class=\"css-b4kcmh e1181ybh0\"><source srcset=\"https://img.reelgood.com/content/movie/2dfccc2c-42cc-4a06-81a7-8d1da3284283/poster-92.webp 92w,https://img.reelgood.com/content/movie/2dfccc2c-42cc-4a06-81a7-8d1da3284283/poster-154.webp 154w,https://img.reelgood.com/content/movie/2dfccc2c-42cc-4a06-81a7-8d1da3284283/poster-185.webp 185w,https://img.reelgood.com/content/movie/2dfccc2c-42cc-4a06-81a7-8d1da3284283/poster-342.webp 342w\" type=\"image/webp\"/><source srcset=\"https://img.reelgood.com/content/movie/2dfccc2c-42cc-4a06-81a7-8d1da3284283/poster-92.jpg 92w,https://img.reelgood.com/content/movie/2dfccc2c-42cc-4a06-81a7-8d1da3284283/poster-154.jpg 154w,https://img.reelgood.com/content/movie/2dfccc2c-42cc-4a06-81a7-8d1da3284283/poster-185.jpg 185w,https://img.reelgood.com/content/movie/2dfccc2c-42cc-4a06-81a7-8d1da3284283/poster-342.jpg 342w\" type=\"image/jpeg\"/><img alt=\"Indiana Jones and the Last Crusade Poster\" class=\"css-4rt6dn e1181ybh1\" data-async-image=\"true\" decoding=\"async\" src=\"https://img.reelgood.com/content/movie/2dfccc2c-42cc-4a06-81a7-8d1da3284283/poster-342.jpg\"/></picture></div></a></td><td class=\"css-1u7zfla e126mwsw1\"><a href=\"/movie/indiana-jones-and-the-last-crusade-1989\">Indiana Jones and the Last Crusade</a><meta content=\"22\" itemprop=\"position\"/><meta content=\"https://reelgood.com/movie/indiana-jones-and-the-last-crusade-1989\" itemprop=\"url\"/></td><td class=\"css-0\"></td><td class=\"css-1u11l3y\">1989</td><td class=\"css-1u11l3y\">13+</td><td class=\"css-1u11l3y\">8.2</td><td class=\"css-1u11l3y\">89%</td><td class=\"css-1vuzpp2\"><span class=\"css-1uvh71f\"><div class=\"css-koqe8h e11eoopx0\"><img alt=\"netflix\" src=\"https://img.reelgood.com/service-logos/netflix.svg\"/></div></span><span class=\"css-1llszt4\">+ Rent or Buy</span><span><span class=\"css-1fmire8\"></span></span></td><td class=\"css-y8aj3r\"></td><td class=\"css-1g4hjyy\"><div class=\"css-1bnyegh\"><div class=\"css-1ov9pc1 e126mwsw1\"><span>Want To See</span><img alt=\"Want To See Icon\" src=\"data:image/svg+xml;base64,PHN2ZyB4bWxucz0iaHR0cDovL3d3dy53My5vcmcvMjAwMC9zdmciIHdpZHRoPSIxMiIgaGVpZ2h0PSIxMiI+PHBhdGggZD0iTTQuMzY3IDB2NC4zNjdIMHYzLjI2Nmg0LjM2N1YxMmgzLjI2N1Y3LjYzM0gxMlY0LjM2N0g3LjYzNFYweiIgZmlsbD0iI0ZGRiIgZmlsbC1ydWxlPSJldmVub2RkIi8+PC9zdmc+\" title=\"Add movie to watchlist\"/></div><div class=\"css-1ov9pc1 e126mwsw1\"><span>Seen</span><img alt=\"Check Mark Icon\" src=\"data:image/svg+xml;base64,PHN2ZyB4bWxucz0iaHR0cDovL3d3dy53My5vcmcvMjAwMC9zdmciIHdpZHRoPSIxMSIgaGVpZ2h0PSIxMiI+PHBhdGggZD0iTTYuOTk0IDEuNTA0TDMuODUyIDYuODY3bC0xLjU4Ny0yLjZMMCA1LjUybDMuODYyIDYuMzI2TDExIDB6IiBmaWxsPSIjRkZGIiBmaWxsLXJ1bGU9ImV2ZW5vZGQiLz48L3N2Zz4=\" title=\"Mark movie as seen\"/></div></div></td></tr><tr class=\"css-gfsdx9\" itemprop=\"itemListElement\" itemscope=\"\" itemtype=\"//schema.org/ListItem\"><td class=\"css-1n32qfq\"><a href=\"/show/the-office-2005\"><div class=\"css-1rashen e126mwsw1\"><picture class=\"css-b4kcmh e1181ybh0\"><source srcset=\"https://img.reelgood.com/content/show/53a973fc-70d6-48ca-b9ef-893c35342e47/poster-92.webp 92w,https://img.reelgood.com/content/show/53a973fc-70d6-48ca-b9ef-893c35342e47/poster-154.webp 154w,https://img.reelgood.com/content/show/53a973fc-70d6-48ca-b9ef-893c35342e47/poster-185.webp 185w,https://img.reelgood.com/content/show/53a973fc-70d6-48ca-b9ef-893c35342e47/poster-342.webp 342w\" type=\"image/webp\"/><source srcset=\"https://img.reelgood.com/content/show/53a973fc-70d6-48ca-b9ef-893c35342e47/poster-92.jpg 92w,https://img.reelgood.com/content/show/53a973fc-70d6-48ca-b9ef-893c35342e47/poster-154.jpg 154w,https://img.reelgood.com/content/show/53a973fc-70d6-48ca-b9ef-893c35342e47/poster-185.jpg 185w,https://img.reelgood.com/content/show/53a973fc-70d6-48ca-b9ef-893c35342e47/poster-342.jpg 342w\" type=\"image/jpeg\"/><img alt=\"The Office Poster\" class=\"css-4rt6dn e1181ybh1\" data-async-image=\"true\" decoding=\"async\" src=\"https://img.reelgood.com/content/show/53a973fc-70d6-48ca-b9ef-893c35342e47/poster-342.jpg\"/></picture></div></a></td><td class=\"css-1u7zfla e126mwsw1\"><a href=\"/show/the-office-2005\">The Office</a><meta content=\"23\" itemprop=\"position\"/><meta content=\"https://reelgood.com/show/the-office-2005\" itemprop=\"url\"/></td><td class=\"css-1azbcl6\"><span>TV</span></td><td class=\"css-1u11l3y\">2005</td><td class=\"css-1u11l3y\">16+</td><td class=\"css-1u11l3y\">8.9</td><td class=\"css-1u11l3y\">81%</td><td class=\"css-1vuzpp2\"><span class=\"css-1uvh71f\"><div class=\"css-1teokc7 e11eoopx0\"><img alt=\"netflix\" src=\"https://img.reelgood.com/service-logos/netflix.svg\"/></div></span><span class=\"css-1uvh71f\"><div class=\"css-1teokc7 e11eoopx0\"><img alt=\"comedycentral_tveverywhere\" src=\"https://img.reelgood.com/service-logos/comedy.svg\"/></div></span><span class=\"css-1uvh71f\"><div class=\"css-1teokc7 e11eoopx0\"><img alt=\"fubo_tv\" src=\"https://img.reelgood.com/service-logos/fubo_tv.svg\"/></div></span><span class=\"css-16a9vcn\">+ Rent or Buy</span><span><span class=\"css-1e0xpdq\"></span></span></td><td class=\"css-9fnwd0\"><div class=\"css-0\">199 <span>Free Episodes</span></div></td><td class=\"css-1g4hjyy\"><div class=\"css-1bnyegh\"><div class=\"css-1ov9pc1 e126mwsw1\"><span>Track</span><img alt=\"Tracking Icon\" src=\"data:image/svg+xml;base64,PHN2ZyB4bWxucz0iaHR0cDovL3d3dy53My5vcmcvMjAwMC9zdmciIHdpZHRoPSIxMyIgaGVpZ2h0PSIxMyI+PHBhdGggZD0iTTEyLjU3NS41NzZMLjU3NiA1LjU1OWw1Ljc3MiAxLjI0NCAxLjI0NCA1Ljc3MnoiIGZpbGw9IiNGRkYiIGZpbGwtcnVsZT0iZXZlbm9kZCIvPjwvc3ZnPg==\" title=\"Track Show\"/><div class=\"css-1iaqbrw e16felo50\" id=\"trackItPopup\"><div class=\"css-5y4ld6 e16felo51\">Have You Seen?</div><button class=\"css-1hknzz6 eyx6tna1\" data-type=\"All\">All</button><button class=\"css-1hknzz6 eyx6tna1\" data-type=\"Some\">Some</button><button class=\"css-1hknzz6 eyx6tna1\" data-type=\"None\">None</button><button class=\"css-omf9uz e16felo52\" data-type=\"cancel\">Cancel</button></div></div></div></td></tr><tr class=\"css-gfsdx9\" itemprop=\"itemListElement\" itemscope=\"\" itemtype=\"//schema.org/ListItem\"><td class=\"css-1n32qfq\"><a href=\"/show/supernatural-2005\"><div class=\"css-1rashen e126mwsw1\"><picture class=\"css-b4kcmh e1181ybh0\"><source srcset=\"https://img.reelgood.com/content/show/0ee54d59-1dde-4110-b03c-8ddf4c0851bc/poster-92.webp 92w,https://img.reelgood.com/content/show/0ee54d59-1dde-4110-b03c-8ddf4c0851bc/poster-154.webp 154w,https://img.reelgood.com/content/show/0ee54d59-1dde-4110-b03c-8ddf4c0851bc/poster-185.webp 185w,https://img.reelgood.com/content/show/0ee54d59-1dde-4110-b03c-8ddf4c0851bc/poster-342.webp 342w\" type=\"image/webp\"/><source srcset=\"https://img.reelgood.com/content/show/0ee54d59-1dde-4110-b03c-8ddf4c0851bc/poster-92.jpg 92w,https://img.reelgood.com/content/show/0ee54d59-1dde-4110-b03c-8ddf4c0851bc/poster-154.jpg 154w,https://img.reelgood.com/content/show/0ee54d59-1dde-4110-b03c-8ddf4c0851bc/poster-185.jpg 185w,https://img.reelgood.com/content/show/0ee54d59-1dde-4110-b03c-8ddf4c0851bc/poster-342.jpg 342w\" type=\"image/jpeg\"/><img alt=\"Supernatural Poster\" class=\"css-4rt6dn e1181ybh1\" data-async-image=\"true\" decoding=\"async\" src=\"https://img.reelgood.com/content/show/0ee54d59-1dde-4110-b03c-8ddf4c0851bc/poster-342.jpg\"/></picture></div></a></td><td class=\"css-1u7zfla e126mwsw1\"><a href=\"/show/supernatural-2005\">Supernatural</a><meta content=\"24\" itemprop=\"position\"/><meta content=\"https://reelgood.com/show/supernatural-2005\" itemprop=\"url\"/></td><td class=\"css-1azbcl6\"><span>TV</span></td><td class=\"css-1u11l3y\">2005</td><td class=\"css-1u11l3y\">16+</td><td class=\"css-1u11l3y\">8.4</td><td class=\"css-1u11l3y\">93%</td><td class=\"css-1vuzpp2\"><span class=\"css-1uvh71f\"><style data-emotion-css=\"1wa6pbt\">.css-1wa6pbt{width:50px;height:25px;margin:0 2px;cursor:pointer;vertical-align:middle;}@media screen and (max-width:1010px){.css-1wa6pbt{width:45px;height:23px;margin:0 1px;}}@media screen and (max-width:2200px){.css-1wa6pbt:nth-of-type(1n+5){counter-increment:sourcesCount;visibility:hidden;width:0;height:0;font-size:0;float:left;}}@media screen and (max-width:1350px){.css-1wa6pbt:nth-of-type(1n+4){counter-increment:sourcesCount;visibility:hidden;width:0;height:0;font-size:0;float:left;}}@media screen and (max-width:1010px){.css-1wa6pbt:nth-of-type(1n+3){counter-increment:sourcesCount;visibility:hidden;width:0;height:0;font-size:0;float:left;}}</style><style data-emotion-css=\"19ybu1g\">.css-19ybu1g{width:48px;height:24px;display:inline-block;overflow:hidden;border-radius:3px;margin-left:5px;width:50px;height:25px;margin:0 2px;cursor:pointer;vertical-align:middle;}.css-19ybu1g img{position:relative;width:100%;}.css-19ybu1g img::after{content:'';display:block;position:absolute;top:0;left:0;z-index:2;width:48px;height:24px;background-image:linear-gradient(139deg,#00e18c,#00e46a);border-radius:3px;}@media screen and (max-width:1010px){.css-19ybu1g{width:45px;height:23px;margin:0 1px;}}@media screen and (max-width:2200px){.css-19ybu1g:nth-of-type(1n+5){counter-increment:sourcesCount;visibility:hidden;width:0;height:0;font-size:0;float:left;}}@media screen and (max-width:1350px){.css-19ybu1g:nth-of-type(1n+4){counter-increment:sourcesCount;visibility:hidden;width:0;height:0;font-size:0;float:left;}}@media screen and (max-width:1010px){.css-19ybu1g:nth-of-type(1n+3){counter-increment:sourcesCount;visibility:hidden;width:0;height:0;font-size:0;float:left;}}</style><div class=\"css-19ybu1g e11eoopx0\"><img alt=\"free\" src=\"https://img.reelgood.com/service-logos/free.svg\"/></div></span><span class=\"css-1uvh71f\"><div class=\"css-19ybu1g e11eoopx0\"><img alt=\"netflix\" src=\"https://img.reelgood.com/service-logos/netflix.svg\"/></div></span><span class=\"css-1uvh71f\"><div class=\"css-19ybu1g e11eoopx0\"><img alt=\"tnt\" src=\"https://img.reelgood.com/service-logos/tnt.svg\"/></div></span><span class=\"css-1uvh71f\"><div class=\"css-19ybu1g e11eoopx0\"><img alt=\"fubo_tv\" src=\"https://img.reelgood.com/service-logos/fubo_tv.svg\"/></div></span><style data-emotion-css=\"16q7f9e\">.css-16q7f9e{display:inline-block;line-height:25px;margin-left:3px;cursor:pointer;font-size:13px;white-space:pre;vertical-align:middle;}@media screen and (max-width:2200px){.css-16q7f9e{counter-increment:sourcesCount;visibility:hidden;width:0;height:0;font-size:0;float:left;}}@media screen and (max-width:1350px){.css-16q7f9e{counter-increment:sourcesCount;visibility:hidden;width:0;height:0;font-size:0;float:left;}}@media screen and (max-width:1010px){.css-16q7f9e{counter-increment:sourcesCount;visibility:hidden;width:0;height:0;font-size:0;float:left;}}</style><span class=\"css-16q7f9e\">+ Rent or Buy</span><span><style data-emotion-css=\"r9230s\">.css-r9230s{display:inline-block;vertical-align:middle;}.css-r9230s::before{margin-left:3px;cursor:pointer;font-size:13px;white-space:pre;}@media screen and (max-width:1350px){.css-r9230s::before{margin-left:2px;}}@media screen and (max-width:1010px){.css-r9230s::before{font-size:12px;}}@media screen and (max-width:2200px){.css-r9230s::before{display:initial;content:\"+ \" counter(sourcesCount);}}</style><span class=\"css-r9230s\"></span></span></td><td class=\"css-9fnwd0\"><div class=\"css-0\">320 <span>Free Episodes</span></div></td><td class=\"css-1g4hjyy\"><div class=\"css-1bnyegh\"><div class=\"css-1ov9pc1 e126mwsw1\"><span>Track</span><img alt=\"Tracking Icon\" src=\"data:image/svg+xml;base64,PHN2ZyB4bWxucz0iaHR0cDovL3d3dy53My5vcmcvMjAwMC9zdmciIHdpZHRoPSIxMyIgaGVpZ2h0PSIxMyI+PHBhdGggZD0iTTEyLjU3NS41NzZMLjU3NiA1LjU1OWw1Ljc3MiAxLjI0NCAxLjI0NCA1Ljc3MnoiIGZpbGw9IiNGRkYiIGZpbGwtcnVsZT0iZXZlbm9kZCIvPjwvc3ZnPg==\" title=\"Track Show\"/><div class=\"css-1iaqbrw e16felo50\" id=\"trackItPopup\"><div class=\"css-5y4ld6 e16felo51\">Have You Seen?</div><button class=\"css-1hknzz6 eyx6tna1\" data-type=\"All\">All</button><button class=\"css-1hknzz6 eyx6tna1\" data-type=\"Some\">Some</button><button class=\"css-1hknzz6 eyx6tna1\" data-type=\"None\">None</button><button class=\"css-omf9uz e16felo52\" data-type=\"cancel\">Cancel</button></div></div></div></td></tr><tr class=\"css-o6sgwe\" itemprop=\"itemListElement\" itemscope=\"\" itemtype=\"//schema.org/ListItem\"><td class=\"css-1n32qfq\"><a href=\"/movie/groundhog-day-1993\"><div class=\"css-1rashen e126mwsw1\"><picture class=\"css-b4kcmh e1181ybh0\"><source srcset=\"https://img.reelgood.com/content/movie/7973d78c-3472-4c2e-ad1a-7f0af3f4ad9a/poster-92.webp 92w,https://img.reelgood.com/content/movie/7973d78c-3472-4c2e-ad1a-7f0af3f4ad9a/poster-154.webp 154w,https://img.reelgood.com/content/movie/7973d78c-3472-4c2e-ad1a-7f0af3f4ad9a/poster-185.webp 185w,https://img.reelgood.com/content/movie/7973d78c-3472-4c2e-ad1a-7f0af3f4ad9a/poster-342.webp 342w\" type=\"image/webp\"/><source srcset=\"https://img.reelgood.com/content/movie/7973d78c-3472-4c2e-ad1a-7f0af3f4ad9a/poster-92.jpg 92w,https://img.reelgood.com/content/movie/7973d78c-3472-4c2e-ad1a-7f0af3f4ad9a/poster-154.jpg 154w,https://img.reelgood.com/content/movie/7973d78c-3472-4c2e-ad1a-7f0af3f4ad9a/poster-185.jpg 185w,https://img.reelgood.com/content/movie/7973d78c-3472-4c2e-ad1a-7f0af3f4ad9a/poster-342.jpg 342w\" type=\"image/jpeg\"/><img alt=\"Groundhog Day Poster\" class=\"css-4rt6dn e1181ybh1\" data-async-image=\"true\" decoding=\"async\" src=\"https://img.reelgood.com/content/movie/7973d78c-3472-4c2e-ad1a-7f0af3f4ad9a/poster-342.jpg\"/></picture></div></a></td><td class=\"css-1u7zfla e126mwsw1\"><a href=\"/movie/groundhog-day-1993\">Groundhog Day</a><meta content=\"25\" itemprop=\"position\"/><meta content=\"https://reelgood.com/movie/groundhog-day-1993\" itemprop=\"url\"/></td><td class=\"css-0\"></td><td class=\"css-1u11l3y\">1993</td><td class=\"css-1u11l3y\">7+</td><td class=\"css-1u11l3y\">8.0</td><td class=\"css-1u11l3y\">96%</td><td class=\"css-1vuzpp2\"><span class=\"css-1uvh71f\"><div class=\"css-koqe8h e11eoopx0\"><img alt=\"netflix\" src=\"https://img.reelgood.com/service-logos/netflix.svg\"/></div></span><span class=\"css-1llszt4\">+ Rent or Buy</span><span><span class=\"css-1fmire8\"></span></span></td><td class=\"css-y8aj3r\"></td><td class=\"css-1g4hjyy\"><div class=\"css-1bnyegh\"><div class=\"css-1ov9pc1 e126mwsw1\"><span>Want To See</span><img alt=\"Want To See Icon\" src=\"data:image/svg+xml;base64,PHN2ZyB4bWxucz0iaHR0cDovL3d3dy53My5vcmcvMjAwMC9zdmciIHdpZHRoPSIxMiIgaGVpZ2h0PSIxMiI+PHBhdGggZD0iTTQuMzY3IDB2NC4zNjdIMHYzLjI2Nmg0LjM2N1YxMmgzLjI2N1Y3LjYzM0gxMlY0LjM2N0g3LjYzNFYweiIgZmlsbD0iI0ZGRiIgZmlsbC1ydWxlPSJldmVub2RkIi8+PC9zdmc+\" title=\"Add movie to watchlist\"/></div><div class=\"css-1ov9pc1 e126mwsw1\"><span>Seen</span><img alt=\"Check Mark Icon\" src=\"data:image/svg+xml;base64,PHN2ZyB4bWxucz0iaHR0cDovL3d3dy53My5vcmcvMjAwMC9zdmciIHdpZHRoPSIxMSIgaGVpZ2h0PSIxMiI+PHBhdGggZD0iTTYuOTk0IDEuNTA0TDMuODUyIDYuODY3bC0xLjU4Ny0yLjZMMCA1LjUybDMuODYyIDYuMzI2TDExIDB6IiBmaWxsPSIjRkZGIiBmaWxsLXJ1bGU9ImV2ZW5vZGQiLz48L3N2Zz4=\" title=\"Mark movie as seen\"/></div></div></td></tr><tr class=\"css-gfsdx9\" itemprop=\"itemListElement\" itemscope=\"\" itemtype=\"//schema.org/ListItem\"><td class=\"css-1n32qfq\"><a href=\"/show/better-call-saul-2015\"><div class=\"css-1rashen e126mwsw1\"><picture class=\"css-b4kcmh e1181ybh0\"><source srcset=\"https://img.reelgood.com/content/show/b00e228d-4520-4545-b63e-839384faceb0/poster-92.webp 92w,https://img.reelgood.com/content/show/b00e228d-4520-4545-b63e-839384faceb0/poster-154.webp 154w,https://img.reelgood.com/content/show/b00e228d-4520-4545-b63e-839384faceb0/poster-185.webp 185w,https://img.reelgood.com/content/show/b00e228d-4520-4545-b63e-839384faceb0/poster-342.webp 342w\" type=\"image/webp\"/><source srcset=\"https://img.reelgood.com/content/show/b00e228d-4520-4545-b63e-839384faceb0/poster-92.jpg 92w,https://img.reelgood.com/content/show/b00e228d-4520-4545-b63e-839384faceb0/poster-154.jpg 154w,https://img.reelgood.com/content/show/b00e228d-4520-4545-b63e-839384faceb0/poster-185.jpg 185w,https://img.reelgood.com/content/show/b00e228d-4520-4545-b63e-839384faceb0/poster-342.jpg 342w\" type=\"image/jpeg\"/><img alt=\"Better Call Saul Poster\" class=\"css-4rt6dn e1181ybh1\" data-async-image=\"true\" decoding=\"async\" src=\"https://img.reelgood.com/content/show/b00e228d-4520-4545-b63e-839384faceb0/poster-342.jpg\"/></picture></div></a></td><td class=\"css-1u7zfla e126mwsw1\"><a href=\"/show/better-call-saul-2015\">Better Call Saul</a><meta content=\"26\" itemprop=\"position\"/><meta content=\"https://reelgood.com/show/better-call-saul-2015\" itemprop=\"url\"/></td><td class=\"css-1azbcl6\"><span>TV</span></td><td class=\"css-1u11l3y\">2015</td><td class=\"css-1u11l3y\">18+</td><td class=\"css-1u11l3y\">8.7</td><td class=\"css-1u11l3y\">97%</td><td class=\"css-1vuzpp2\"><span class=\"css-1uvh71f\"><div class=\"css-koqe8h e11eoopx0\"><img alt=\"netflix\" src=\"https://img.reelgood.com/service-logos/netflix.svg\"/></div></span><span class=\"css-1llszt4\">+ Rent or Buy</span><span><span class=\"css-1fmire8\"></span></span></td><td class=\"css-9fnwd0\"><div class=\"css-0\">40 <span>Free Episodes</span></div></td><td class=\"css-1g4hjyy\"><div class=\"css-1bnyegh\"><div class=\"css-1ov9pc1 e126mwsw1\"><span>Track</span><img alt=\"Tracking Icon\" src=\"data:image/svg+xml;base64,PHN2ZyB4bWxucz0iaHR0cDovL3d3dy53My5vcmcvMjAwMC9zdmciIHdpZHRoPSIxMyIgaGVpZ2h0PSIxMyI+PHBhdGggZD0iTTEyLjU3NS41NzZMLjU3NiA1LjU1OWw1Ljc3MiAxLjI0NCAxLjI0NCA1Ljc3MnoiIGZpbGw9IiNGRkYiIGZpbGwtcnVsZT0iZXZlbm9kZCIvPjwvc3ZnPg==\" title=\"Track Show\"/><div class=\"css-1iaqbrw e16felo50\" id=\"trackItPopup\"><div class=\"css-5y4ld6 e16felo51\">Have You Seen?</div><button class=\"css-1hknzz6 eyx6tna1\" data-type=\"All\">All</button><button class=\"css-1hknzz6 eyx6tna1\" data-type=\"Some\">Some</button><button class=\"css-1hknzz6 eyx6tna1\" data-type=\"None\">None</button><button class=\"css-omf9uz e16felo52\" data-type=\"cancel\">Cancel</button></div></div></div></td></tr><tr class=\"css-gfsdx9\" itemprop=\"itemListElement\" itemscope=\"\" itemtype=\"//schema.org/ListItem\"><td class=\"css-1n32qfq\"><a href=\"/show/black-mirror-2011\"><div class=\"css-1rashen e126mwsw1\"><picture class=\"css-b4kcmh e1181ybh0\"><source srcset=\"https://img.reelgood.com/content/show/73193643-49a0-49a1-99d7-9243ea5ea59f/poster-92.webp 92w,https://img.reelgood.com/content/show/73193643-49a0-49a1-99d7-9243ea5ea59f/poster-154.webp 154w,https://img.reelgood.com/content/show/73193643-49a0-49a1-99d7-9243ea5ea59f/poster-185.webp 185w,https://img.reelgood.com/content/show/73193643-49a0-49a1-99d7-9243ea5ea59f/poster-342.webp 342w\" type=\"image/webp\"/><source srcset=\"https://img.reelgood.com/content/show/73193643-49a0-49a1-99d7-9243ea5ea59f/poster-92.jpg 92w,https://img.reelgood.com/content/show/73193643-49a0-49a1-99d7-9243ea5ea59f/poster-154.jpg 154w,https://img.reelgood.com/content/show/73193643-49a0-49a1-99d7-9243ea5ea59f/poster-185.jpg 185w,https://img.reelgood.com/content/show/73193643-49a0-49a1-99d7-9243ea5ea59f/poster-342.jpg 342w\" type=\"image/jpeg\"/><img alt=\"Black Mirror Poster\" class=\"css-4rt6dn e1181ybh1\" data-async-image=\"true\" decoding=\"async\" src=\"https://img.reelgood.com/content/show/73193643-49a0-49a1-99d7-9243ea5ea59f/poster-342.jpg\"/></picture></div></a></td><td class=\"css-1u7zfla e126mwsw1\"><a href=\"/show/black-mirror-2011\">Black Mirror</a><meta content=\"27\" itemprop=\"position\"/><meta content=\"https://reelgood.com/show/black-mirror-2011\" itemprop=\"url\"/></td><td class=\"css-1azbcl6\"><span>TV</span></td><td class=\"css-1u11l3y\">2011</td><td class=\"css-1u11l3y\">18+</td><td class=\"css-1u11l3y\">8.8</td><td class=\"css-1u11l3y\">83%</td><td class=\"css-1vuzpp2\"><span class=\"css-1uvh71f\"><div class=\"css-koqe8h e11eoopx0\"><img alt=\"netflix\" src=\"https://img.reelgood.com/service-logos/netflix.svg\"/></div></span><span><span class=\"css-1fmire8\"></span></span></td><td class=\"css-9fnwd0\"><div class=\"css-0\">21 <span>Free Episodes</span></div></td><td class=\"css-1g4hjyy\"><div class=\"css-1bnyegh\"><div class=\"css-1ov9pc1 e126mwsw1\"><span>Track</span><img alt=\"Tracking Icon\" src=\"data:image/svg+xml;base64,PHN2ZyB4bWxucz0iaHR0cDovL3d3dy53My5vcmcvMjAwMC9zdmciIHdpZHRoPSIxMyIgaGVpZ2h0PSIxMyI+PHBhdGggZD0iTTEyLjU3NS41NzZMLjU3NiA1LjU1OWw1Ljc3MiAxLjI0NCAxLjI0NCA1Ljc3MnoiIGZpbGw9IiNGRkYiIGZpbGwtcnVsZT0iZXZlbm9kZCIvPjwvc3ZnPg==\" title=\"Track Show\"/><div class=\"css-1iaqbrw e16felo50\" id=\"trackItPopup\"><div class=\"css-5y4ld6 e16felo51\">Have You Seen?</div><button class=\"css-1hknzz6 eyx6tna1\" data-type=\"All\">All</button><button class=\"css-1hknzz6 eyx6tna1\" data-type=\"Some\">Some</button><button class=\"css-1hknzz6 eyx6tna1\" data-type=\"None\">None</button><button class=\"css-omf9uz e16felo52\" data-type=\"cancel\">Cancel</button></div></div></div></td></tr><tr class=\"css-gfsdx9\" itemprop=\"itemListElement\" itemscope=\"\" itemtype=\"//schema.org/ListItem\"><td class=\"css-1n32qfq\"><a href=\"/show/attack-on-titan-2013\"><div class=\"css-1rashen e126mwsw1\"><picture class=\"css-b4kcmh e1181ybh0\"><source srcset=\"https://img.reelgood.com/content/show/136e00c2-b612-4651-882e-38188e3a751a/poster-92.webp 92w,https://img.reelgood.com/content/show/136e00c2-b612-4651-882e-38188e3a751a/poster-154.webp 154w,https://img.reelgood.com/content/show/136e00c2-b612-4651-882e-38188e3a751a/poster-185.webp 185w,https://img.reelgood.com/content/show/136e00c2-b612-4651-882e-38188e3a751a/poster-342.webp 342w\" type=\"image/webp\"/><source srcset=\"https://img.reelgood.com/content/show/136e00c2-b612-4651-882e-38188e3a751a/poster-92.jpg 92w,https://img.reelgood.com/content/show/136e00c2-b612-4651-882e-38188e3a751a/poster-154.jpg 154w,https://img.reelgood.com/content/show/136e00c2-b612-4651-882e-38188e3a751a/poster-185.jpg 185w,https://img.reelgood.com/content/show/136e00c2-b612-4651-882e-38188e3a751a/poster-342.jpg 342w\" type=\"image/jpeg\"/><img alt=\"Attack on Titan Poster\" class=\"css-4rt6dn e1181ybh1\" data-async-image=\"true\" decoding=\"async\" src=\"https://img.reelgood.com/content/show/136e00c2-b612-4651-882e-38188e3a751a/poster-342.jpg\"/></picture></div></a></td><td class=\"css-1u7zfla e126mwsw1\"><a href=\"/show/attack-on-titan-2013\">Attack on Titan</a><meta content=\"28\" itemprop=\"position\"/><meta content=\"https://reelgood.com/show/attack-on-titan-2013\" itemprop=\"url\"/></td><td class=\"css-1azbcl6\"><span>TV</span></td><td class=\"css-1u11l3y\">2013</td><td class=\"css-1u11l3y\">16+</td><td class=\"css-1u11l3y\">8.8</td><td class=\"css-1u11l3y\">94%</td><td class=\"css-1vuzpp2\"><span class=\"css-1uvh71f\"><div class=\"css-19ybu1g e11eoopx0\"><img alt=\"free\" src=\"https://img.reelgood.com/service-logos/free.svg\"/></div></span><span class=\"css-1uvh71f\"><div class=\"css-19ybu1g e11eoopx0\"><img alt=\"netflix\" src=\"https://img.reelgood.com/service-logos/netflix.svg\"/></div></span><span class=\"css-1uvh71f\"><div class=\"css-19ybu1g e11eoopx0\"><img alt=\"hulu_plus\" src=\"https://img.reelgood.com/service-logos/hulu.svg\"/></div></span><span class=\"css-1uvh71f\"><div class=\"css-19ybu1g e11eoopx0\"><img alt=\"crunchyroll_premium\" src=\"https://img.reelgood.com/service-logos/crunchyroll.svg\"/></div></span><span class=\"css-1uvh71f\"><div class=\"css-19ybu1g e11eoopx0\"><img alt=\"adult_swim_tveverywhere\" src=\"https://img.reelgood.com/service-logos/adult_swim.svg\"/></div></span><span class=\"css-1uvh71f\"><div class=\"css-19ybu1g e11eoopx0\"><img alt=\"fubo_tv\" src=\"https://img.reelgood.com/service-logos/fubo_tv.svg\"/></div></span><span class=\"css-1uvh71f\"><div class=\"css-19ybu1g e11eoopx0\"><img alt=\"funimation\" src=\"https://img.reelgood.com/service-logos/funimation.svg\"/></div></span><span class=\"css-16q7f9e\">+ Rent or Buy</span><span><span class=\"css-r9230s\"></span></span></td><td class=\"css-9fnwd0\"><div class=\"css-0\">25 <span>Free Episodes</span></div></td><td class=\"css-1g4hjyy\"><div class=\"css-1bnyegh\"><div class=\"css-1ov9pc1 e126mwsw1\"><span>Track</span><img alt=\"Tracking Icon\" src=\"data:image/svg+xml;base64,PHN2ZyB4bWxucz0iaHR0cDovL3d3dy53My5vcmcvMjAwMC9zdmciIHdpZHRoPSIxMyIgaGVpZ2h0PSIxMyI+PHBhdGggZD0iTTEyLjU3NS41NzZMLjU3NiA1LjU1OWw1Ljc3MiAxLjI0NCAxLjI0NCA1Ljc3MnoiIGZpbGw9IiNGRkYiIGZpbGwtcnVsZT0iZXZlbm9kZCIvPjwvc3ZnPg==\" title=\"Track Show\"/><div class=\"css-1iaqbrw e16felo50\" id=\"trackItPopup\"><div class=\"css-5y4ld6 e16felo51\">Have You Seen?</div><button class=\"css-1hknzz6 eyx6tna1\" data-type=\"All\">All</button><button class=\"css-1hknzz6 eyx6tna1\" data-type=\"Some\">Some</button><button class=\"css-1hknzz6 eyx6tna1\" data-type=\"None\">None</button><button class=\"css-omf9uz e16felo52\" data-type=\"cancel\">Cancel</button></div></div></div></td></tr><tr class=\"css-o6sgwe\" itemprop=\"itemListElement\" itemscope=\"\" itemtype=\"//schema.org/ListItem\"><td class=\"css-1n32qfq\"><a href=\"/movie/v-for-vendetta-2005\"><div class=\"css-1rashen e126mwsw1\"><picture class=\"css-b4kcmh e1181ybh0\"><source srcset=\"https://img.reelgood.com/content/movie/2202b6ee-17f8-4493-b2a3-aae2580a47a6/poster-92.webp 92w,https://img.reelgood.com/content/movie/2202b6ee-17f8-4493-b2a3-aae2580a47a6/poster-154.webp 154w,https://img.reelgood.com/content/movie/2202b6ee-17f8-4493-b2a3-aae2580a47a6/poster-185.webp 185w,https://img.reelgood.com/content/movie/2202b6ee-17f8-4493-b2a3-aae2580a47a6/poster-342.webp 342w\" type=\"image/webp\"/><source srcset=\"https://img.reelgood.com/content/movie/2202b6ee-17f8-4493-b2a3-aae2580a47a6/poster-92.jpg 92w,https://img.reelgood.com/content/movie/2202b6ee-17f8-4493-b2a3-aae2580a47a6/poster-154.jpg 154w,https://img.reelgood.com/content/movie/2202b6ee-17f8-4493-b2a3-aae2580a47a6/poster-185.jpg 185w,https://img.reelgood.com/content/movie/2202b6ee-17f8-4493-b2a3-aae2580a47a6/poster-342.jpg 342w\" type=\"image/jpeg\"/><img alt=\"V for Vendetta Poster\" class=\"css-4rt6dn e1181ybh1\" data-async-image=\"true\" decoding=\"async\" src=\"https://img.reelgood.com/content/movie/2202b6ee-17f8-4493-b2a3-aae2580a47a6/poster-342.jpg\"/></picture></div></a></td><td class=\"css-1u7zfla e126mwsw1\"><a href=\"/movie/v-for-vendetta-2005\">V for Vendetta</a><meta content=\"29\" itemprop=\"position\"/><meta content=\"https://reelgood.com/movie/v-for-vendetta-2005\" itemprop=\"url\"/></td><td class=\"css-0\"></td><td class=\"css-1u11l3y\">2006</td><td class=\"css-1u11l3y\">18+</td><td class=\"css-1u11l3y\">8.2</td><td class=\"css-1u11l3y\">73%</td><td class=\"css-1vuzpp2\"><span class=\"css-1uvh71f\"><div class=\"css-koqe8h e11eoopx0\"><img alt=\"netflix\" src=\"https://img.reelgood.com/service-logos/netflix.svg\"/></div></span><span class=\"css-1llszt4\">+ Rent or Buy</span><span><span class=\"css-1fmire8\"></span></span></td><td class=\"css-y8aj3r\"></td><td class=\"css-1g4hjyy\"><div class=\"css-1bnyegh\"><div class=\"css-1ov9pc1 e126mwsw1\"><span>Want To See</span><img alt=\"Want To See Icon\" src=\"data:image/svg+xml;base64,PHN2ZyB4bWxucz0iaHR0cDovL3d3dy53My5vcmcvMjAwMC9zdmciIHdpZHRoPSIxMiIgaGVpZ2h0PSIxMiI+PHBhdGggZD0iTTQuMzY3IDB2NC4zNjdIMHYzLjI2Nmg0LjM2N1YxMmgzLjI2N1Y3LjYzM0gxMlY0LjM2N0g3LjYzNFYweiIgZmlsbD0iI0ZGRiIgZmlsbC1ydWxlPSJldmVub2RkIi8+PC9zdmc+\" title=\"Add movie to watchlist\"/></div><div class=\"css-1ov9pc1 e126mwsw1\"><span>Seen</span><img alt=\"Check Mark Icon\" src=\"data:image/svg+xml;base64,PHN2ZyB4bWxucz0iaHR0cDovL3d3dy53My5vcmcvMjAwMC9zdmciIHdpZHRoPSIxMSIgaGVpZ2h0PSIxMiI+PHBhdGggZD0iTTYuOTk0IDEuNTA0TDMuODUyIDYuODY3bC0xLjU4Ny0yLjZMMCA1LjUybDMuODYyIDYuMzI2TDExIDB6IiBmaWxsPSIjRkZGIiBmaWxsLXJ1bGU9ImV2ZW5vZGQiLz48L3N2Zz4=\" title=\"Mark movie as seen\"/></div></div></td></tr><tr class=\"css-o6sgwe\" itemprop=\"itemListElement\" itemscope=\"\" itemtype=\"//schema.org/ListItem\"><td class=\"css-1n32qfq\"><a href=\"/movie/her-2013\"><div class=\"css-1rashen e126mwsw1\"><picture class=\"css-b4kcmh e1181ybh0\"><source srcset=\"https://img.reelgood.com/content/movie/53316d7d-43f0-4a1a-8503-5c874c2ec66b/poster-92.webp 92w,https://img.reelgood.com/content/movie/53316d7d-43f0-4a1a-8503-5c874c2ec66b/poster-154.webp 154w,https://img.reelgood.com/content/movie/53316d7d-43f0-4a1a-8503-5c874c2ec66b/poster-185.webp 185w,https://img.reelgood.com/content/movie/53316d7d-43f0-4a1a-8503-5c874c2ec66b/poster-342.webp 342w\" type=\"image/webp\"/><source srcset=\"https://img.reelgood.com/content/movie/53316d7d-43f0-4a1a-8503-5c874c2ec66b/poster-92.jpg 92w,https://img.reelgood.com/content/movie/53316d7d-43f0-4a1a-8503-5c874c2ec66b/poster-154.jpg 154w,https://img.reelgood.com/content/movie/53316d7d-43f0-4a1a-8503-5c874c2ec66b/poster-185.jpg 185w,https://img.reelgood.com/content/movie/53316d7d-43f0-4a1a-8503-5c874c2ec66b/poster-342.jpg 342w\" type=\"image/jpeg\"/><img alt=\"Her Poster\" class=\"css-4rt6dn e1181ybh1\" data-async-image=\"true\" decoding=\"async\" src=\"https://img.reelgood.com/content/movie/53316d7d-43f0-4a1a-8503-5c874c2ec66b/poster-342.jpg\"/></picture></div></a></td><td class=\"css-1u7zfla e126mwsw1\"><a href=\"/movie/her-2013\">Her</a><meta content=\"30\" itemprop=\"position\"/><meta content=\"https://reelgood.com/movie/her-2013\" itemprop=\"url\"/></td><td class=\"css-0\"></td><td class=\"css-1u11l3y\">2013</td><td class=\"css-1u11l3y\">18+</td><td class=\"css-1u11l3y\">8.0</td><td class=\"css-1u11l3y\">95%</td><td class=\"css-1vuzpp2\"><span class=\"css-1uvh71f\"><div class=\"css-koqe8h e11eoopx0\"><img alt=\"netflix\" src=\"https://img.reelgood.com/service-logos/netflix.svg\"/></div></span><span class=\"css-1llszt4\">+ Rent or Buy</span><span><span class=\"css-1fmire8\"></span></span></td><td class=\"css-y8aj3r\"></td><td class=\"css-1g4hjyy\"><div class=\"css-1bnyegh\"><div class=\"css-1ov9pc1 e126mwsw1\"><span>Want To See</span><img alt=\"Want To See Icon\" src=\"data:image/svg+xml;base64,PHN2ZyB4bWxucz0iaHR0cDovL3d3dy53My5vcmcvMjAwMC9zdmciIHdpZHRoPSIxMiIgaGVpZ2h0PSIxMiI+PHBhdGggZD0iTTQuMzY3IDB2NC4zNjdIMHYzLjI2Nmg0LjM2N1YxMmgzLjI2N1Y3LjYzM0gxMlY0LjM2N0g3LjYzNFYweiIgZmlsbD0iI0ZGRiIgZmlsbC1ydWxlPSJldmVub2RkIi8+PC9zdmc+\" title=\"Add movie to watchlist\"/></div><div class=\"css-1ov9pc1 e126mwsw1\"><span>Seen</span><img alt=\"Check Mark Icon\" src=\"data:image/svg+xml;base64,PHN2ZyB4bWxucz0iaHR0cDovL3d3dy53My5vcmcvMjAwMC9zdmciIHdpZHRoPSIxMSIgaGVpZ2h0PSIxMiI+PHBhdGggZD0iTTYuOTk0IDEuNTA0TDMuODUyIDYuODY3bC0xLjU4Ny0yLjZMMCA1LjUybDMuODYyIDYuMzI2TDExIDB6IiBmaWxsPSIjRkZGIiBmaWxsLXJ1bGU9ImV2ZW5vZGQiLz48L3N2Zz4=\" title=\"Mark movie as seen\"/></div></div></td></tr><tr class=\"css-gfsdx9\" itemprop=\"itemListElement\" itemscope=\"\" itemtype=\"//schema.org/ListItem\"><td class=\"css-1n32qfq\"><a href=\"/show/peaky-blinders-2013\"><div class=\"css-1rashen e126mwsw1\"><picture class=\"css-b4kcmh e1181ybh0\"><source srcset=\"https://img.reelgood.com/content/show/a51d1ed5-3b87-4466-ae64-7379934703aa/poster-92.webp 92w,https://img.reelgood.com/content/show/a51d1ed5-3b87-4466-ae64-7379934703aa/poster-154.webp 154w,https://img.reelgood.com/content/show/a51d1ed5-3b87-4466-ae64-7379934703aa/poster-185.webp 185w,https://img.reelgood.com/content/show/a51d1ed5-3b87-4466-ae64-7379934703aa/poster-342.webp 342w\" type=\"image/webp\"/><source srcset=\"https://img.reelgood.com/content/show/a51d1ed5-3b87-4466-ae64-7379934703aa/poster-92.jpg 92w,https://img.reelgood.com/content/show/a51d1ed5-3b87-4466-ae64-7379934703aa/poster-154.jpg 154w,https://img.reelgood.com/content/show/a51d1ed5-3b87-4466-ae64-7379934703aa/poster-185.jpg 185w,https://img.reelgood.com/content/show/a51d1ed5-3b87-4466-ae64-7379934703aa/poster-342.jpg 342w\" type=\"image/jpeg\"/><img alt=\"Peaky Blinders Poster\" class=\"css-4rt6dn e1181ybh1\" data-async-image=\"true\" decoding=\"async\" src=\"https://img.reelgood.com/content/show/a51d1ed5-3b87-4466-ae64-7379934703aa/poster-342.jpg\"/></picture></div></a></td><td class=\"css-1u7zfla e126mwsw1\"><a href=\"/show/peaky-blinders-2013\">Peaky Blinders</a><meta content=\"31\" itemprop=\"position\"/><meta content=\"https://reelgood.com/show/peaky-blinders-2013\" itemprop=\"url\"/></td><td class=\"css-1azbcl6\"><span>TV</span></td><td class=\"css-1u11l3y\">2013</td><td class=\"css-1u11l3y\">18+</td><td class=\"css-1u11l3y\">8.8</td><td class=\"css-1u11l3y\">92%</td><td class=\"css-1vuzpp2\"><span class=\"css-1uvh71f\"><div class=\"css-koqe8h e11eoopx0\"><img alt=\"netflix\" src=\"https://img.reelgood.com/service-logos/netflix.svg\"/></div></span><span class=\"css-1llszt4\">+ Rent or Buy</span><span><span class=\"css-1fmire8\"></span></span></td><td class=\"css-9fnwd0\"><div class=\"css-0\">30 <span>Free Episodes</span></div></td><td class=\"css-1g4hjyy\"><div class=\"css-1bnyegh\"><div class=\"css-1ov9pc1 e126mwsw1\"><span>Track</span><img alt=\"Tracking Icon\" src=\"data:image/svg+xml;base64,PHN2ZyB4bWxucz0iaHR0cDovL3d3dy53My5vcmcvMjAwMC9zdmciIHdpZHRoPSIxMyIgaGVpZ2h0PSIxMyI+PHBhdGggZD0iTTEyLjU3NS41NzZMLjU3NiA1LjU1OWw1Ljc3MiAxLjI0NCAxLjI0NCA1Ljc3MnoiIGZpbGw9IiNGRkYiIGZpbGwtcnVsZT0iZXZlbm9kZCIvPjwvc3ZnPg==\" title=\"Track Show\"/><div class=\"css-1iaqbrw e16felo50\" id=\"trackItPopup\"><div class=\"css-5y4ld6 e16felo51\">Have You Seen?</div><button class=\"css-1hknzz6 eyx6tna1\" data-type=\"All\">All</button><button class=\"css-1hknzz6 eyx6tna1\" data-type=\"Some\">Some</button><button class=\"css-1hknzz6 eyx6tna1\" data-type=\"None\">None</button><button class=\"css-omf9uz e16felo52\" data-type=\"cancel\">Cancel</button></div></div></div></td></tr><tr class=\"css-o6sgwe\" itemprop=\"itemListElement\" itemscope=\"\" itemtype=\"//schema.org/ListItem\"><td class=\"css-1n32qfq\"><a href=\"/movie/there-will-be-blood-2007\"><div class=\"css-1rashen e126mwsw1\"><picture class=\"css-b4kcmh e1181ybh0\"><source srcset=\"https://img.reelgood.com/content/movie/bbf06e55-415b-485c-8c2c-8cd6ab2539a4/poster-92.webp 92w,https://img.reelgood.com/content/movie/bbf06e55-415b-485c-8c2c-8cd6ab2539a4/poster-154.webp 154w,https://img.reelgood.com/content/movie/bbf06e55-415b-485c-8c2c-8cd6ab2539a4/poster-185.webp 185w,https://img.reelgood.com/content/movie/bbf06e55-415b-485c-8c2c-8cd6ab2539a4/poster-342.webp 342w\" type=\"image/webp\"/><source srcset=\"https://img.reelgood.com/content/movie/bbf06e55-415b-485c-8c2c-8cd6ab2539a4/poster-92.jpg 92w,https://img.reelgood.com/content/movie/bbf06e55-415b-485c-8c2c-8cd6ab2539a4/poster-154.jpg 154w,https://img.reelgood.com/content/movie/bbf06e55-415b-485c-8c2c-8cd6ab2539a4/poster-185.jpg 185w,https://img.reelgood.com/content/movie/bbf06e55-415b-485c-8c2c-8cd6ab2539a4/poster-342.jpg 342w\" type=\"image/jpeg\"/><img alt=\"There Will Be Blood Poster\" class=\"css-4rt6dn e1181ybh1\" data-async-image=\"true\" decoding=\"async\" src=\"https://img.reelgood.com/content/movie/bbf06e55-415b-485c-8c2c-8cd6ab2539a4/poster-342.jpg\"/></picture></div></a></td><td class=\"css-1u7zfla e126mwsw1\"><a href=\"/movie/there-will-be-blood-2007\">There Will Be Blood</a><meta content=\"32\" itemprop=\"position\"/><meta content=\"https://reelgood.com/movie/there-will-be-blood-2007\" itemprop=\"url\"/></td><td class=\"css-0\"></td><td class=\"css-1u11l3y\">2007</td><td class=\"css-1u11l3y\">18+</td><td class=\"css-1u11l3y\">8.2</td><td class=\"css-1u11l3y\">91%</td><td class=\"css-1vuzpp2\"><span class=\"css-1uvh71f\"><div class=\"css-koqe8h e11eoopx0\"><img alt=\"netflix\" src=\"https://img.reelgood.com/service-logos/netflix.svg\"/></div></span><span class=\"css-1llszt4\">+ Rent or Buy</span><span><span class=\"css-1fmire8\"></span></span></td><td class=\"css-y8aj3r\"></td><td class=\"css-1g4hjyy\"><div class=\"css-1bnyegh\"><div class=\"css-1ov9pc1 e126mwsw1\"><span>Want To See</span><img alt=\"Want To See Icon\" src=\"data:image/svg+xml;base64,PHN2ZyB4bWxucz0iaHR0cDovL3d3dy53My5vcmcvMjAwMC9zdmciIHdpZHRoPSIxMiIgaGVpZ2h0PSIxMiI+PHBhdGggZD0iTTQuMzY3IDB2NC4zNjdIMHYzLjI2Nmg0LjM2N1YxMmgzLjI2N1Y3LjYzM0gxMlY0LjM2N0g3LjYzNFYweiIgZmlsbD0iI0ZGRiIgZmlsbC1ydWxlPSJldmVub2RkIi8+PC9zdmc+\" title=\"Add movie to watchlist\"/></div><div class=\"css-1ov9pc1 e126mwsw1\"><span>Seen</span><img alt=\"Check Mark Icon\" src=\"data:image/svg+xml;base64,PHN2ZyB4bWxucz0iaHR0cDovL3d3dy53My5vcmcvMjAwMC9zdmciIHdpZHRoPSIxMSIgaGVpZ2h0PSIxMiI+PHBhdGggZD0iTTYuOTk0IDEuNTA0TDMuODUyIDYuODY3bC0xLjU4Ny0yLjZMMCA1LjUybDMuODYyIDYuMzI2TDExIDB6IiBmaWxsPSIjRkZGIiBmaWxsLXJ1bGU9ImV2ZW5vZGQiLz48L3N2Zz4=\" title=\"Mark movie as seen\"/></div></div></td></tr><tr class=\"css-o6sgwe\" itemprop=\"itemListElement\" itemscope=\"\" itemtype=\"//schema.org/ListItem\"><td class=\"css-1n32qfq\"><a href=\"/movie/dallas-buyers-club-2013\"><div class=\"css-1rashen e126mwsw1\"><picture class=\"css-b4kcmh e1181ybh0\"><source srcset=\"https://img.reelgood.com/content/movie/f29cf5c4-103f-44b5-9268-24dbe3c32f37/poster-92.webp 92w,https://img.reelgood.com/content/movie/f29cf5c4-103f-44b5-9268-24dbe3c32f37/poster-154.webp 154w,https://img.reelgood.com/content/movie/f29cf5c4-103f-44b5-9268-24dbe3c32f37/poster-185.webp 185w,https://img.reelgood.com/content/movie/f29cf5c4-103f-44b5-9268-24dbe3c32f37/poster-342.webp 342w\" type=\"image/webp\"/><source srcset=\"https://img.reelgood.com/content/movie/f29cf5c4-103f-44b5-9268-24dbe3c32f37/poster-92.jpg 92w,https://img.reelgood.com/content/movie/f29cf5c4-103f-44b5-9268-24dbe3c32f37/poster-154.jpg 154w,https://img.reelgood.com/content/movie/f29cf5c4-103f-44b5-9268-24dbe3c32f37/poster-185.jpg 185w,https://img.reelgood.com/content/movie/f29cf5c4-103f-44b5-9268-24dbe3c32f37/poster-342.jpg 342w\" type=\"image/jpeg\"/><img alt=\"Dallas Buyers Club Poster\" class=\"css-4rt6dn e1181ybh1\" data-async-image=\"true\" decoding=\"async\" src=\"https://img.reelgood.com/content/movie/f29cf5c4-103f-44b5-9268-24dbe3c32f37/poster-342.jpg\"/></picture></div></a></td><td class=\"css-1u7zfla e126mwsw1\"><a href=\"/movie/dallas-buyers-club-2013\">Dallas Buyers Club</a><meta content=\"33\" itemprop=\"position\"/><meta content=\"https://reelgood.com/movie/dallas-buyers-club-2013\" itemprop=\"url\"/></td><td class=\"css-0\"></td><td class=\"css-1u11l3y\">2013</td><td class=\"css-1u11l3y\">18+</td><td class=\"css-1u11l3y\">8.0</td><td class=\"css-1u11l3y\">93%</td><td class=\"css-1vuzpp2\"><span class=\"css-1uvh71f\"><div class=\"css-koqe8h e11eoopx0\"><img alt=\"netflix\" src=\"https://img.reelgood.com/service-logos/netflix.svg\"/></div></span><span class=\"css-1llszt4\">+ Rent or Buy</span><span><span class=\"css-1fmire8\"></span></span></td><td class=\"css-y8aj3r\"></td><td class=\"css-1g4hjyy\"><div class=\"css-1bnyegh\"><div class=\"css-1ov9pc1 e126mwsw1\"><span>Want To See</span><img alt=\"Want To See Icon\" src=\"data:image/svg+xml;base64,PHN2ZyB4bWxucz0iaHR0cDovL3d3dy53My5vcmcvMjAwMC9zdmciIHdpZHRoPSIxMiIgaGVpZ2h0PSIxMiI+PHBhdGggZD0iTTQuMzY3IDB2NC4zNjdIMHYzLjI2Nmg0LjM2N1YxMmgzLjI2N1Y3LjYzM0gxMlY0LjM2N0g3LjYzNFYweiIgZmlsbD0iI0ZGRiIgZmlsbC1ydWxlPSJldmVub2RkIi8+PC9zdmc+\" title=\"Add movie to watchlist\"/></div><div class=\"css-1ov9pc1 e126mwsw1\"><span>Seen</span><img alt=\"Check Mark Icon\" src=\"data:image/svg+xml;base64,PHN2ZyB4bWxucz0iaHR0cDovL3d3dy53My5vcmcvMjAwMC9zdmciIHdpZHRoPSIxMSIgaGVpZ2h0PSIxMiI+PHBhdGggZD0iTTYuOTk0IDEuNTA0TDMuODUyIDYuODY3bC0xLjU4Ny0yLjZMMCA1LjUybDMuODYyIDYuMzI2TDExIDB6IiBmaWxsPSIjRkZGIiBmaWxsLXJ1bGU9ImV2ZW5vZGQiLz48L3N2Zz4=\" title=\"Mark movie as seen\"/></div></div></td></tr><tr class=\"css-o6sgwe\" itemprop=\"itemListElement\" itemscope=\"\" itemtype=\"//schema.org/ListItem\"><td class=\"css-1n32qfq\"><a href=\"/movie/life-of-brian-1979\"><div class=\"css-1rashen e126mwsw1\"><picture class=\"css-b4kcmh e1181ybh0\"><source srcset=\"https://img.reelgood.com/content/movie/b5847222-d358-4bfe-b025-312087c72102/poster-92.webp 92w,https://img.reelgood.com/content/movie/b5847222-d358-4bfe-b025-312087c72102/poster-154.webp 154w,https://img.reelgood.com/content/movie/b5847222-d358-4bfe-b025-312087c72102/poster-185.webp 185w,https://img.reelgood.com/content/movie/b5847222-d358-4bfe-b025-312087c72102/poster-342.webp 342w\" type=\"image/webp\"/><source srcset=\"https://img.reelgood.com/content/movie/b5847222-d358-4bfe-b025-312087c72102/poster-92.jpg 92w,https://img.reelgood.com/content/movie/b5847222-d358-4bfe-b025-312087c72102/poster-154.jpg 154w,https://img.reelgood.com/content/movie/b5847222-d358-4bfe-b025-312087c72102/poster-185.jpg 185w,https://img.reelgood.com/content/movie/b5847222-d358-4bfe-b025-312087c72102/poster-342.jpg 342w\" type=\"image/jpeg\"/><img alt=\"Life of Brian Poster\" class=\"css-4rt6dn e1181ybh1\" data-async-image=\"true\" decoding=\"async\" src=\"https://img.reelgood.com/content/movie/b5847222-d358-4bfe-b025-312087c72102/poster-342.jpg\"/></picture></div></a></td><td class=\"css-1u7zfla e126mwsw1\"><a href=\"/movie/life-of-brian-1979\">Life of Brian</a><meta content=\"34\" itemprop=\"position\"/><meta content=\"https://reelgood.com/movie/life-of-brian-1979\" itemprop=\"url\"/></td><td class=\"css-0\"></td><td class=\"css-1u11l3y\">1979</td><td class=\"css-1u11l3y\">18+</td><td class=\"css-1u11l3y\">8.1</td><td class=\"css-1u11l3y\">95%</td><td class=\"css-1vuzpp2\"><span class=\"css-1uvh71f\"><div class=\"css-koqe8h e11eoopx0\"><img alt=\"netflix\" src=\"https://img.reelgood.com/service-logos/netflix.svg\"/></div></span><span class=\"css-1llszt4\">+ Rent or Buy</span><span><span class=\"css-1fmire8\"></span></span></td><td class=\"css-y8aj3r\"></td><td class=\"css-1g4hjyy\"><div class=\"css-1bnyegh\"><div class=\"css-1ov9pc1 e126mwsw1\"><span>Want To See</span><img alt=\"Want To See Icon\" src=\"data:image/svg+xml;base64,PHN2ZyB4bWxucz0iaHR0cDovL3d3dy53My5vcmcvMjAwMC9zdmciIHdpZHRoPSIxMiIgaGVpZ2h0PSIxMiI+PHBhdGggZD0iTTQuMzY3IDB2NC4zNjdIMHYzLjI2Nmg0LjM2N1YxMmgzLjI2N1Y3LjYzM0gxMlY0LjM2N0g3LjYzNFYweiIgZmlsbD0iI0ZGRiIgZmlsbC1ydWxlPSJldmVub2RkIi8+PC9zdmc+\" title=\"Add movie to watchlist\"/></div><div class=\"css-1ov9pc1 e126mwsw1\"><span>Seen</span><img alt=\"Check Mark Icon\" src=\"data:image/svg+xml;base64,PHN2ZyB4bWxucz0iaHR0cDovL3d3dy53My5vcmcvMjAwMC9zdmciIHdpZHRoPSIxMSIgaGVpZ2h0PSIxMiI+PHBhdGggZD0iTTYuOTk0IDEuNTA0TDMuODUyIDYuODY3bC0xLjU4Ny0yLjZMMCA1LjUybDMuODYyIDYuMzI2TDExIDB6IiBmaWxsPSIjRkZGIiBmaWxsLXJ1bGU9ImV2ZW5vZGQiLz48L3N2Zz4=\" title=\"Mark movie as seen\"/></div></div></td></tr><tr class=\"css-o6sgwe\" itemprop=\"itemListElement\" itemscope=\"\" itemtype=\"//schema.org/ListItem\"><td class=\"css-1n32qfq\"><a href=\"/movie/the-social-network-2010\"><div class=\"css-1rashen e126mwsw1\"><picture class=\"css-b4kcmh e1181ybh0\"><source srcset=\"https://img.reelgood.com/content/movie/d57a4e35-28ac-44cf-8aa6-18bb6d471dba/poster-92.webp 92w,https://img.reelgood.com/content/movie/d57a4e35-28ac-44cf-8aa6-18bb6d471dba/poster-154.webp 154w,https://img.reelgood.com/content/movie/d57a4e35-28ac-44cf-8aa6-18bb6d471dba/poster-185.webp 185w,https://img.reelgood.com/content/movie/d57a4e35-28ac-44cf-8aa6-18bb6d471dba/poster-342.webp 342w\" type=\"image/webp\"/><source srcset=\"https://img.reelgood.com/content/movie/d57a4e35-28ac-44cf-8aa6-18bb6d471dba/poster-92.jpg 92w,https://img.reelgood.com/content/movie/d57a4e35-28ac-44cf-8aa6-18bb6d471dba/poster-154.jpg 154w,https://img.reelgood.com/content/movie/d57a4e35-28ac-44cf-8aa6-18bb6d471dba/poster-185.jpg 185w,https://img.reelgood.com/content/movie/d57a4e35-28ac-44cf-8aa6-18bb6d471dba/poster-342.jpg 342w\" type=\"image/jpeg\"/><img alt=\"The Social Network Poster\" class=\"css-4rt6dn e1181ybh1\" data-async-image=\"true\" decoding=\"async\" src=\"https://img.reelgood.com/content/movie/d57a4e35-28ac-44cf-8aa6-18bb6d471dba/poster-342.jpg\"/></picture></div></a></td><td class=\"css-1u7zfla e126mwsw1\"><a href=\"/movie/the-social-network-2010\">The Social Network</a><meta content=\"35\" itemprop=\"position\"/><meta content=\"https://reelgood.com/movie/the-social-network-2010\" itemprop=\"url\"/></td><td class=\"css-0\"></td><td class=\"css-1u11l3y\">2010</td><td class=\"css-1u11l3y\">13+</td><td class=\"css-1u11l3y\">7.7</td><td class=\"css-1u11l3y\">96%</td><td class=\"css-1vuzpp2\"><span class=\"css-1uvh71f\"><div class=\"css-koqe8h e11eoopx0\"><img alt=\"netflix\" src=\"https://img.reelgood.com/service-logos/netflix.svg\"/></div></span><span class=\"css-1llszt4\">+ Rent or Buy</span><span><span class=\"css-1fmire8\"></span></span></td><td class=\"css-y8aj3r\"></td><td class=\"css-1g4hjyy\"><div class=\"css-1bnyegh\"><div class=\"css-1ov9pc1 e126mwsw1\"><span>Want To See</span><img alt=\"Want To See Icon\" src=\"data:image/svg+xml;base64,PHN2ZyB4bWxucz0iaHR0cDovL3d3dy53My5vcmcvMjAwMC9zdmciIHdpZHRoPSIxMiIgaGVpZ2h0PSIxMiI+PHBhdGggZD0iTTQuMzY3IDB2NC4zNjdIMHYzLjI2Nmg0LjM2N1YxMmgzLjI2N1Y3LjYzM0gxMlY0LjM2N0g3LjYzNFYweiIgZmlsbD0iI0ZGRiIgZmlsbC1ydWxlPSJldmVub2RkIi8+PC9zdmc+\" title=\"Add movie to watchlist\"/></div><div class=\"css-1ov9pc1 e126mwsw1\"><span>Seen</span><img alt=\"Check Mark Icon\" src=\"data:image/svg+xml;base64,PHN2ZyB4bWxucz0iaHR0cDovL3d3dy53My5vcmcvMjAwMC9zdmciIHdpZHRoPSIxMSIgaGVpZ2h0PSIxMiI+PHBhdGggZD0iTTYuOTk0IDEuNTA0TDMuODUyIDYuODY3bC0xLjU4Ny0yLjZMMCA1LjUybDMuODYyIDYuMzI2TDExIDB6IiBmaWxsPSIjRkZGIiBmaWxsLXJ1bGU9ImV2ZW5vZGQiLz48L3N2Zz4=\" title=\"Mark movie as seen\"/></div></div></td></tr><tr class=\"css-gfsdx9\" itemprop=\"itemListElement\" itemscope=\"\" itemtype=\"//schema.org/ListItem\"><td class=\"css-1n32qfq\"><a href=\"/show/the-walking-dead-2010\"><div class=\"css-1rashen e126mwsw1\"><picture class=\"css-b4kcmh e1181ybh0\"><source srcset=\"https://img.reelgood.com/content/show/013d2935-9a8b-4882-822e-4a3fe581caff/poster-92.webp 92w,https://img.reelgood.com/content/show/013d2935-9a8b-4882-822e-4a3fe581caff/poster-154.webp 154w,https://img.reelgood.com/content/show/013d2935-9a8b-4882-822e-4a3fe581caff/poster-185.webp 185w,https://img.reelgood.com/content/show/013d2935-9a8b-4882-822e-4a3fe581caff/poster-342.webp 342w\" type=\"image/webp\"/><source srcset=\"https://img.reelgood.com/content/show/013d2935-9a8b-4882-822e-4a3fe581caff/poster-92.jpg 92w,https://img.reelgood.com/content/show/013d2935-9a8b-4882-822e-4a3fe581caff/poster-154.jpg 154w,https://img.reelgood.com/content/show/013d2935-9a8b-4882-822e-4a3fe581caff/poster-185.jpg 185w,https://img.reelgood.com/content/show/013d2935-9a8b-4882-822e-4a3fe581caff/poster-342.jpg 342w\" type=\"image/jpeg\"/><img alt=\"The Walking Dead Poster\" class=\"css-4rt6dn e1181ybh1\" data-async-image=\"true\" decoding=\"async\" src=\"https://img.reelgood.com/content/show/013d2935-9a8b-4882-822e-4a3fe581caff/poster-342.jpg\"/></picture></div></a></td><td class=\"css-1u7zfla e126mwsw1\"><a href=\"/show/the-walking-dead-2010\">The Walking Dead</a><meta content=\"36\" itemprop=\"position\"/><meta content=\"https://reelgood.com/show/the-walking-dead-2010\" itemprop=\"url\"/></td><td class=\"css-1azbcl6\"><span>TV</span></td><td class=\"css-1u11l3y\">2010</td><td class=\"css-1u11l3y\">18+</td><td class=\"css-1u11l3y\">8.2</td><td class=\"css-1u11l3y\">81%</td><td class=\"css-1vuzpp2\"><span class=\"css-1uvh71f\"><div class=\"css-1teokc7 e11eoopx0\"><img alt=\"netflix\" src=\"https://img.reelgood.com/service-logos/netflix.svg\"/></div></span><span class=\"css-1uvh71f\"><div class=\"css-1teokc7 e11eoopx0\"><img alt=\"fubo_tv\" src=\"https://img.reelgood.com/service-logos/fubo_tv.svg\"/></div></span><span class=\"css-1uvh71f\"><div class=\"css-1teokc7 e11eoopx0\"><img alt=\"amc_premiere\" src=\"https://img.reelgood.com/service-logos/amc_premiere.svg\"/></div></span><span class=\"css-16a9vcn\">+ Rent or Buy</span><span><span class=\"css-1e0xpdq\"></span></span></td><td class=\"css-9fnwd0\"><div class=\"css-0\">131 <span>Free Episodes</span></div></td><td class=\"css-1g4hjyy\"><div class=\"css-1bnyegh\"><div class=\"css-1ov9pc1 e126mwsw1\"><span>Track</span><img alt=\"Tracking Icon\" src=\"data:image/svg+xml;base64,PHN2ZyB4bWxucz0iaHR0cDovL3d3dy53My5vcmcvMjAwMC9zdmciIHdpZHRoPSIxMyIgaGVpZ2h0PSIxMyI+PHBhdGggZD0iTTEyLjU3NS41NzZMLjU3NiA1LjU1OWw1Ljc3MiAxLjI0NCAxLjI0NCA1Ljc3MnoiIGZpbGw9IiNGRkYiIGZpbGwtcnVsZT0iZXZlbm9kZCIvPjwvc3ZnPg==\" title=\"Track Show\"/><div class=\"css-1iaqbrw e16felo50\" id=\"trackItPopup\"><div class=\"css-5y4ld6 e16felo51\">Have You Seen?</div><button class=\"css-1hknzz6 eyx6tna1\" data-type=\"All\">All</button><button class=\"css-1hknzz6 eyx6tna1\" data-type=\"Some\">Some</button><button class=\"css-1hknzz6 eyx6tna1\" data-type=\"None\">None</button><button class=\"css-omf9uz e16felo52\" data-type=\"cancel\">Cancel</button></div></div></div></td></tr><tr class=\"css-o6sgwe\" itemprop=\"itemListElement\" itemscope=\"\" itemtype=\"//schema.org/ListItem\"><td class=\"css-1n32qfq\"><a href=\"/movie/the-perks-of-being-a-wallflower-2012\"><div class=\"css-1rashen e126mwsw1\"><picture class=\"css-b4kcmh e1181ybh0\"><source srcset=\"https://img.reelgood.com/content/movie/67ec152c-e02f-4a19-a3bf-33bf0fd7afd4/poster-92.webp 92w,https://img.reelgood.com/content/movie/67ec152c-e02f-4a19-a3bf-33bf0fd7afd4/poster-154.webp 154w,https://img.reelgood.com/content/movie/67ec152c-e02f-4a19-a3bf-33bf0fd7afd4/poster-185.webp 185w,https://img.reelgood.com/content/movie/67ec152c-e02f-4a19-a3bf-33bf0fd7afd4/poster-342.webp 342w\" type=\"image/webp\"/><source srcset=\"https://img.reelgood.com/content/movie/67ec152c-e02f-4a19-a3bf-33bf0fd7afd4/poster-92.jpg 92w,https://img.reelgood.com/content/movie/67ec152c-e02f-4a19-a3bf-33bf0fd7afd4/poster-154.jpg 154w,https://img.reelgood.com/content/movie/67ec152c-e02f-4a19-a3bf-33bf0fd7afd4/poster-185.jpg 185w,https://img.reelgood.com/content/movie/67ec152c-e02f-4a19-a3bf-33bf0fd7afd4/poster-342.jpg 342w\" type=\"image/jpeg\"/><img alt=\"The Perks of Being a Wallflower Poster\" class=\"css-4rt6dn e1181ybh1\" data-async-image=\"true\" decoding=\"async\" src=\"https://img.reelgood.com/content/movie/67ec152c-e02f-4a19-a3bf-33bf0fd7afd4/poster-342.jpg\"/></picture></div></a></td><td class=\"css-1u7zfla e126mwsw1\"><a href=\"/movie/the-perks-of-being-a-wallflower-2012\">The Perks of Being a Wallflower</a><meta content=\"37\" itemprop=\"position\"/><meta content=\"https://reelgood.com/movie/the-perks-of-being-a-wallflower-2012\" itemprop=\"url\"/></td><td class=\"css-0\"></td><td class=\"css-1u11l3y\">2012</td><td class=\"css-1u11l3y\">13+</td><td class=\"css-1u11l3y\">8.0</td><td class=\"css-1u11l3y\">86%</td><td class=\"css-1vuzpp2\"><span class=\"css-1uvh71f\"><div class=\"css-koqe8h e11eoopx0\"><img alt=\"netflix\" src=\"https://img.reelgood.com/service-logos/netflix.svg\"/></div></span><span class=\"css-1llszt4\">+ Rent or Buy</span><span><span class=\"css-1fmire8\"></span></span></td><td class=\"css-y8aj3r\"></td><td class=\"css-1g4hjyy\"><div class=\"css-1bnyegh\"><div class=\"css-1ov9pc1 e126mwsw1\"><span>Want To See</span><img alt=\"Want To See Icon\" src=\"data:image/svg+xml;base64,PHN2ZyB4bWxucz0iaHR0cDovL3d3dy53My5vcmcvMjAwMC9zdmciIHdpZHRoPSIxMiIgaGVpZ2h0PSIxMiI+PHBhdGggZD0iTTQuMzY3IDB2NC4zNjdIMHYzLjI2Nmg0LjM2N1YxMmgzLjI2N1Y3LjYzM0gxMlY0LjM2N0g3LjYzNFYweiIgZmlsbD0iI0ZGRiIgZmlsbC1ydWxlPSJldmVub2RkIi8+PC9zdmc+\" title=\"Add movie to watchlist\"/></div><div class=\"css-1ov9pc1 e126mwsw1\"><span>Seen</span><img alt=\"Check Mark Icon\" src=\"data:image/svg+xml;base64,PHN2ZyB4bWxucz0iaHR0cDovL3d3dy53My5vcmcvMjAwMC9zdmciIHdpZHRoPSIxMSIgaGVpZ2h0PSIxMiI+PHBhdGggZD0iTTYuOTk0IDEuNTA0TDMuODUyIDYuODY3bC0xLjU4Ny0yLjZMMCA1LjUybDMuODYyIDYuMzI2TDExIDB6IiBmaWxsPSIjRkZGIiBmaWxsLXJ1bGU9ImV2ZW5vZGQiLz48L3N2Zz4=\" title=\"Mark movie as seen\"/></div></div></td></tr><tr class=\"css-o6sgwe\" itemprop=\"itemListElement\" itemscope=\"\" itemtype=\"//schema.org/ListItem\"><td class=\"css-1n32qfq\"><a href=\"/movie/ex-machina-2015\"><div class=\"css-1rashen e126mwsw1\"><picture class=\"css-b4kcmh e1181ybh0\"><source srcset=\"https://img.reelgood.com/content/movie/e0fb5cd6-39b5-4775-a213-a08b2102582e/poster-92.webp 92w,https://img.reelgood.com/content/movie/e0fb5cd6-39b5-4775-a213-a08b2102582e/poster-154.webp 154w,https://img.reelgood.com/content/movie/e0fb5cd6-39b5-4775-a213-a08b2102582e/poster-185.webp 185w,https://img.reelgood.com/content/movie/e0fb5cd6-39b5-4775-a213-a08b2102582e/poster-342.webp 342w\" type=\"image/webp\"/><source srcset=\"https://img.reelgood.com/content/movie/e0fb5cd6-39b5-4775-a213-a08b2102582e/poster-92.jpg 92w,https://img.reelgood.com/content/movie/e0fb5cd6-39b5-4775-a213-a08b2102582e/poster-154.jpg 154w,https://img.reelgood.com/content/movie/e0fb5cd6-39b5-4775-a213-a08b2102582e/poster-185.jpg 185w,https://img.reelgood.com/content/movie/e0fb5cd6-39b5-4775-a213-a08b2102582e/poster-342.jpg 342w\" type=\"image/jpeg\"/><img alt=\"Ex Machina Poster\" class=\"css-4rt6dn e1181ybh1\" data-async-image=\"true\" decoding=\"async\" src=\"https://img.reelgood.com/content/movie/e0fb5cd6-39b5-4775-a213-a08b2102582e/poster-342.jpg\"/></picture></div></a></td><td class=\"css-1u7zfla e126mwsw1\"><a href=\"/movie/ex-machina-2015\">Ex Machina</a><meta content=\"38\" itemprop=\"position\"/><meta content=\"https://reelgood.com/movie/ex-machina-2015\" itemprop=\"url\"/></td><td class=\"css-0\"></td><td class=\"css-1u11l3y\">2015</td><td class=\"css-1u11l3y\">18+</td><td class=\"css-1u11l3y\">7.7</td><td class=\"css-1u11l3y\">92%</td><td class=\"css-1vuzpp2\"><span class=\"css-1uvh71f\"><div class=\"css-koqe8h e11eoopx0\"><img alt=\"netflix\" src=\"https://img.reelgood.com/service-logos/netflix.svg\"/></div></span><span class=\"css-1uvh71f\"><div class=\"css-koqe8h e11eoopx0\"><img alt=\"kanopy\" src=\"https://img.reelgood.com/service-logos/kanopy.svg\"/></div></span><span class=\"css-1llszt4\">+ Rent or Buy</span><span><span class=\"css-1fmire8\"></span></span></td><td class=\"css-y8aj3r\"></td><td class=\"css-1g4hjyy\"><div class=\"css-1bnyegh\"><div class=\"css-1ov9pc1 e126mwsw1\"><span>Want To See</span><img alt=\"Want To See Icon\" src=\"data:image/svg+xml;base64,PHN2ZyB4bWxucz0iaHR0cDovL3d3dy53My5vcmcvMjAwMC9zdmciIHdpZHRoPSIxMiIgaGVpZ2h0PSIxMiI+PHBhdGggZD0iTTQuMzY3IDB2NC4zNjdIMHYzLjI2Nmg0LjM2N1YxMmgzLjI2N1Y3LjYzM0gxMlY0LjM2N0g3LjYzNFYweiIgZmlsbD0iI0ZGRiIgZmlsbC1ydWxlPSJldmVub2RkIi8+PC9zdmc+\" title=\"Add movie to watchlist\"/></div><div class=\"css-1ov9pc1 e126mwsw1\"><span>Seen</span><img alt=\"Check Mark Icon\" src=\"data:image/svg+xml;base64,PHN2ZyB4bWxucz0iaHR0cDovL3d3dy53My5vcmcvMjAwMC9zdmciIHdpZHRoPSIxMSIgaGVpZ2h0PSIxMiI+PHBhdGggZD0iTTYuOTk0IDEuNTA0TDMuODUyIDYuODY3bC0xLjU4Ny0yLjZMMCA1LjUybDMuODYyIDYuMzI2TDExIDB6IiBmaWxsPSIjRkZGIiBmaWxsLXJ1bGU9ImV2ZW5vZGQiLz48L3N2Zz4=\" title=\"Mark movie as seen\"/></div></div></td></tr><tr class=\"css-o6sgwe\" itemprop=\"itemListElement\" itemscope=\"\" itemtype=\"//schema.org/ListItem\"><td class=\"css-1n32qfq\"><a href=\"/movie/district-9-2009\"><div class=\"css-1rashen e126mwsw1\"><picture class=\"css-b4kcmh e1181ybh0\"><source srcset=\"https://img.reelgood.com/content/movie/d6376b3e-407f-42fc-a035-209fb3392694/poster-92.webp 92w,https://img.reelgood.com/content/movie/d6376b3e-407f-42fc-a035-209fb3392694/poster-154.webp 154w,https://img.reelgood.com/content/movie/d6376b3e-407f-42fc-a035-209fb3392694/poster-185.webp 185w,https://img.reelgood.com/content/movie/d6376b3e-407f-42fc-a035-209fb3392694/poster-342.webp 342w\" type=\"image/webp\"/><source srcset=\"https://img.reelgood.com/content/movie/d6376b3e-407f-42fc-a035-209fb3392694/poster-92.jpg 92w,https://img.reelgood.com/content/movie/d6376b3e-407f-42fc-a035-209fb3392694/poster-154.jpg 154w,https://img.reelgood.com/content/movie/d6376b3e-407f-42fc-a035-209fb3392694/poster-185.jpg 185w,https://img.reelgood.com/content/movie/d6376b3e-407f-42fc-a035-209fb3392694/poster-342.jpg 342w\" type=\"image/jpeg\"/><img alt=\"District 9 Poster\" class=\"css-4rt6dn e1181ybh1\" data-async-image=\"true\" decoding=\"async\" src=\"https://img.reelgood.com/content/movie/d6376b3e-407f-42fc-a035-209fb3392694/poster-342.jpg\"/></picture></div></a></td><td class=\"css-1u7zfla e126mwsw1\"><a href=\"/movie/district-9-2009\">District 9</a><meta content=\"39\" itemprop=\"position\"/><meta content=\"https://reelgood.com/movie/district-9-2009\" itemprop=\"url\"/></td><td class=\"css-0\"></td><td class=\"css-1u11l3y\">2009</td><td class=\"css-1u11l3y\">18+</td><td class=\"css-1u11l3y\">7.9</td><td class=\"css-1u11l3y\">90%</td><td class=\"css-1vuzpp2\"><span class=\"css-1uvh71f\"><div class=\"css-koqe8h e11eoopx0\"><img alt=\"netflix\" src=\"https://img.reelgood.com/service-logos/netflix.svg\"/></div></span><span class=\"css-1llszt4\">+ Rent or Buy</span><span><span class=\"css-1fmire8\"></span></span></td><td class=\"css-y8aj3r\"></td><td class=\"css-1g4hjyy\"><div class=\"css-1bnyegh\"><div class=\"css-1ov9pc1 e126mwsw1\"><span>Want To See</span><img alt=\"Want To See Icon\" src=\"data:image/svg+xml;base64,PHN2ZyB4bWxucz0iaHR0cDovL3d3dy53My5vcmcvMjAwMC9zdmciIHdpZHRoPSIxMiIgaGVpZ2h0PSIxMiI+PHBhdGggZD0iTTQuMzY3IDB2NC4zNjdIMHYzLjI2Nmg0LjM2N1YxMmgzLjI2N1Y3LjYzM0gxMlY0LjM2N0g3LjYzNFYweiIgZmlsbD0iI0ZGRiIgZmlsbC1ydWxlPSJldmVub2RkIi8+PC9zdmc+\" title=\"Add movie to watchlist\"/></div><div class=\"css-1ov9pc1 e126mwsw1\"><span>Seen</span><img alt=\"Check Mark Icon\" src=\"data:image/svg+xml;base64,PHN2ZyB4bWxucz0iaHR0cDovL3d3dy53My5vcmcvMjAwMC9zdmciIHdpZHRoPSIxMSIgaGVpZ2h0PSIxMiI+PHBhdGggZD0iTTYuOTk0IDEuNTA0TDMuODUyIDYuODY3bC0xLjU4Ny0yLjZMMCA1LjUybDMuODYyIDYuMzI2TDExIDB6IiBmaWxsPSIjRkZGIiBmaWxsLXJ1bGU9ImV2ZW5vZGQiLz48L3N2Zz4=\" title=\"Mark movie as seen\"/></div></div></td></tr><tr class=\"css-gfsdx9\" itemprop=\"itemListElement\" itemscope=\"\" itemtype=\"//schema.org/ListItem\"><td class=\"css-1n32qfq\"><a href=\"/show/narcos-2015\"><div class=\"css-1rashen e126mwsw1\"><picture class=\"css-b4kcmh e1181ybh0\"><source srcset=\"https://img.reelgood.com/content/show/f7b728d0-566c-49ef-b5ab-1a584614b3b1/poster-92.webp 92w,https://img.reelgood.com/content/show/f7b728d0-566c-49ef-b5ab-1a584614b3b1/poster-154.webp 154w,https://img.reelgood.com/content/show/f7b728d0-566c-49ef-b5ab-1a584614b3b1/poster-185.webp 185w,https://img.reelgood.com/content/show/f7b728d0-566c-49ef-b5ab-1a584614b3b1/poster-342.webp 342w\" type=\"image/webp\"/><source srcset=\"https://img.reelgood.com/content/show/f7b728d0-566c-49ef-b5ab-1a584614b3b1/poster-92.jpg 92w,https://img.reelgood.com/content/show/f7b728d0-566c-49ef-b5ab-1a584614b3b1/poster-154.jpg 154w,https://img.reelgood.com/content/show/f7b728d0-566c-49ef-b5ab-1a584614b3b1/poster-185.jpg 185w,https://img.reelgood.com/content/show/f7b728d0-566c-49ef-b5ab-1a584614b3b1/poster-342.jpg 342w\" type=\"image/jpeg\"/><img alt=\"Narcos Poster\" class=\"css-4rt6dn e1181ybh1\" data-async-image=\"true\" decoding=\"async\" src=\"https://img.reelgood.com/content/show/f7b728d0-566c-49ef-b5ab-1a584614b3b1/poster-342.jpg\"/></picture></div></a></td><td class=\"css-1u7zfla e126mwsw1\"><a href=\"/show/narcos-2015\">Narcos</a><meta content=\"40\" itemprop=\"position\"/><meta content=\"https://reelgood.com/show/narcos-2015\" itemprop=\"url\"/></td><td class=\"css-1azbcl6\"><span>TV</span></td><td class=\"css-1u11l3y\">2015</td><td class=\"css-1u11l3y\">18+</td><td class=\"css-1u11l3y\">8.8</td><td class=\"css-1u11l3y\">89%</td><td class=\"css-1vuzpp2\"><span class=\"css-1uvh71f\"><div class=\"css-koqe8h e11eoopx0\"><img alt=\"netflix\" src=\"https://img.reelgood.com/service-logos/netflix.svg\"/></div></span><span><span class=\"css-1fmire8\"></span></span></td><td class=\"css-9fnwd0\"><div class=\"css-0\">30 <span>Free Episodes</span></div></td><td class=\"css-1g4hjyy\"><div class=\"css-1bnyegh\"><div class=\"css-1ov9pc1 e126mwsw1\"><span>Track</span><img alt=\"Tracking Icon\" src=\"data:image/svg+xml;base64,PHN2ZyB4bWxucz0iaHR0cDovL3d3dy53My5vcmcvMjAwMC9zdmciIHdpZHRoPSIxMyIgaGVpZ2h0PSIxMyI+PHBhdGggZD0iTTEyLjU3NS41NzZMLjU3NiA1LjU1OWw1Ljc3MiAxLjI0NCAxLjI0NCA1Ljc3MnoiIGZpbGw9IiNGRkYiIGZpbGwtcnVsZT0iZXZlbm9kZCIvPjwvc3ZnPg==\" title=\"Track Show\"/><div class=\"css-1iaqbrw e16felo50\" id=\"trackItPopup\"><div class=\"css-5y4ld6 e16felo51\">Have You Seen?</div><button class=\"css-1hknzz6 eyx6tna1\" data-type=\"All\">All</button><button class=\"css-1hknzz6 eyx6tna1\" data-type=\"Some\">Some</button><button class=\"css-1hknzz6 eyx6tna1\" data-type=\"None\">None</button><button class=\"css-omf9uz e16felo52\" data-type=\"cancel\">Cancel</button></div></div></div></td></tr><tr class=\"css-o6sgwe\" itemprop=\"itemListElement\" itemscope=\"\" itemtype=\"//schema.org/ListItem\"><td class=\"css-1n32qfq\"><a href=\"/movie/silver-linings-playbook-2012\"><div class=\"css-1rashen e126mwsw1\"><picture class=\"css-b4kcmh e1181ybh0\"><source srcset=\"https://img.reelgood.com/content/movie/ca6fa6cc-5d1a-4fc1-aa36-e5f434abdbee/poster-92.webp 92w,https://img.reelgood.com/content/movie/ca6fa6cc-5d1a-4fc1-aa36-e5f434abdbee/poster-154.webp 154w,https://img.reelgood.com/content/movie/ca6fa6cc-5d1a-4fc1-aa36-e5f434abdbee/poster-185.webp 185w,https://img.reelgood.com/content/movie/ca6fa6cc-5d1a-4fc1-aa36-e5f434abdbee/poster-342.webp 342w\" type=\"image/webp\"/><source srcset=\"https://img.reelgood.com/content/movie/ca6fa6cc-5d1a-4fc1-aa36-e5f434abdbee/poster-92.jpg 92w,https://img.reelgood.com/content/movie/ca6fa6cc-5d1a-4fc1-aa36-e5f434abdbee/poster-154.jpg 154w,https://img.reelgood.com/content/movie/ca6fa6cc-5d1a-4fc1-aa36-e5f434abdbee/poster-185.jpg 185w,https://img.reelgood.com/content/movie/ca6fa6cc-5d1a-4fc1-aa36-e5f434abdbee/poster-342.jpg 342w\" type=\"image/jpeg\"/><img alt=\"Silver Linings Playbook Poster\" class=\"css-4rt6dn e1181ybh1\" data-async-image=\"true\" decoding=\"async\" src=\"https://img.reelgood.com/content/movie/ca6fa6cc-5d1a-4fc1-aa36-e5f434abdbee/poster-342.jpg\"/></picture></div></a></td><td class=\"css-1u7zfla e126mwsw1\"><a href=\"/movie/silver-linings-playbook-2012\">Silver Linings Playbook</a><meta content=\"41\" itemprop=\"position\"/><meta content=\"https://reelgood.com/movie/silver-linings-playbook-2012\" itemprop=\"url\"/></td><td class=\"css-0\"></td><td class=\"css-1u11l3y\">2012</td><td class=\"css-1u11l3y\">18+</td><td class=\"css-1u11l3y\">7.7</td><td class=\"css-1u11l3y\">92%</td><td class=\"css-1vuzpp2\"><span class=\"css-1uvh71f\"><div class=\"css-koqe8h e11eoopx0\"><img alt=\"netflix\" src=\"https://img.reelgood.com/service-logos/netflix.svg\"/></div></span><span class=\"css-1llszt4\">+ Rent or Buy</span><span><span class=\"css-1fmire8\"></span></span></td><td class=\"css-y8aj3r\"></td><td class=\"css-1g4hjyy\"><div class=\"css-1bnyegh\"><div class=\"css-1ov9pc1 e126mwsw1\"><span>Want To See</span><img alt=\"Want To See Icon\" src=\"data:image/svg+xml;base64,PHN2ZyB4bWxucz0iaHR0cDovL3d3dy53My5vcmcvMjAwMC9zdmciIHdpZHRoPSIxMiIgaGVpZ2h0PSIxMiI+PHBhdGggZD0iTTQuMzY3IDB2NC4zNjdIMHYzLjI2Nmg0LjM2N1YxMmgzLjI2N1Y3LjYzM0gxMlY0LjM2N0g3LjYzNFYweiIgZmlsbD0iI0ZGRiIgZmlsbC1ydWxlPSJldmVub2RkIi8+PC9zdmc+\" title=\"Add movie to watchlist\"/></div><div class=\"css-1ov9pc1 e126mwsw1\"><span>Seen</span><img alt=\"Check Mark Icon\" src=\"data:image/svg+xml;base64,PHN2ZyB4bWxucz0iaHR0cDovL3d3dy53My5vcmcvMjAwMC9zdmciIHdpZHRoPSIxMSIgaGVpZ2h0PSIxMiI+PHBhdGggZD0iTTYuOTk0IDEuNTA0TDMuODUyIDYuODY3bC0xLjU4Ny0yLjZMMCA1LjUybDMuODYyIDYuMzI2TDExIDB6IiBmaWxsPSIjRkZGIiBmaWxsLXJ1bGU9ImV2ZW5vZGQiLz48L3N2Zz4=\" title=\"Mark movie as seen\"/></div></div></td></tr><tr class=\"css-gfsdx9\" itemprop=\"itemListElement\" itemscope=\"\" itemtype=\"//schema.org/ListItem\"><td class=\"css-1n32qfq\"><a href=\"/show/community-2009\"><div class=\"css-1rashen e126mwsw1\"><picture class=\"css-b4kcmh e1181ybh0\"><source srcset=\"https://img.reelgood.com/content/show/503261cf-eafd-440b-a83e-29fae97b0d2c/poster-92.webp 92w,https://img.reelgood.com/content/show/503261cf-eafd-440b-a83e-29fae97b0d2c/poster-154.webp 154w,https://img.reelgood.com/content/show/503261cf-eafd-440b-a83e-29fae97b0d2c/poster-185.webp 185w,https://img.reelgood.com/content/show/503261cf-eafd-440b-a83e-29fae97b0d2c/poster-342.webp 342w\" type=\"image/webp\"/><source srcset=\"https://img.reelgood.com/content/show/503261cf-eafd-440b-a83e-29fae97b0d2c/poster-92.jpg 92w,https://img.reelgood.com/content/show/503261cf-eafd-440b-a83e-29fae97b0d2c/poster-154.jpg 154w,https://img.reelgood.com/content/show/503261cf-eafd-440b-a83e-29fae97b0d2c/poster-185.jpg 185w,https://img.reelgood.com/content/show/503261cf-eafd-440b-a83e-29fae97b0d2c/poster-342.jpg 342w\" type=\"image/jpeg\"/><img alt=\"Community Poster\" class=\"css-4rt6dn e1181ybh1\" data-async-image=\"true\" decoding=\"async\" src=\"https://img.reelgood.com/content/show/503261cf-eafd-440b-a83e-29fae97b0d2c/poster-342.jpg\"/></picture></div></a></td><td class=\"css-1u7zfla e126mwsw1\"><a href=\"/show/community-2009\">Community</a><meta content=\"42\" itemprop=\"position\"/><meta content=\"https://reelgood.com/show/community-2009\" itemprop=\"url\"/></td><td class=\"css-1azbcl6\"><span>TV</span></td><td class=\"css-1u11l3y\">2009</td><td class=\"css-1u11l3y\">7+</td><td class=\"css-1u11l3y\">8.5</td><td class=\"css-1u11l3y\">88%</td><td class=\"css-1vuzpp2\"><span class=\"css-1uvh71f\"><div class=\"css-1teokc7 e11eoopx0\"><img alt=\"free\" src=\"https://img.reelgood.com/service-logos/free.svg\"/></div></span><span class=\"css-1uvh71f\"><div class=\"css-1teokc7 e11eoopx0\"><img alt=\"netflix\" src=\"https://img.reelgood.com/service-logos/netflix.svg\"/></div></span><span class=\"css-1uvh71f\"><div class=\"css-1teokc7 e11eoopx0\"><img alt=\"hulu_plus\" src=\"https://img.reelgood.com/service-logos/hulu.svg\"/></div></span><span class=\"css-16a9vcn\">+ Rent or Buy</span><span><span class=\"css-1e0xpdq\"></span></span></td><td class=\"css-9fnwd0\"><div class=\"css-0\">110 <span>Free Episodes</span></div></td><td class=\"css-1g4hjyy\"><div class=\"css-1bnyegh\"><div class=\"css-1ov9pc1 e126mwsw1\"><span>Track</span><img alt=\"Tracking Icon\" src=\"data:image/svg+xml;base64,PHN2ZyB4bWxucz0iaHR0cDovL3d3dy53My5vcmcvMjAwMC9zdmciIHdpZHRoPSIxMyIgaGVpZ2h0PSIxMyI+PHBhdGggZD0iTTEyLjU3NS41NzZMLjU3NiA1LjU1OWw1Ljc3MiAxLjI0NCAxLjI0NCA1Ljc3MnoiIGZpbGw9IiNGRkYiIGZpbGwtcnVsZT0iZXZlbm9kZCIvPjwvc3ZnPg==\" title=\"Track Show\"/><div class=\"css-1iaqbrw e16felo50\" id=\"trackItPopup\"><div class=\"css-5y4ld6 e16felo51\">Have You Seen?</div><button class=\"css-1hknzz6 eyx6tna1\" data-type=\"All\">All</button><button class=\"css-1hknzz6 eyx6tna1\" data-type=\"Some\">Some</button><button class=\"css-1hknzz6 eyx6tna1\" data-type=\"None\">None</button><button class=\"css-omf9uz e16felo52\" data-type=\"cancel\">Cancel</button></div></div></div></td></tr><tr class=\"css-gfsdx9\" itemprop=\"itemListElement\" itemscope=\"\" itemtype=\"//schema.org/ListItem\"><td class=\"css-1n32qfq\"><a href=\"/show/mindhunter-2017\"><div class=\"css-1rashen e126mwsw1\"><picture class=\"css-b4kcmh e1181ybh0\"><source srcset=\"https://img.reelgood.com/content/show/8cb33d82-836b-4ca2-b37f-b2c1df282086/poster-92.webp 92w,https://img.reelgood.com/content/show/8cb33d82-836b-4ca2-b37f-b2c1df282086/poster-154.webp 154w,https://img.reelgood.com/content/show/8cb33d82-836b-4ca2-b37f-b2c1df282086/poster-185.webp 185w,https://img.reelgood.com/content/show/8cb33d82-836b-4ca2-b37f-b2c1df282086/poster-342.webp 342w\" type=\"image/webp\"/><source srcset=\"https://img.reelgood.com/content/show/8cb33d82-836b-4ca2-b37f-b2c1df282086/poster-92.jpg 92w,https://img.reelgood.com/content/show/8cb33d82-836b-4ca2-b37f-b2c1df282086/poster-154.jpg 154w,https://img.reelgood.com/content/show/8cb33d82-836b-4ca2-b37f-b2c1df282086/poster-185.jpg 185w,https://img.reelgood.com/content/show/8cb33d82-836b-4ca2-b37f-b2c1df282086/poster-342.jpg 342w\" type=\"image/jpeg\"/><img alt=\"Mindhunter Poster\" class=\"css-4rt6dn e1181ybh1\" data-async-image=\"true\" decoding=\"async\" src=\"https://img.reelgood.com/content/show/8cb33d82-836b-4ca2-b37f-b2c1df282086/poster-342.jpg\"/></picture></div></a></td><td class=\"css-1u7zfla e126mwsw1\"><a href=\"/show/mindhunter-2017\">Mindhunter</a><meta content=\"43\" itemprop=\"position\"/><meta content=\"https://reelgood.com/show/mindhunter-2017\" itemprop=\"url\"/></td><td class=\"css-1azbcl6\"><span>TV</span></td><td class=\"css-1u11l3y\">2017</td><td class=\"css-1u11l3y\">18+</td><td class=\"css-1u11l3y\">8.6</td><td class=\"css-1u11l3y\">96%</td><td class=\"css-1vuzpp2\"><span class=\"css-1uvh71f\"><div class=\"css-koqe8h e11eoopx0\"><img alt=\"netflix\" src=\"https://img.reelgood.com/service-logos/netflix.svg\"/></div></span><span><span class=\"css-1fmire8\"></span></span></td><td class=\"css-9fnwd0\"><div class=\"css-0\">19 <span>Free Episodes</span></div></td><td class=\"css-1g4hjyy\"><div class=\"css-1bnyegh\"><div class=\"css-1ov9pc1 e126mwsw1\"><span>Track</span><img alt=\"Tracking Icon\" src=\"data:image/svg+xml;base64,PHN2ZyB4bWxucz0iaHR0cDovL3d3dy53My5vcmcvMjAwMC9zdmciIHdpZHRoPSIxMyIgaGVpZ2h0PSIxMyI+PHBhdGggZD0iTTEyLjU3NS41NzZMLjU3NiA1LjU1OWw1Ljc3MiAxLjI0NCAxLjI0NCA1Ljc3MnoiIGZpbGw9IiNGRkYiIGZpbGwtcnVsZT0iZXZlbm9kZCIvPjwvc3ZnPg==\" title=\"Track Show\"/><div class=\"css-1iaqbrw e16felo50\" id=\"trackItPopup\"><div class=\"css-5y4ld6 e16felo51\">Have You Seen?</div><button class=\"css-1hknzz6 eyx6tna1\" data-type=\"All\">All</button><button class=\"css-1hknzz6 eyx6tna1\" data-type=\"Some\">Some</button><button class=\"css-1hknzz6 eyx6tna1\" data-type=\"None\">None</button><button class=\"css-omf9uz e16felo52\" data-type=\"cancel\">Cancel</button></div></div></div></td></tr><tr class=\"css-o6sgwe\" itemprop=\"itemListElement\" itemscope=\"\" itemtype=\"//schema.org/ListItem\"><td class=\"css-1n32qfq\"><a href=\"/movie/the-irishman-2018\"><div class=\"css-1rashen e126mwsw1\"><picture class=\"css-b4kcmh e1181ybh0\"><source srcset=\"https://img.reelgood.com/content/movie/3fd8039c-d96c-4461-b74a-81176d354369/poster-92.webp 92w,https://img.reelgood.com/content/movie/3fd8039c-d96c-4461-b74a-81176d354369/poster-154.webp 154w,https://img.reelgood.com/content/movie/3fd8039c-d96c-4461-b74a-81176d354369/poster-185.webp 185w,https://img.reelgood.com/content/movie/3fd8039c-d96c-4461-b74a-81176d354369/poster-342.webp 342w\" type=\"image/webp\"/><source srcset=\"https://img.reelgood.com/content/movie/3fd8039c-d96c-4461-b74a-81176d354369/poster-92.jpg 92w,https://img.reelgood.com/content/movie/3fd8039c-d96c-4461-b74a-81176d354369/poster-154.jpg 154w,https://img.reelgood.com/content/movie/3fd8039c-d96c-4461-b74a-81176d354369/poster-185.jpg 185w,https://img.reelgood.com/content/movie/3fd8039c-d96c-4461-b74a-81176d354369/poster-342.jpg 342w\" type=\"image/jpeg\"/><img alt=\"The Irishman Poster\" class=\"css-4rt6dn e1181ybh1\" data-async-image=\"true\" decoding=\"async\" src=\"https://img.reelgood.com/content/movie/3fd8039c-d96c-4461-b74a-81176d354369/poster-342.jpg\"/></picture></div></a></td><td class=\"css-1u7zfla e126mwsw1\"><a href=\"/movie/the-irishman-2018\">The Irishman</a><meta content=\"44\" itemprop=\"position\"/><meta content=\"https://reelgood.com/movie/the-irishman-2018\" itemprop=\"url\"/></td><td class=\"css-0\"></td><td class=\"css-1u11l3y\">2019</td><td class=\"css-1u11l3y\">18+</td><td class=\"css-1u11l3y\">7.9</td><td class=\"css-1u11l3y\">96%</td><td class=\"css-1vuzpp2\"><span class=\"css-1uvh71f\"><div class=\"css-koqe8h e11eoopx0\"><img alt=\"netflix\" src=\"https://img.reelgood.com/service-logos/netflix.svg\"/></div></span><span><span class=\"css-1fmire8\"></span></span></td><td class=\"css-y8aj3r\"></td><td class=\"css-1g4hjyy\"><div class=\"css-1bnyegh\"><div class=\"css-1ov9pc1 e126mwsw1\"><span>Want To See</span><img alt=\"Want To See Icon\" src=\"data:image/svg+xml;base64,PHN2ZyB4bWxucz0iaHR0cDovL3d3dy53My5vcmcvMjAwMC9zdmciIHdpZHRoPSIxMiIgaGVpZ2h0PSIxMiI+PHBhdGggZD0iTTQuMzY3IDB2NC4zNjdIMHYzLjI2Nmg0LjM2N1YxMmgzLjI2N1Y3LjYzM0gxMlY0LjM2N0g3LjYzNFYweiIgZmlsbD0iI0ZGRiIgZmlsbC1ydWxlPSJldmVub2RkIi8+PC9zdmc+\" title=\"Add movie to watchlist\"/></div><div class=\"css-1ov9pc1 e126mwsw1\"><span>Seen</span><img alt=\"Check Mark Icon\" src=\"data:image/svg+xml;base64,PHN2ZyB4bWxucz0iaHR0cDovL3d3dy53My5vcmcvMjAwMC9zdmciIHdpZHRoPSIxMSIgaGVpZ2h0PSIxMiI+PHBhdGggZD0iTTYuOTk0IDEuNTA0TDMuODUyIDYuODY3bC0xLjU4Ny0yLjZMMCA1LjUybDMuODYyIDYuMzI2TDExIDB6IiBmaWxsPSIjRkZGIiBmaWxsLXJ1bGU9ImV2ZW5vZGQiLz48L3N2Zz4=\" title=\"Mark movie as seen\"/></div></div></td></tr><tr class=\"css-gfsdx9\" itemprop=\"itemListElement\" itemscope=\"\" itemtype=\"//schema.org/ListItem\"><td class=\"css-1n32qfq\"><a href=\"/show/ozark-2017\"><div class=\"css-1rashen e126mwsw1\"><picture class=\"css-b4kcmh e1181ybh0\"><source srcset=\"https://img.reelgood.com/content/show/24335211-09df-4ae0-81e7-c6c970f4aa0b/poster-92.webp 92w,https://img.reelgood.com/content/show/24335211-09df-4ae0-81e7-c6c970f4aa0b/poster-154.webp 154w,https://img.reelgood.com/content/show/24335211-09df-4ae0-81e7-c6c970f4aa0b/poster-185.webp 185w,https://img.reelgood.com/content/show/24335211-09df-4ae0-81e7-c6c970f4aa0b/poster-342.webp 342w\" type=\"image/webp\"/><source srcset=\"https://img.reelgood.com/content/show/24335211-09df-4ae0-81e7-c6c970f4aa0b/poster-92.jpg 92w,https://img.reelgood.com/content/show/24335211-09df-4ae0-81e7-c6c970f4aa0b/poster-154.jpg 154w,https://img.reelgood.com/content/show/24335211-09df-4ae0-81e7-c6c970f4aa0b/poster-185.jpg 185w,https://img.reelgood.com/content/show/24335211-09df-4ae0-81e7-c6c970f4aa0b/poster-342.jpg 342w\" type=\"image/jpeg\"/><img alt=\"Ozark Poster\" class=\"css-4rt6dn e1181ybh1\" data-async-image=\"true\" decoding=\"async\" src=\"https://img.reelgood.com/content/show/24335211-09df-4ae0-81e7-c6c970f4aa0b/poster-342.jpg\"/></picture></div></a></td><td class=\"css-1u7zfla e126mwsw1\"><a href=\"/show/ozark-2017\">Ozark</a><meta content=\"45\" itemprop=\"position\"/><meta content=\"https://reelgood.com/show/ozark-2017\" itemprop=\"url\"/></td><td class=\"css-1azbcl6\"><span>TV</span></td><td class=\"css-1u11l3y\">2017</td><td class=\"css-1u11l3y\">18+</td><td class=\"css-1u11l3y\">8.4</td><td class=\"css-1u11l3y\">81%</td><td class=\"css-1vuzpp2\"><span class=\"css-1uvh71f\"><div class=\"css-koqe8h e11eoopx0\"><img alt=\"netflix\" src=\"https://img.reelgood.com/service-logos/netflix.svg\"/></div></span><span><span class=\"css-1fmire8\"></span></span></td><td class=\"css-9fnwd0\"><div class=\"css-0\">30 <span>Free Episodes</span></div></td><td class=\"css-1g4hjyy\"><div class=\"css-1bnyegh\"><div class=\"css-1ov9pc1 e126mwsw1\"><span>Track</span><img alt=\"Tracking Icon\" src=\"data:image/svg+xml;base64,PHN2ZyB4bWxucz0iaHR0cDovL3d3dy53My5vcmcvMjAwMC9zdmciIHdpZHRoPSIxMyIgaGVpZ2h0PSIxMyI+PHBhdGggZD0iTTEyLjU3NS41NzZMLjU3NiA1LjU1OWw1Ljc3MiAxLjI0NCAxLjI0NCA1Ljc3MnoiIGZpbGw9IiNGRkYiIGZpbGwtcnVsZT0iZXZlbm9kZCIvPjwvc3ZnPg==\" title=\"Track Show\"/><div class=\"css-1iaqbrw e16felo50\" id=\"trackItPopup\"><div class=\"css-5y4ld6 e16felo51\">Have You Seen?</div><button class=\"css-1hknzz6 eyx6tna1\" data-type=\"All\">All</button><button class=\"css-1hknzz6 eyx6tna1\" data-type=\"Some\">Some</button><button class=\"css-1hknzz6 eyx6tna1\" data-type=\"None\">None</button><button class=\"css-omf9uz e16felo52\" data-type=\"cancel\">Cancel</button></div></div></div></td></tr><tr class=\"css-gfsdx9\" itemprop=\"itemListElement\" itemscope=\"\" itemtype=\"//schema.org/ListItem\"><td class=\"css-1n32qfq\"><a href=\"/show/marvels-daredevil-2015\"><div class=\"css-1rashen e126mwsw1\"><picture class=\"css-b4kcmh e1181ybh0\"><source srcset=\"https://img.reelgood.com/content/show/3b56af27-d240-499d-88a7-2db18973fd81/poster-92.webp 92w,https://img.reelgood.com/content/show/3b56af27-d240-499d-88a7-2db18973fd81/poster-154.webp 154w,https://img.reelgood.com/content/show/3b56af27-d240-499d-88a7-2db18973fd81/poster-185.webp 185w,https://img.reelgood.com/content/show/3b56af27-d240-499d-88a7-2db18973fd81/poster-342.webp 342w\" type=\"image/webp\"/><source srcset=\"https://img.reelgood.com/content/show/3b56af27-d240-499d-88a7-2db18973fd81/poster-92.jpg 92w,https://img.reelgood.com/content/show/3b56af27-d240-499d-88a7-2db18973fd81/poster-154.jpg 154w,https://img.reelgood.com/content/show/3b56af27-d240-499d-88a7-2db18973fd81/poster-185.jpg 185w,https://img.reelgood.com/content/show/3b56af27-d240-499d-88a7-2db18973fd81/poster-342.jpg 342w\" type=\"image/jpeg\"/><img alt=\"Marvel's Daredevil Poster\" class=\"css-4rt6dn e1181ybh1\" data-async-image=\"true\" decoding=\"async\" src=\"https://img.reelgood.com/content/show/3b56af27-d240-499d-88a7-2db18973fd81/poster-342.jpg\"/></picture></div></a></td><td class=\"css-1u7zfla e126mwsw1\"><a href=\"/show/marvels-daredevil-2015\">Marvel's Daredevil</a><meta content=\"46\" itemprop=\"position\"/><meta content=\"https://reelgood.com/show/marvels-daredevil-2015\" itemprop=\"url\"/></td><td class=\"css-1azbcl6\"><span>TV</span></td><td class=\"css-1u11l3y\">2015</td><td class=\"css-1u11l3y\">18+</td><td class=\"css-1u11l3y\">8.6</td><td class=\"css-1u11l3y\">92%</td><td class=\"css-1vuzpp2\"><span class=\"css-1uvh71f\"><div class=\"css-koqe8h e11eoopx0\"><img alt=\"netflix\" src=\"https://img.reelgood.com/service-logos/netflix.svg\"/></div></span><span class=\"css-1llszt4\">+ Rent or Buy</span><span><span class=\"css-1fmire8\"></span></span></td><td class=\"css-9fnwd0\"><div class=\"css-0\">39 <span>Free Episodes</span></div></td><td class=\"css-1g4hjyy\"><div class=\"css-1bnyegh\"><div class=\"css-1ov9pc1 e126mwsw1\"><span>Track</span><img alt=\"Tracking Icon\" src=\"data:image/svg+xml;base64,PHN2ZyB4bWxucz0iaHR0cDovL3d3dy53My5vcmcvMjAwMC9zdmciIHdpZHRoPSIxMyIgaGVpZ2h0PSIxMyI+PHBhdGggZD0iTTEyLjU3NS41NzZMLjU3NiA1LjU1OWw1Ljc3MiAxLjI0NCAxLjI0NCA1Ljc3MnoiIGZpbGw9IiNGRkYiIGZpbGwtcnVsZT0iZXZlbm9kZCIvPjwvc3ZnPg==\" title=\"Track Show\"/><div class=\"css-1iaqbrw e16felo50\" id=\"trackItPopup\"><div class=\"css-5y4ld6 e16felo51\">Have You Seen?</div><button class=\"css-1hknzz6 eyx6tna1\" data-type=\"All\">All</button><button class=\"css-1hknzz6 eyx6tna1\" data-type=\"Some\">Some</button><button class=\"css-1hknzz6 eyx6tna1\" data-type=\"None\">None</button><button class=\"css-omf9uz e16felo52\" data-type=\"cancel\">Cancel</button></div></div></div></td></tr><tr class=\"css-gfsdx9\" itemprop=\"itemListElement\" itemscope=\"\" itemtype=\"//schema.org/ListItem\"><td class=\"css-1n32qfq\"><a href=\"/show/dexter-2006\"><div class=\"css-1rashen e126mwsw1\"><picture class=\"css-b4kcmh e1181ybh0\"><source srcset=\"https://img.reelgood.com/content/show/07a313bb-24dd-4046-9df3-f1da10871bba/poster-92.webp 92w,https://img.reelgood.com/content/show/07a313bb-24dd-4046-9df3-f1da10871bba/poster-154.webp 154w,https://img.reelgood.com/content/show/07a313bb-24dd-4046-9df3-f1da10871bba/poster-185.webp 185w,https://img.reelgood.com/content/show/07a313bb-24dd-4046-9df3-f1da10871bba/poster-342.webp 342w\" type=\"image/webp\"/><source srcset=\"https://img.reelgood.com/content/show/07a313bb-24dd-4046-9df3-f1da10871bba/poster-92.jpg 92w,https://img.reelgood.com/content/show/07a313bb-24dd-4046-9df3-f1da10871bba/poster-154.jpg 154w,https://img.reelgood.com/content/show/07a313bb-24dd-4046-9df3-f1da10871bba/poster-185.jpg 185w,https://img.reelgood.com/content/show/07a313bb-24dd-4046-9df3-f1da10871bba/poster-342.jpg 342w\" type=\"image/jpeg\"/><img alt=\"Dexter Poster\" class=\"css-4rt6dn e1181ybh1\" data-async-image=\"true\" decoding=\"async\" src=\"https://img.reelgood.com/content/show/07a313bb-24dd-4046-9df3-f1da10871bba/poster-342.jpg\"/></picture></div></a></td><td class=\"css-1u7zfla e126mwsw1\"><a href=\"/show/dexter-2006\">Dexter</a><meta content=\"47\" itemprop=\"position\"/><meta content=\"https://reelgood.com/show/dexter-2006\" itemprop=\"url\"/></td><td class=\"css-1azbcl6\"><span>TV</span></td><td class=\"css-1u11l3y\">2006</td><td class=\"css-1u11l3y\">18+</td><td class=\"css-1u11l3y\">8.6</td><td class=\"css-1u11l3y\">72%</td><td class=\"css-1vuzpp2\"><span class=\"css-1uvh71f\"><div class=\"css-1teokc7 e11eoopx0\"><img alt=\"netflix\" src=\"https://img.reelgood.com/service-logos/netflix.svg\"/></div></span><span class=\"css-1uvh71f\"><div class=\"css-1teokc7 e11eoopx0\"><img alt=\"showtime\" src=\"https://img.reelgood.com/service-logos/showtime.svg\"/></div></span><span class=\"css-1uvh71f\"><div class=\"css-1teokc7 e11eoopx0\"><img alt=\"fubo_tv\" src=\"https://img.reelgood.com/service-logos/fubo_tv.svg\"/></div></span><span class=\"css-16a9vcn\">+ Rent or Buy</span><span><span class=\"css-1e0xpdq\"></span></span></td><td class=\"css-9fnwd0\"><div class=\"css-0\">96 <span>Free Episodes</span></div></td><td class=\"css-1g4hjyy\"><div class=\"css-1bnyegh\"><div class=\"css-1ov9pc1 e126mwsw1\"><span>Track</span><img alt=\"Tracking Icon\" src=\"data:image/svg+xml;base64,PHN2ZyB4bWxucz0iaHR0cDovL3d3dy53My5vcmcvMjAwMC9zdmciIHdpZHRoPSIxMyIgaGVpZ2h0PSIxMyI+PHBhdGggZD0iTTEyLjU3NS41NzZMLjU3NiA1LjU1OWw1Ljc3MiAxLjI0NCAxLjI0NCA1Ljc3MnoiIGZpbGw9IiNGRkYiIGZpbGwtcnVsZT0iZXZlbm9kZCIvPjwvc3ZnPg==\" title=\"Track Show\"/><div class=\"css-1iaqbrw e16felo50\" id=\"trackItPopup\"><div class=\"css-5y4ld6 e16felo51\">Have You Seen?</div><button class=\"css-1hknzz6 eyx6tna1\" data-type=\"All\">All</button><button class=\"css-1hknzz6 eyx6tna1\" data-type=\"Some\">Some</button><button class=\"css-1hknzz6 eyx6tna1\" data-type=\"None\">None</button><button class=\"css-omf9uz e16felo52\" data-type=\"cancel\">Cancel</button></div></div></div></td></tr><tr class=\"css-o6sgwe\" itemprop=\"itemListElement\" itemscope=\"\" itemtype=\"//schema.org/ListItem\"><td class=\"css-1n32qfq\"><a href=\"/movie/drive-2011\"><div class=\"css-1rashen e126mwsw1\"><picture class=\"css-b4kcmh e1181ybh0\"><source srcset=\"https://img.reelgood.com/content/movie/30844c61-69b1-44d5-b9fd-9f133f979333/poster-92.webp 92w,https://img.reelgood.com/content/movie/30844c61-69b1-44d5-b9fd-9f133f979333/poster-154.webp 154w,https://img.reelgood.com/content/movie/30844c61-69b1-44d5-b9fd-9f133f979333/poster-185.webp 185w,https://img.reelgood.com/content/movie/30844c61-69b1-44d5-b9fd-9f133f979333/poster-342.webp 342w\" type=\"image/webp\"/><source srcset=\"https://img.reelgood.com/content/movie/30844c61-69b1-44d5-b9fd-9f133f979333/poster-92.jpg 92w,https://img.reelgood.com/content/movie/30844c61-69b1-44d5-b9fd-9f133f979333/poster-154.jpg 154w,https://img.reelgood.com/content/movie/30844c61-69b1-44d5-b9fd-9f133f979333/poster-185.jpg 185w,https://img.reelgood.com/content/movie/30844c61-69b1-44d5-b9fd-9f133f979333/poster-342.jpg 342w\" type=\"image/jpeg\"/><img alt=\"Drive Poster\" class=\"css-4rt6dn e1181ybh1\" data-async-image=\"true\" decoding=\"async\" src=\"https://img.reelgood.com/content/movie/30844c61-69b1-44d5-b9fd-9f133f979333/poster-342.jpg\"/></picture></div></a></td><td class=\"css-1u7zfla e126mwsw1\"><a href=\"/movie/drive-2011\">Drive</a><meta content=\"48\" itemprop=\"position\"/><meta content=\"https://reelgood.com/movie/drive-2011\" itemprop=\"url\"/></td><td class=\"css-0\"></td><td class=\"css-1u11l3y\">2011</td><td class=\"css-1u11l3y\">18+</td><td class=\"css-1u11l3y\">7.8</td><td class=\"css-1u11l3y\">92%</td><td class=\"css-1vuzpp2\"><span class=\"css-1uvh71f\"><div class=\"css-koqe8h e11eoopx0\"><img alt=\"netflix\" src=\"https://img.reelgood.com/service-logos/netflix.svg\"/></div></span><span class=\"css-1llszt4\">+ Rent or Buy</span><span><span class=\"css-1fmire8\"></span></span></td><td class=\"css-y8aj3r\"></td><td class=\"css-1g4hjyy\"><div class=\"css-1bnyegh\"><div class=\"css-1ov9pc1 e126mwsw1\"><span>Want To See</span><img alt=\"Want To See Icon\" src=\"data:image/svg+xml;base64,PHN2ZyB4bWxucz0iaHR0cDovL3d3dy53My5vcmcvMjAwMC9zdmciIHdpZHRoPSIxMiIgaGVpZ2h0PSIxMiI+PHBhdGggZD0iTTQuMzY3IDB2NC4zNjdIMHYzLjI2Nmg0LjM2N1YxMmgzLjI2N1Y3LjYzM0gxMlY0LjM2N0g3LjYzNFYweiIgZmlsbD0iI0ZGRiIgZmlsbC1ydWxlPSJldmVub2RkIi8+PC9zdmc+\" title=\"Add movie to watchlist\"/></div><div class=\"css-1ov9pc1 e126mwsw1\"><span>Seen</span><img alt=\"Check Mark Icon\" src=\"data:image/svg+xml;base64,PHN2ZyB4bWxucz0iaHR0cDovL3d3dy53My5vcmcvMjAwMC9zdmciIHdpZHRoPSIxMSIgaGVpZ2h0PSIxMiI+PHBhdGggZD0iTTYuOTk0IDEuNTA0TDMuODUyIDYuODY3bC0xLjU4Ny0yLjZMMCA1LjUybDMuODYyIDYuMzI2TDExIDB6IiBmaWxsPSIjRkZGIiBmaWxsLXJ1bGU9ImV2ZW5vZGQiLz48L3N2Zz4=\" title=\"Mark movie as seen\"/></div></div></td></tr><tr class=\"css-gfsdx9\" itemprop=\"itemListElement\" itemscope=\"\" itemtype=\"//schema.org/ListItem\"><td class=\"css-1n32qfq\"><a href=\"/show/parks-and-recreation-2009\"><div class=\"css-1rashen e126mwsw1\"><picture class=\"css-b4kcmh e1181ybh0\"><source srcset=\"https://img.reelgood.com/content/show/e0b5d8f8-8ba7-4a0a-97e8-b8d7fea0e851/poster-92.webp 92w,https://img.reelgood.com/content/show/e0b5d8f8-8ba7-4a0a-97e8-b8d7fea0e851/poster-154.webp 154w,https://img.reelgood.com/content/show/e0b5d8f8-8ba7-4a0a-97e8-b8d7fea0e851/poster-185.webp 185w,https://img.reelgood.com/content/show/e0b5d8f8-8ba7-4a0a-97e8-b8d7fea0e851/poster-342.webp 342w\" type=\"image/webp\"/><source srcset=\"https://img.reelgood.com/content/show/e0b5d8f8-8ba7-4a0a-97e8-b8d7fea0e851/poster-92.jpg 92w,https://img.reelgood.com/content/show/e0b5d8f8-8ba7-4a0a-97e8-b8d7fea0e851/poster-154.jpg 154w,https://img.reelgood.com/content/show/e0b5d8f8-8ba7-4a0a-97e8-b8d7fea0e851/poster-185.jpg 185w,https://img.reelgood.com/content/show/e0b5d8f8-8ba7-4a0a-97e8-b8d7fea0e851/poster-342.jpg 342w\" type=\"image/jpeg\"/><img alt=\"Parks and Recreation Poster\" class=\"css-4rt6dn e1181ybh1\" data-async-image=\"true\" decoding=\"async\" src=\"https://img.reelgood.com/content/show/e0b5d8f8-8ba7-4a0a-97e8-b8d7fea0e851/poster-342.jpg\"/></picture></div></a></td><td class=\"css-1u7zfla e126mwsw1\"><a href=\"/show/parks-and-recreation-2009\">Parks and Recreation</a><meta content=\"49\" itemprop=\"position\"/><meta content=\"https://reelgood.com/show/parks-and-recreation-2009\" itemprop=\"url\"/></td><td class=\"css-1azbcl6\"><span>TV</span></td><td class=\"css-1u11l3y\">2009</td><td class=\"css-1u11l3y\">16+</td><td class=\"css-1u11l3y\">8.6</td><td class=\"css-1u11l3y\">93%</td><td class=\"css-1vuzpp2\"><span class=\"css-1uvh71f\"><div class=\"css-19ybu1g e11eoopx0\"><img alt=\"netflix\" src=\"https://img.reelgood.com/service-logos/netflix.svg\"/></div></span><span class=\"css-1uvh71f\"><div class=\"css-19ybu1g e11eoopx0\"><img alt=\"amazon_prime\" src=\"https://img.reelgood.com/service-logos/amazon_prime.svg\"/></div></span><span class=\"css-1uvh71f\"><div class=\"css-19ybu1g e11eoopx0\"><img alt=\"hulu_plus\" src=\"https://img.reelgood.com/service-logos/hulu.svg\"/></div></span><span class=\"css-1uvh71f\"><div class=\"css-19ybu1g e11eoopx0\"><img alt=\"nbc_tveverywhere\" src=\"https://img.reelgood.com/service-logos/nbc.svg\"/></div></span><span class=\"css-1uvh71f\"><div class=\"css-19ybu1g e11eoopx0\"><img alt=\"comedycentral_tveverywhere\" src=\"https://img.reelgood.com/service-logos/comedy.svg\"/></div></span><span class=\"css-1uvh71f\"><div class=\"css-19ybu1g e11eoopx0\"><img alt=\"fubo_tv\" src=\"https://img.reelgood.com/service-logos/fubo_tv.svg\"/></div></span><span class=\"css-16q7f9e\">+ Rent or Buy</span><span><span class=\"css-r9230s\"></span></span></td><td class=\"css-9fnwd0\"><div class=\"css-0\">122 <span>Free Episodes</span></div></td><td class=\"css-1g4hjyy\"><div class=\"css-1bnyegh\"><div class=\"css-1ov9pc1 e126mwsw1\"><span>Track</span><img alt=\"Tracking Icon\" src=\"data:image/svg+xml;base64,PHN2ZyB4bWxucz0iaHR0cDovL3d3dy53My5vcmcvMjAwMC9zdmciIHdpZHRoPSIxMyIgaGVpZ2h0PSIxMyI+PHBhdGggZD0iTTEyLjU3NS41NzZMLjU3NiA1LjU1OWw1Ljc3MiAxLjI0NCAxLjI0NCA1Ljc3MnoiIGZpbGw9IiNGRkYiIGZpbGwtcnVsZT0iZXZlbm9kZCIvPjwvc3ZnPg==\" title=\"Track Show\"/><div class=\"css-1iaqbrw e16felo50\" id=\"trackItPopup\"><div class=\"css-5y4ld6 e16felo51\">Have You Seen?</div><button class=\"css-1hknzz6 eyx6tna1\" data-type=\"All\">All</button><button class=\"css-1hknzz6 eyx6tna1\" data-type=\"Some\">Some</button><button class=\"css-1hknzz6 eyx6tna1\" data-type=\"None\">None</button><button class=\"css-omf9uz e16felo52\" data-type=\"cancel\">Cancel</button></div></div></div></td></tr></tbody></table></body></html>"
      ]
     },
     "execution_count": 22,
     "metadata": {},
     "output_type": "execute_result"
    }
   ],
   "source": [
    "table_soup"
   ]
  },
  {
   "cell_type": "code",
   "execution_count": 36,
   "metadata": {},
   "outputs": [],
   "source": [
    "links = table_soup.find_all('a', attrs={'href': re.compile(\"/\")})"
   ]
  },
  {
   "cell_type": "code",
   "execution_count": 37,
   "metadata": {},
   "outputs": [
    {
     "data": {
      "text/plain": [
       "100"
      ]
     },
     "execution_count": 37,
     "metadata": {},
     "output_type": "execute_result"
    }
   ],
   "source": [
    "len(links)"
   ]
  },
  {
   "cell_type": "markdown",
   "metadata": {},
   "source": [
    "#### Per inspection, each row in the table has the link to more details twice (one when you click the image, one when you click the name).  "
   ]
  },
  {
   "cell_type": "code",
   "execution_count": 38,
   "metadata": {
    "collapsed": true
   },
   "outputs": [
    {
     "data": {
      "text/plain": [
       "<a href=\"/show/breaking-bad-2008\"><style data-emotion-css=\"1s3a0kl\">.css-1s3a0kl{position:static;width:51px;min-width:51px;height:76px;}.css-1s3a0kl > picture,.css-1s3a0kl > picture > img{position:static;width:51px;min-width:51px;height:76px;}</style><style data-emotion-css=\"1rashen\">.css-1rashen{contain:strict;position:absolute;width:100%;height:100%;background-color:#2b3239cc;overflow:hidden;position:static;width:51px;min-width:51px;height:76px;}.css-1rashen > picture,.css-1rashen > picture > img{position:static;width:51px;min-width:51px;height:76px;}</style><div class=\"css-1rashen e126mwsw1\"><style data-emotion-css=\"b4kcmh\">.css-b4kcmh{position:absolute;width:100%;height:100%;}</style><picture class=\"css-b4kcmh e1181ybh0\"><source srcset=\"https://img.reelgood.com/content/show/f75762df-3e5b-4cd3-b621-32399a3dd20d/poster-92.webp 92w,https://img.reelgood.com/content/show/f75762df-3e5b-4cd3-b621-32399a3dd20d/poster-154.webp 154w,https://img.reelgood.com/content/show/f75762df-3e5b-4cd3-b621-32399a3dd20d/poster-185.webp 185w,https://img.reelgood.com/content/show/f75762df-3e5b-4cd3-b621-32399a3dd20d/poster-342.webp 342w\" type=\"image/webp\"/><source srcset=\"https://img.reelgood.com/content/show/f75762df-3e5b-4cd3-b621-32399a3dd20d/poster-92.jpg 92w,https://img.reelgood.com/content/show/f75762df-3e5b-4cd3-b621-32399a3dd20d/poster-154.jpg 154w,https://img.reelgood.com/content/show/f75762df-3e5b-4cd3-b621-32399a3dd20d/poster-185.jpg 185w,https://img.reelgood.com/content/show/f75762df-3e5b-4cd3-b621-32399a3dd20d/poster-342.jpg 342w\" type=\"image/jpeg\"/><style data-emotion-css=\"4rt6dn\">.css-4rt6dn{object-fit:cover;object-position:center;width:100%;height:100%;-webkit-transition-duration:350ms;transition-duration:350ms;-webkit-transition-property:opacity;transition-property:opacity;-webkit-transition-timing-function:cubic-bezier(0.4,0,0.2,1);transition-timing-function:cubic-bezier(0.4,0,0.2,1);}.css-4rt6dn::after{display:block;position:absolute;top:-10%;left:-10%;width:120%;height:120%;background-color:#000;content:attr(alt);}.css-4rt6dn:-moz-loading{visibility:hidden;}</style><img alt=\"Breaking Bad Poster\" class=\"css-4rt6dn e1181ybh1\" data-async-image=\"true\" decoding=\"async\" src=\"https://img.reelgood.com/content/show/f75762df-3e5b-4cd3-b621-32399a3dd20d/poster-342.jpg\"/></picture></div></a>"
      ]
     },
     "execution_count": 38,
     "metadata": {},
     "output_type": "execute_result"
    }
   ],
   "source": [
    "links[0]"
   ]
  },
  {
   "cell_type": "code",
   "execution_count": 39,
   "metadata": {},
   "outputs": [
    {
     "data": {
      "text/plain": [
       "'/show/breaking-bad-2008'"
      ]
     },
     "execution_count": 39,
     "metadata": {},
     "output_type": "execute_result"
    }
   ],
   "source": [
    "links[0]['href']"
   ]
  },
  {
   "cell_type": "code",
   "execution_count": 40,
   "metadata": {},
   "outputs": [
    {
     "data": {
      "text/plain": [
       "'/show/breaking-bad-2008'"
      ]
     },
     "execution_count": 40,
     "metadata": {},
     "output_type": "execute_result"
    }
   ],
   "source": [
    "links[1]['href']"
   ]
  },
  {
   "cell_type": "code",
   "execution_count": 41,
   "metadata": {},
   "outputs": [
    {
     "data": {
      "text/plain": [
       "'/movie/inception-2010'"
      ]
     },
     "execution_count": 41,
     "metadata": {},
     "output_type": "execute_result"
    }
   ],
   "source": [
    "links[2]['href']"
   ]
  },
  {
   "cell_type": "code",
   "execution_count": 49,
   "metadata": {},
   "outputs": [],
   "source": [
    "links_list = []\n",
    "base = 'https://reelgood.com'\n",
    "\n",
    "for i in range (int(len(links)/2)):\n",
    "    full_url = base+links[2*i]['href']\n",
    "    links_list.append(full_url)"
   ]
  },
  {
   "cell_type": "code",
   "execution_count": 50,
   "metadata": {},
   "outputs": [
    {
     "data": {
      "text/plain": [
       "['https://reelgood.com/show/breaking-bad-2008',\n",
       " 'https://reelgood.com/movie/inception-2010',\n",
       " 'https://reelgood.com/movie/back-to-the-future-1985',\n",
       " 'https://reelgood.com/movie/the-matrix-1999',\n",
       " 'https://reelgood.com/show/stranger-things-2016',\n",
       " 'https://reelgood.com/movie/the-silence-of-the-lambs-1991',\n",
       " 'https://reelgood.com/movie/avengers-infinity-war-2018',\n",
       " 'https://reelgood.com/movie/the-good-the-bad-and-the-ugly-1966',\n",
       " 'https://reelgood.com/movie/django-unchained-2012',\n",
       " 'https://reelgood.com/movie/the-pianist-2002',\n",
       " 'https://reelgood.com/movie/spider-man-into-the-spider-verse-2018',\n",
       " 'https://reelgood.com/movie/raiders-of-the-lost-ark-1981',\n",
       " 'https://reelgood.com/show/avatar-the-last-airbender-2005',\n",
       " 'https://reelgood.com/movie/inglourious-basterds-2009',\n",
       " 'https://reelgood.com/movie/taxi-driver-1976',\n",
       " 'https://reelgood.com/show/sherlock-2010',\n",
       " 'https://reelgood.com/show/money-heist-2017',\n",
       " 'https://reelgood.com/movie/3-idiots-2009',\n",
       " 'https://reelgood.com/movie/pans-labyrinth-2006',\n",
       " 'https://reelgood.com/show/dark-2017',\n",
       " 'https://reelgood.com/movie/room-2015',\n",
       " 'https://reelgood.com/movie/monty-python-and-the-holy-grail-1975',\n",
       " 'https://reelgood.com/movie/indiana-jones-and-the-last-crusade-1989',\n",
       " 'https://reelgood.com/show/the-office-2005',\n",
       " 'https://reelgood.com/show/supernatural-2005',\n",
       " 'https://reelgood.com/movie/groundhog-day-1993',\n",
       " 'https://reelgood.com/show/better-call-saul-2015',\n",
       " 'https://reelgood.com/show/black-mirror-2011',\n",
       " 'https://reelgood.com/show/attack-on-titan-2013',\n",
       " 'https://reelgood.com/movie/v-for-vendetta-2005',\n",
       " 'https://reelgood.com/movie/her-2013',\n",
       " 'https://reelgood.com/show/peaky-blinders-2013',\n",
       " 'https://reelgood.com/movie/there-will-be-blood-2007',\n",
       " 'https://reelgood.com/movie/dallas-buyers-club-2013',\n",
       " 'https://reelgood.com/movie/life-of-brian-1979',\n",
       " 'https://reelgood.com/movie/the-social-network-2010',\n",
       " 'https://reelgood.com/show/the-walking-dead-2010',\n",
       " 'https://reelgood.com/movie/the-perks-of-being-a-wallflower-2012',\n",
       " 'https://reelgood.com/movie/ex-machina-2015',\n",
       " 'https://reelgood.com/movie/district-9-2009',\n",
       " 'https://reelgood.com/show/narcos-2015',\n",
       " 'https://reelgood.com/movie/silver-linings-playbook-2012',\n",
       " 'https://reelgood.com/show/community-2009',\n",
       " 'https://reelgood.com/show/mindhunter-2017',\n",
       " 'https://reelgood.com/movie/the-irishman-2018',\n",
       " 'https://reelgood.com/show/ozark-2017',\n",
       " 'https://reelgood.com/show/marvels-daredevil-2015',\n",
       " 'https://reelgood.com/show/dexter-2006',\n",
       " 'https://reelgood.com/movie/drive-2011',\n",
       " 'https://reelgood.com/show/parks-and-recreation-2009']"
      ]
     },
     "execution_count": 50,
     "metadata": {},
     "output_type": "execute_result"
    }
   ],
   "source": [
    "links_list"
   ]
  },
  {
   "cell_type": "code",
   "execution_count": 51,
   "metadata": {
    "scrolled": false
   },
   "outputs": [
    {
     "data": {
      "text/html": [
       "<div>\n",
       "<style scoped>\n",
       "    .dataframe tbody tr th:only-of-type {\n",
       "        vertical-align: middle;\n",
       "    }\n",
       "\n",
       "    .dataframe tbody tr th {\n",
       "        vertical-align: top;\n",
       "    }\n",
       "\n",
       "    .dataframe thead th {\n",
       "        text-align: right;\n",
       "    }\n",
       "</style>\n",
       "<table border=\"1\" class=\"dataframe\">\n",
       "  <thead>\n",
       "    <tr style=\"text-align: right;\">\n",
       "      <th></th>\n",
       "      <th>Unnamed: 0</th>\n",
       "      <th>.css-1cxgkif{color:inherit;}.css-1cxgkif:hover{color:white;}Title.css-1thuphj{width:12px;margin-left:5px;}</th>\n",
       "      <th>Unnamed: 2</th>\n",
       "      <th>Year</th>\n",
       "      <th>Rating</th>\n",
       "      <th>.css-pp4al6{height:14px;margin-right:1px;margin-bottom:-2px;opacity:0.85;}.css-pp4al6:hover{opacity:1;}</th>\n",
       "      <th>.css-2goa6a{height:18px;margin-bottom:-2px;opacity:0.85;}.css-2goa6a:hover{opacity:1;}</th>\n",
       "      <th>Available On</th>\n",
       "      <th>Unnamed: 8</th>\n",
       "      <th>Unnamed: 9</th>\n",
       "      <th>link</th>\n",
       "    </tr>\n",
       "  </thead>\n",
       "  <tbody>\n",
       "    <tr>\n",
       "      <th>0</th>\n",
       "      <td>.css-1s3a0kl{position:static;width:51px;min-wi...</td>\n",
       "      <td>Breaking Bad</td>\n",
       "      <td>TV</td>\n",
       "      <td>2008</td>\n",
       "      <td>18+</td>\n",
       "      <td>9.5</td>\n",
       "      <td>96%</td>\n",
       "      <td>.css-1uvh71f{display:inline-block;margin:2px 0...</td>\n",
       "      <td>62 Free Episodes</td>\n",
       "      <td>.css-1bnyegh{display:-webkit-box;display:-webk...</td>\n",
       "      <td>https://reelgood.com/show/breaking-bad-2008</td>\n",
       "    </tr>\n",
       "    <tr>\n",
       "      <th>1</th>\n",
       "      <td>NaN</td>\n",
       "      <td>Inception</td>\n",
       "      <td>NaN</td>\n",
       "      <td>2010</td>\n",
       "      <td>13+</td>\n",
       "      <td>8.8</td>\n",
       "      <td>87%</td>\n",
       "      <td>.css-1sd2sh1{width:50px;height:25px;margin:0 2...</td>\n",
       "      <td>NaN</td>\n",
       "      <td>Want To SeeSeen</td>\n",
       "      <td>https://reelgood.com/movie/inception-2010</td>\n",
       "    </tr>\n",
       "    <tr>\n",
       "      <th>2</th>\n",
       "      <td>NaN</td>\n",
       "      <td>Back to the Future</td>\n",
       "      <td>NaN</td>\n",
       "      <td>1985</td>\n",
       "      <td>7+</td>\n",
       "      <td>8.5</td>\n",
       "      <td>96%</td>\n",
       "      <td>+ Rent or Buy</td>\n",
       "      <td>NaN</td>\n",
       "      <td>Want To SeeSeen</td>\n",
       "      <td>https://reelgood.com/movie/back-to-the-future-...</td>\n",
       "    </tr>\n",
       "    <tr>\n",
       "      <th>3</th>\n",
       "      <td>NaN</td>\n",
       "      <td>The Matrix</td>\n",
       "      <td>NaN</td>\n",
       "      <td>1999</td>\n",
       "      <td>18+</td>\n",
       "      <td>8.7</td>\n",
       "      <td>88%</td>\n",
       "      <td>+ Rent or Buy</td>\n",
       "      <td>NaN</td>\n",
       "      <td>Want To SeeSeen</td>\n",
       "      <td>https://reelgood.com/movie/the-matrix-1999</td>\n",
       "    </tr>\n",
       "    <tr>\n",
       "      <th>4</th>\n",
       "      <td>NaN</td>\n",
       "      <td>Stranger Things</td>\n",
       "      <td>TV</td>\n",
       "      <td>2016</td>\n",
       "      <td>16+</td>\n",
       "      <td>8.8</td>\n",
       "      <td>93%</td>\n",
       "      <td>NaN</td>\n",
       "      <td>25 Free Episodes</td>\n",
       "      <td>TrackHave You Seen?AllSomeNoneCancel</td>\n",
       "      <td>https://reelgood.com/show/stranger-things-2016</td>\n",
       "    </tr>\n",
       "  </tbody>\n",
       "</table>\n",
       "</div>"
      ],
      "text/plain": [
       "                                          Unnamed: 0  \\\n",
       "0  .css-1s3a0kl{position:static;width:51px;min-wi...   \n",
       "1                                                NaN   \n",
       "2                                                NaN   \n",
       "3                                                NaN   \n",
       "4                                                NaN   \n",
       "\n",
       "  .css-1cxgkif{color:inherit;}.css-1cxgkif:hover{color:white;}Title.css-1thuphj{width:12px;margin-left:5px;}  \\\n",
       "0                                       Breaking Bad                                                           \n",
       "1                                          Inception                                                           \n",
       "2                                 Back to the Future                                                           \n",
       "3                                         The Matrix                                                           \n",
       "4                                    Stranger Things                                                           \n",
       "\n",
       "  Unnamed: 2  Year Rating  \\\n",
       "0         TV  2008    18+   \n",
       "1        NaN  2010    13+   \n",
       "2        NaN  1985     7+   \n",
       "3        NaN  1999    18+   \n",
       "4         TV  2016    16+   \n",
       "\n",
       "   .css-pp4al6{height:14px;margin-right:1px;margin-bottom:-2px;opacity:0.85;}.css-pp4al6:hover{opacity:1;}  \\\n",
       "0                                                9.5                                                         \n",
       "1                                                8.8                                                         \n",
       "2                                                8.5                                                         \n",
       "3                                                8.7                                                         \n",
       "4                                                8.8                                                         \n",
       "\n",
       "  .css-2goa6a{height:18px;margin-bottom:-2px;opacity:0.85;}.css-2goa6a:hover{opacity:1;}  \\\n",
       "0                                                96%                                       \n",
       "1                                                87%                                       \n",
       "2                                                96%                                       \n",
       "3                                                88%                                       \n",
       "4                                                93%                                       \n",
       "\n",
       "                                        Available On        Unnamed: 8  \\\n",
       "0  .css-1uvh71f{display:inline-block;margin:2px 0...  62 Free Episodes   \n",
       "1  .css-1sd2sh1{width:50px;height:25px;margin:0 2...               NaN   \n",
       "2                                      + Rent or Buy               NaN   \n",
       "3                                      + Rent or Buy               NaN   \n",
       "4                                                NaN  25 Free Episodes   \n",
       "\n",
       "                                          Unnamed: 9  \\\n",
       "0  .css-1bnyegh{display:-webkit-box;display:-webk...   \n",
       "1                                    Want To SeeSeen   \n",
       "2                                    Want To SeeSeen   \n",
       "3                                    Want To SeeSeen   \n",
       "4               TrackHave You Seen?AllSomeNoneCancel   \n",
       "\n",
       "                                                link  \n",
       "0        https://reelgood.com/show/breaking-bad-2008  \n",
       "1          https://reelgood.com/movie/inception-2010  \n",
       "2  https://reelgood.com/movie/back-to-the-future-...  \n",
       "3         https://reelgood.com/movie/the-matrix-1999  \n",
       "4     https://reelgood.com/show/stranger-things-2016  "
      ]
     },
     "execution_count": 51,
     "metadata": {},
     "output_type": "execute_result"
    }
   ],
   "source": [
    "df['link'] = links_list\n",
    "df.head()"
   ]
  },
  {
   "cell_type": "markdown",
   "metadata": {},
   "source": [
    "### Success!  Able to add the link to the dataframe.  \n",
    "\n",
    "### Next up, test scraping the genre data.\n",
    "starting with one title, breaking bad. "
   ]
  },
  {
   "cell_type": "code",
   "execution_count": 60,
   "metadata": {},
   "outputs": [
    {
     "data": {
      "text/plain": [
       "'https://reelgood.com/show/breaking-bad-2008'"
      ]
     },
     "execution_count": 60,
     "metadata": {},
     "output_type": "execute_result"
    }
   ],
   "source": [
    "#select the link in question\n",
    "details_link = df.iloc[0,10]\n",
    "details_link"
   ]
  },
  {
   "cell_type": "code",
   "execution_count": 63,
   "metadata": {},
   "outputs": [],
   "source": [
    "#get the soup out of the link\n",
    "details_soup = BeautifulSoup(requests.get(details_link).content, 'lxml')\n"
   ]
  },
  {
   "cell_type": "code",
   "execution_count": 73,
   "metadata": {},
   "outputs": [],
   "source": [
    "#select the section which includes the details for the title\n",
    "details_section = details_soup.find_all('div',attrs={'class': 'css-1ss0qk ey4ir3j0'})"
   ]
  },
  {
   "cell_type": "code",
   "execution_count": 70,
   "metadata": {
    "collapsed": true
   },
   "outputs": [
    {
     "data": {
      "text/plain": [
       "[<div class=\"css-1ss0qk ey4ir3j0\"><style data-emotion-css=\"ee2w7g\">.css-ee2w7g{font-size:16px;line-height:28px;color:rgba(255,255,255,0.8);-webkit-text-decoration:none;text-decoration:none;margin-right:22px;white-space:nowrap;display:inline-block;}.css-ee2w7g:last-child{margin-right:0;}.css-ee2w7g b{font-weight:bold;}@media screen and (max-width:420px){.css-ee2w7g{margin:0;padding:2px 5px;-webkit-box-flex:1;-webkit-flex-grow:1;-ms-flex-positive:1;flex-grow:1;white-space:normal;}}</style><span class=\"css-ee2w7g ey4ir3j1\"><style data-emotion-css=\"1n2mv2k\">.css-1n2mv2k{display:-webkit-box;display:-webkit-flex;display:-ms-flexbox;display:flex;-webkit-box-pack:center;-webkit-justify-content:center;-ms-flex-pack:center;justify-content:center;-webkit-align-items:center;-webkit-box-align:center;-ms-flex-align:center;align-items:center;}</style><div class=\"css-1n2mv2k ey4ir3j2\" title=\"IMDb Rating\"><style data-emotion-css=\"cl7hpe\">.css-cl7hpe{height:15px;width:32px;margin-right:3px;}</style><img alt=\"IMDB Logo\" class=\"css-cl7hpe\" height=\"15\" src=\"data:image/svg+xml;base64,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\" width=\"32\"/><style data-emotion-css=\"kasron\">.css-kasron{width:15px;height:14px;margin-right:4px;margin-bottom:1px;}</style><img alt=\"IMDB Star\" class=\"css-kasron\" height=\"14\" src=\"data:image/svg+xml;base64,PHN2ZyB4bWxucz0iaHR0cDovL3d3dy53My5vcmcvMjAwMC9zdmciIHdpZHRoPSIxNCIgaGVpZ2h0PSIxMyI+PGRlZnM+PGxpbmVhckdyYWRpZW50IGlkPSJhIiB4MT0iMjkuMTkyJSIgeDI9Ijc1LjQyNiUiIHkxPSIwJSIgeTI9IjEwMCUiPjxzdG9wIG9mZnNldD0iMCUiIHN0b3AtY29sb3I9IiNGOUVFQUMiLz48c3RvcCBvZmZzZXQ9IjEwMCUiIHN0b3AtY29sb3I9IiNEQkE1MDYiLz48L2xpbmVhckdyYWRpZW50PjwvZGVmcz48cGF0aCBmaWxsPSJ1cmwoI2EpIiBmaWxsLXJ1bGU9ImV2ZW5vZGQiIGQ9Ik01OTIgNDI5LjVsLTQuMTE0IDIuMTYzLjc4NS00LjU4MS0zLjMyOC0zLjI0NSA0LjYtLjY2OUw1OTIgNDE5bDIuMDU3IDQuMTY4IDQuNi42NjktMy4zMjggMy4yNDUuNzg1IDQuNTgxeiIgdHJhbnNmb3JtPSJ0cmFuc2xhdGUoLTU4NSAtNDE5KSIvPjwvc3ZnPg==\" width=\"15\"/><div><style data-emotion-css=\"xmin1q\">.css-xmin1q{font-family:'ProximaNova-Bold',Arial,sans-serif;font-size:15px;}</style><span class=\"css-xmin1q ey4ir3j3\">9.5</span><style data-emotion-css=\"gatc6j\">.css-gatc6j{font-size:11px;margin-left:1px;}</style><span class=\"css-gatc6j ey4ir3j4\">/10</span></div></div></span><span class=\"css-ee2w7g ey4ir3j1\"><style data-emotion-css=\"1b9a2ae\">.css-1b9a2ae{display:-webkit-box;display:-webkit-flex;display:-ms-flexbox;display:flex;-webkit-box-pack:center;-webkit-justify-content:center;-ms-flex-pack:center;justify-content:center;-webkit-align-items:center;-webkit-box-align:center;-ms-flex-align:center;align-items:center;}.css-1b9a2ae img{height:17px;width:17px;margin-right:4px;}</style><div class=\"css-1b9a2ae ey4ir3j5\" title=\"Rotten Tomatoes Critic Rating\"><img alt=\"Rotten Tomatoes Logo\" height=\"17\" src=\"data:image/svg+xml;base64,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\" width=\"28\"/><span class=\"css-xmin1q ey4ir3j6\">96%</span></div></span><span class=\"css-ee2w7g ey4ir3j1\"><style data-emotion-css=\"jmgx9u\">.css-jmgx9u{color:inherit;vertical-align:top;}.css-jmgx9u:hover{color:rgba(255,255,255,0.9);}.css-jmgx9u:not(:last-of-type)::after{content:',';}</style><a class=\"css-jmgx9u\" href=\"/tv/genre/crime\">Crime<meta content=\"Crime\" itemprop=\"genre\"/></a><i> </i><a class=\"css-jmgx9u\" href=\"/tv/genre/drama\">Drama<meta content=\"Drama\" itemprop=\"genre\"/></a><i> </i><style data-emotion-css=\"grk2p6 wwvwaj 1rm7u2e\">@media screen and (max-width:420px){.css-grk2p6{display:none;}}.css-wwvwaj{-webkit-user-select:none;-moz-user-select:none;-ms-user-select:none;user-select:none;-webkit-text-decoration:underline;text-decoration:underline;padding:0;font-size:16px;font-family:'ProximaNova-Medium',Arial,sans-serif;}.css-wwvwaj::before{content:', ';pointer-events:none;margin-left:-4px;margin-right:3px;}.css-wwvwaj:hover{color:white;background-color:transparent;}.css-1rm7u2e{background-color:transparent;}</style><style data-emotion-css=\"lvprdp\">.css-lvprdp{right:-55px;padding:0;font-size:14px;border-radius:6px;}.css-lvprdp a{color:inherit;padding:2px 10px;-webkit-transition:background-color 100ms;transition:background-color 100ms;}.css-lvprdp a:hover{background-color:rgba(255,255,255,0.1);color:#fff;}</style><style data-emotion-css=\"1wtby6y\">.css-1wtby6y{position:relative;display:inline-block;}@media screen and (max-width:420px){.css-1wtby6y{display:none;}}</style><div class=\"css-1wtby6y\" role=\"button\" tabindex=\"0\"><style data-emotion-css=\"1xolnjw\">.css-1xolnjw{font-family:'ProximaNova-Bold',Arial,sans-serif;position:relative;border-radius:4px;display:-webkit-box;display:-webkit-flex;display:-ms-flexbox;display:flex;-webkit-box-pack:center;-webkit-justify-content:center;-ms-flex-pack:center;justify-content:center;-webkit-align-items:center;-webkit-box-align:center;-ms-flex-align:center;align-items:center;cursor:pointer;-webkit-transition:color 100ms,background-color 100ms;transition:color 100ms,background-color 100ms;padding:8px 14px;font-size:20px;color:rgba(255,255,255,0.8);-webkit-text-decoration:none;text-decoration:none;-webkit-user-select:none;-moz-user-select:none;-ms-user-select:none;user-select:none;-webkit-text-decoration:underline;text-decoration:underline;padding:0;font-size:16px;font-family:'ProximaNova-Medium',Arial,sans-serif;}.css-1xolnjw:hover{background-color:rgba(255,255,255,0.16);color:white;}.css-1xolnjw::before{content:', ';pointer-events:none;margin-left:-4px;margin-right:3px;}.css-1xolnjw:hover{color:white;background-color:transparent;}</style><div aria-expanded=\"false\" class=\"css-1xolnjw\" role=\"button\" tabindex=\"0\">...</div><style data-emotion-css=\"19fr2c5\">.css-19fr2c5{opacity:0;position:absolute;margin-top:6px;-webkit-transition:opacity 120ms;transition:opacity 120ms;background-image:linear-gradient(263deg,#494746,#353c40);pointer-events:none;border-radius:4px;z-index:30;display:-webkit-box;display:-webkit-flex;display:-ms-flexbox;display:flex;box-sizing:border-box;overflow:hidden;-webkit-flex-direction:column;-ms-flex-direction:column;flex-direction:column;padding:18px 28px 18px 36px;-webkit-overflow-scrolling:touch;box-shadow:4px 22px 54px 0 rgba(0,0,0,0.35);right:-55px;padding:0;font-size:14px;border-radius:6px;}.css-19fr2c5::-webkit-scrollbar{width:7px;background-color:transparent;}.css-19fr2c5::-webkit-scrollbar-track{border-radius:10px;background-color:#393a3b;}.css-19fr2c5::-webkit-scrollbar-thumb{background:#606162;}.css-19fr2c5::-webkit-scrollbar-thumb:hover{background-color:#6d6e6f;}.css-19fr2c5 a{color:inherit;padding:2px 10px;-webkit-transition:background-color 100ms;transition:background-color 100ms;}.css-19fr2c5 a:hover{background-color:rgba(255,255,255,0.1);color:#fff;}</style><div aria-hidden=\"true\" class=\"css-19fr2c5\"><style data-emotion-css=\"1nfr5nd\">.css-1nfr5nd{text-align:center;padding:0 15px;}</style><div class=\"css-1nfr5nd ey4ir3j7\">More Genres</div><a href=\"/tv/genre/crime\">Crime</a><a href=\"/tv/genre/drama\">Drama</a><a href=\"/tv/genre/thriller\">Thriller</a></div></div></span><span class=\"css-ee2w7g ey4ir3j1\"><span title=\"Maturity rating\">Rated: 18+ (TV-MA)</span><meta content=\"18+ (TV-MA)\" itemprop=\"contentRating\"/></span><span class=\"css-ee2w7g ey4ir3j1\"><a class=\"css-jmgx9u\" href=\"/year/2008\">2008</a> - 2013<meta content=\"2008-01-20T00:00:00.000Z\" itemprop=\"dateCreated\"/></span><span class=\"css-ee2w7g ey4ir3j1\">5 Seasons<meta content=\"5\" itemprop=\"numberOfSeasons\"/><meta itemprop=\"numberOfEpisodes\"/></span><span class=\"css-ee2w7g ey4ir3j1\">Series Ended</span><span class=\"css-ee2w7g ey4ir3j1\">On: <a class=\"css-jmgx9u\" href=\"/source/netflix\">Netflix</a><i> </i></span><span class=\"css-ee2w7g ey4ir3j1\">Tags:<i> </i><a class=\"css-jmgx9u\" href=\"/list/high-school\">High School</a><i> </i><a class=\"css-jmgx9u\" href=\"/list/teacher\">Teacher</a><i> </i><a class=\"css-jmgx9u\" href=\"/list/doctor\">Doctor</a><i> </i><div class=\"css-1wtby6y\" role=\"button\" tabindex=\"0\"><div aria-expanded=\"false\" class=\"css-1xolnjw\" role=\"button\" tabindex=\"0\">...</div><div aria-hidden=\"true\" class=\"css-19fr2c5\"><div class=\"css-1nfr5nd ey4ir3j7\">More Tags</div><a href=\"/list/high-school\">High School</a><a href=\"/list/teacher\">Teacher</a><a href=\"/list/doctor\">Doctor</a><a href=\"/list/drug\">Drug</a><a href=\"/list/gangster\">Gangster</a></div></div></span><span class=\"css-ee2w7g ey4ir3j1\">Country:<i> </i><a class=\"css-jmgx9u\" href=\"/country/america\">America</a></span></div>]"
      ]
     },
     "execution_count": 70,
     "metadata": {},
     "output_type": "execute_result"
    }
   ],
   "source": [
    "#checking to ensure we got what was expected. \n",
    "details_section"
   ]
  },
  {
   "cell_type": "code",
   "execution_count": 77,
   "metadata": {},
   "outputs": [],
   "source": [
    "details_section_soup = BeautifulSoup(str(details_section),'lxml')"
   ]
  },
  {
   "cell_type": "code",
   "execution_count": 78,
   "metadata": {},
   "outputs": [],
   "source": [
    "#find the genres\n",
    "genre_section = details_section_soup.find_all('a',attrs={'href': re.compile('/(movies|tv)/genre/')})"
   ]
  },
  {
   "cell_type": "code",
   "execution_count": 79,
   "metadata": {},
   "outputs": [
    {
     "data": {
      "text/plain": [
       "[<a class=\"css-jmgx9u\" href=\"/tv/genre/crime\">Crime<meta content=\"Crime\" itemprop=\"genre\"/></a>,\n",
       " <a class=\"css-jmgx9u\" href=\"/tv/genre/drama\">Drama<meta content=\"Drama\" itemprop=\"genre\"/></a>,\n",
       " <a href=\"/tv/genre/crime\">Crime</a>,\n",
       " <a href=\"/tv/genre/drama\">Drama</a>,\n",
       " <a href=\"/tv/genre/thriller\">Thriller</a>]"
      ]
     },
     "execution_count": 79,
     "metadata": {},
     "output_type": "execute_result"
    }
   ],
   "source": [
    "genre_section"
   ]
  },
  {
   "cell_type": "code",
   "execution_count": 90,
   "metadata": {},
   "outputs": [],
   "source": [
    "#add the text into a list\n",
    "genres = []\n",
    "for i in range (2,len(genre_section)):\n",
    "    genres.append(genre_section[i].text)"
   ]
  },
  {
   "cell_type": "code",
   "execution_count": 91,
   "metadata": {},
   "outputs": [
    {
     "data": {
      "text/plain": [
       "['Crime', 'Drama', 'Thriller']"
      ]
     },
     "execution_count": 91,
     "metadata": {},
     "output_type": "execute_result"
    }
   ],
   "source": [
    "genres"
   ]
  },
  {
   "cell_type": "markdown",
   "metadata": {},
   "source": [
    "### Success!! Let's get the country while we're at it"
   ]
  },
  {
   "cell_type": "code",
   "execution_count": 102,
   "metadata": {},
   "outputs": [],
   "source": [
    "country_section = details_section_soup.find_all('a', attrs={'href':re.compile('^/country/')})"
   ]
  },
  {
   "cell_type": "code",
   "execution_count": 103,
   "metadata": {},
   "outputs": [
    {
     "data": {
      "text/plain": [
       "[<a class=\"css-jmgx9u\" href=\"/country/america\">America</a>]"
      ]
     },
     "execution_count": 103,
     "metadata": {},
     "output_type": "execute_result"
    }
   ],
   "source": [
    "country_section"
   ]
  },
  {
   "cell_type": "code",
   "execution_count": 104,
   "metadata": {},
   "outputs": [
    {
     "data": {
      "text/plain": [
       "'America'"
      ]
     },
     "execution_count": 104,
     "metadata": {},
     "output_type": "execute_result"
    }
   ],
   "source": [
    "country = country_section[0].text\n",
    "country"
   ]
  },
  {
   "cell_type": "code",
   "execution_count": 2,
   "metadata": {},
   "outputs": [
    {
     "data": {
      "text/plain": [
       "['Crime', 'Drama', 'Thriller']"
      ]
     },
     "execution_count": 2,
     "metadata": {},
     "output_type": "execute_result"
    }
   ],
   "source": [
    "genres = ['Crime', 'Drama', 'Thriller']\n",
    "genres"
   ]
  },
  {
   "cell_type": "code",
   "execution_count": 4,
   "metadata": {},
   "outputs": [
    {
     "data": {
      "text/plain": [
       "'Crime, Drama, Thriller'"
      ]
     },
     "execution_count": 4,
     "metadata": {},
     "output_type": "execute_result"
    }
   ],
   "source": [
    "genres_str = ', '.join(map(str,genres))\n",
    "genres_str"
   ]
  },
  {
   "cell_type": "markdown",
   "metadata": {},
   "source": [
    "### Let's make a function out of these"
   ]
  },
  {
   "cell_type": "code",
   "execution_count": 5,
   "metadata": {},
   "outputs": [],
   "source": [
    "def get_genres(link):\n",
    "    #get the soup out of the link\n",
    "    details_soup = BeautifulSoup(requests.get(link).content, 'lxml')\n",
    "    #select the section which includes the details for the title\n",
    "    details_section = details_soup.find_all('div',attrs={'class': 'css-1ss0qk ey4ir3j0'})\n",
    "    #turn the details section into soup\n",
    "    details_section_soup = BeautifulSoup(str(details_section),'lxml')\n",
    "    #find the genres\n",
    "    genre_section = details_section_soup.find_all('a',attrs={'href': re.compile('/(movies|tv)/genre/')})\n",
    "    #add the text into a list\n",
    "    genres = []\n",
    "    for i in range (2,len(genre_section)): #first two links are duplicated in \"more genres\", so skipping them in the range\n",
    "        genres.append(genre_section[i].text)\n",
    "    #turn list of genres into one string\n",
    "    genres_str = ', '.join(map(str,genres))\n",
    "    return genres_str"
   ]
  },
  {
   "cell_type": "code",
   "execution_count": 8,
   "metadata": {},
   "outputs": [
    {
     "data": {
      "text/plain": [
       "'Action & Adventure, Crime, Drama, Mystery, Thriller'"
      ]
     },
     "execution_count": 8,
     "metadata": {},
     "output_type": "execute_result"
    }
   ],
   "source": [
    "#test out function with one\n",
    "\n",
    "get_genres('https://reelgood.com/show/sherlock-2010')"
   ]
  },
  {
   "cell_type": "code",
   "execution_count": 9,
   "metadata": {},
   "outputs": [],
   "source": [
    "#trying to incorporate into one function, to minimize the requests to reelgood.\n",
    "\n",
    "def get_genres_and_country(link):\n",
    "    #get the soup out of the link\n",
    "    details_soup = BeautifulSoup(requests.get(link).content, 'lxml')\n",
    "    #select the section which includes the details for the title\n",
    "    details_section = details_soup.find_all('div',attrs={'class': 'css-1ss0qk ey4ir3j0'})\n",
    "    #turn the details section into soup\n",
    "    details_section_soup = BeautifulSoup(str(details_section),'lxml')\n",
    "    #find the genres\n",
    "    genre_section = details_section_soup.find_all('a',attrs={'href': re.compile('/(movies|tv)/genre/')})\n",
    "    #add the text into a list\n",
    "    genres = []\n",
    "    for i in range (2,len(genre_section)): #first two links are duplicated in \"more genres\", so skipping them in the range\n",
    "        genres.append(genre_section[i].text)\n",
    "    #turn list of genres into one string\n",
    "    genres_str = ', '.join(map(str,genres))\n",
    "    #starting here, code to get the country\n",
    "    country_section = details_section_soup.find_all('a', attrs={'href':re.compile('^/country/')})\n",
    "    country = country_section[0].text\n",
    "    return {'genres' : genres_str, 'country': country}"
   ]
  },
  {
   "cell_type": "code",
   "execution_count": 11,
   "metadata": {},
   "outputs": [],
   "source": [
    "sherlock_details = get_genres_and_country('https://reelgood.com/show/sherlock-2010')"
   ]
  },
  {
   "cell_type": "code",
   "execution_count": 12,
   "metadata": {},
   "outputs": [
    {
     "data": {
      "text/plain": [
       "{'genres': 'Action & Adventure, Crime, Drama, Mystery, Thriller',\n",
       " 'country': 'United Kingdom'}"
      ]
     },
     "execution_count": 12,
     "metadata": {},
     "output_type": "execute_result"
    }
   ],
   "source": [
    "sherlock_details"
   ]
  },
  {
   "cell_type": "code",
   "execution_count": 13,
   "metadata": {},
   "outputs": [
    {
     "data": {
      "text/plain": [
       "'Action & Adventure, Crime, Drama, Mystery, Thriller'"
      ]
     },
     "execution_count": 13,
     "metadata": {},
     "output_type": "execute_result"
    }
   ],
   "source": [
    "sherlock_details['genres']"
   ]
  },
  {
   "cell_type": "code",
   "execution_count": 14,
   "metadata": {},
   "outputs": [
    {
     "data": {
      "text/plain": [
       "'United Kingdom'"
      ]
     },
     "execution_count": 14,
     "metadata": {},
     "output_type": "execute_result"
    }
   ],
   "source": [
    "sherlock_details['country']"
   ]
  },
  {
   "cell_type": "markdown",
   "metadata": {},
   "source": [
    "### Test function on a small dataframe"
   ]
  },
  {
   "cell_type": "code",
   "execution_count": 60,
   "metadata": {},
   "outputs": [
    {
     "data": {
      "text/html": [
       "<div>\n",
       "<style scoped>\n",
       "    .dataframe tbody tr th:only-of-type {\n",
       "        vertical-align: middle;\n",
       "    }\n",
       "\n",
       "    .dataframe tbody tr th {\n",
       "        vertical-align: top;\n",
       "    }\n",
       "\n",
       "    .dataframe thead th {\n",
       "        text-align: right;\n",
       "    }\n",
       "</style>\n",
       "<table border=\"1\" class=\"dataframe\">\n",
       "  <thead>\n",
       "    <tr style=\"text-align: right;\">\n",
       "      <th></th>\n",
       "      <th>title</th>\n",
       "      <th>link</th>\n",
       "    </tr>\n",
       "  </thead>\n",
       "  <tbody>\n",
       "    <tr>\n",
       "      <th>0</th>\n",
       "      <td>Breaking Bad</td>\n",
       "      <td>https://reelgood.com/show/breaking-bad-2008</td>\n",
       "    </tr>\n",
       "    <tr>\n",
       "      <th>1</th>\n",
       "      <td>Inception</td>\n",
       "      <td>https://reelgood.com/movie/inception-2010</td>\n",
       "    </tr>\n",
       "    <tr>\n",
       "      <th>2</th>\n",
       "      <td>Back to the Future</td>\n",
       "      <td>https://reelgood.com/movie/back-to-the-future-...</td>\n",
       "    </tr>\n",
       "  </tbody>\n",
       "</table>\n",
       "</div>"
      ],
      "text/plain": [
       "                title                                               link\n",
       "0        Breaking Bad        https://reelgood.com/show/breaking-bad-2008\n",
       "1           Inception          https://reelgood.com/movie/inception-2010\n",
       "2  Back to the Future  https://reelgood.com/movie/back-to-the-future-..."
      ]
     },
     "execution_count": 60,
     "metadata": {},
     "output_type": "execute_result"
    }
   ],
   "source": [
    "data_test = {'title': \n",
    "             ['Breaking Bad', 'Inception', 'Back to the Future'],\n",
    "             'link':\n",
    "             ['https://reelgood.com/show/breaking-bad-2008',\n",
    "             'https://reelgood.com/movie/inception-2010',\n",
    "             'https://reelgood.com/movie/back-to-the-future-1985']}\n",
    "\n",
    "df_test = pd.DataFrame(data_test)\n",
    "df_test"
   ]
  },
  {
   "cell_type": "code",
   "execution_count": 61,
   "metadata": {},
   "outputs": [
    {
     "data": {
      "text/html": [
       "<div>\n",
       "<style scoped>\n",
       "    .dataframe tbody tr th:only-of-type {\n",
       "        vertical-align: middle;\n",
       "    }\n",
       "\n",
       "    .dataframe tbody tr th {\n",
       "        vertical-align: top;\n",
       "    }\n",
       "\n",
       "    .dataframe thead th {\n",
       "        text-align: right;\n",
       "    }\n",
       "</style>\n",
       "<table border=\"1\" class=\"dataframe\">\n",
       "  <thead>\n",
       "    <tr style=\"text-align: right;\">\n",
       "      <th></th>\n",
       "      <th>title</th>\n",
       "      <th>link</th>\n",
       "      <th>genres</th>\n",
       "      <th>country</th>\n",
       "    </tr>\n",
       "  </thead>\n",
       "  <tbody>\n",
       "    <tr>\n",
       "      <th>0</th>\n",
       "      <td>Breaking Bad</td>\n",
       "      <td>https://reelgood.com/show/breaking-bad-2008</td>\n",
       "      <td></td>\n",
       "      <td></td>\n",
       "    </tr>\n",
       "    <tr>\n",
       "      <th>1</th>\n",
       "      <td>Inception</td>\n",
       "      <td>https://reelgood.com/movie/inception-2010</td>\n",
       "      <td></td>\n",
       "      <td></td>\n",
       "    </tr>\n",
       "    <tr>\n",
       "      <th>2</th>\n",
       "      <td>Back to the Future</td>\n",
       "      <td>https://reelgood.com/movie/back-to-the-future-...</td>\n",
       "      <td></td>\n",
       "      <td></td>\n",
       "    </tr>\n",
       "  </tbody>\n",
       "</table>\n",
       "</div>"
      ],
      "text/plain": [
       "                title                                               link  \\\n",
       "0        Breaking Bad        https://reelgood.com/show/breaking-bad-2008   \n",
       "1           Inception          https://reelgood.com/movie/inception-2010   \n",
       "2  Back to the Future  https://reelgood.com/movie/back-to-the-future-...   \n",
       "\n",
       "  genres country  \n",
       "0                 \n",
       "1                 \n",
       "2                 "
      ]
     },
     "execution_count": 61,
     "metadata": {},
     "output_type": "execute_result"
    }
   ],
   "source": [
    "df_test['genres'] = ''\n",
    "df_test['country'] = ''\n",
    "df_test"
   ]
  },
  {
   "cell_type": "code",
   "execution_count": 62,
   "metadata": {},
   "outputs": [],
   "source": [
    "  for row in df_test.itertuples():\n",
    "    details = get_genres_and_country(row.link)\n",
    "    df_test.at[row.Index,'genres'] = details['genres']\n",
    "    df_test.at[row.Index,'country'] = details['country']"
   ]
  },
  {
   "cell_type": "code",
   "execution_count": 63,
   "metadata": {},
   "outputs": [
    {
     "data": {
      "text/html": [
       "<div>\n",
       "<style scoped>\n",
       "    .dataframe tbody tr th:only-of-type {\n",
       "        vertical-align: middle;\n",
       "    }\n",
       "\n",
       "    .dataframe tbody tr th {\n",
       "        vertical-align: top;\n",
       "    }\n",
       "\n",
       "    .dataframe thead th {\n",
       "        text-align: right;\n",
       "    }\n",
       "</style>\n",
       "<table border=\"1\" class=\"dataframe\">\n",
       "  <thead>\n",
       "    <tr style=\"text-align: right;\">\n",
       "      <th></th>\n",
       "      <th>title</th>\n",
       "      <th>link</th>\n",
       "      <th>genres</th>\n",
       "      <th>country</th>\n",
       "    </tr>\n",
       "  </thead>\n",
       "  <tbody>\n",
       "    <tr>\n",
       "      <th>0</th>\n",
       "      <td>Breaking Bad</td>\n",
       "      <td>https://reelgood.com/show/breaking-bad-2008</td>\n",
       "      <td>Crime, Drama, Thriller</td>\n",
       "      <td>America</td>\n",
       "    </tr>\n",
       "    <tr>\n",
       "      <th>1</th>\n",
       "      <td>Inception</td>\n",
       "      <td>https://reelgood.com/movie/inception-2010</td>\n",
       "      <td>Action &amp; Adventure, Mystery, Science-Fiction, ...</td>\n",
       "      <td>United Kingdom</td>\n",
       "    </tr>\n",
       "    <tr>\n",
       "      <th>2</th>\n",
       "      <td>Back to the Future</td>\n",
       "      <td>https://reelgood.com/movie/back-to-the-future-...</td>\n",
       "      <td>Comedy, Fantasy, Science-Fiction, Action &amp; Adv...</td>\n",
       "      <td>America</td>\n",
       "    </tr>\n",
       "  </tbody>\n",
       "</table>\n",
       "</div>"
      ],
      "text/plain": [
       "                title                                               link  \\\n",
       "0        Breaking Bad        https://reelgood.com/show/breaking-bad-2008   \n",
       "1           Inception          https://reelgood.com/movie/inception-2010   \n",
       "2  Back to the Future  https://reelgood.com/movie/back-to-the-future-...   \n",
       "\n",
       "                                              genres         country  \n",
       "0                             Crime, Drama, Thriller         America  \n",
       "1  Action & Adventure, Mystery, Science-Fiction, ...  United Kingdom  \n",
       "2  Comedy, Fantasy, Science-Fiction, Action & Adv...         America  "
      ]
     },
     "execution_count": 63,
     "metadata": {},
     "output_type": "execute_result"
    }
   ],
   "source": [
    "df_test"
   ]
  },
  {
   "cell_type": "markdown",
   "metadata": {},
   "source": [
    "#### Cells below were for testing how to use itertuples()"
   ]
  },
  {
   "cell_type": "code",
   "execution_count": 27,
   "metadata": {},
   "outputs": [
    {
     "data": {
      "text/plain": [
       "{'genres': 'Crime, Drama, Thriller', 'country': 'America'}"
      ]
     },
     "execution_count": 27,
     "metadata": {},
     "output_type": "execute_result"
    }
   ],
   "source": [
    "get_genres_and_country('https://reelgood.com/show/breaking-bad-2008')"
   ]
  },
  {
   "cell_type": "code",
   "execution_count": 44,
   "metadata": {},
   "outputs": [
    {
     "name": "stdout",
     "output_type": "stream",
     "text": [
      "Pandas(Index=0, title='Breaking Bad', link='https://reelgood.com/show/breaking-bad-2008', genres='', country='')\n",
      "Pandas(Index=1, title='Inception', link='https://reelgood.com/movie/inception-2010', genres='', country='')\n",
      "Pandas(Index=2, title='Back to the Future', link='https://reelgood.com/movie/back-to-the-future-1985', genres='', country='')\n"
     ]
    }
   ],
   "source": [
    "for row in df_test.itertuples():\n",
    "    print(row)"
   ]
  },
  {
   "cell_type": "code",
   "execution_count": 58,
   "metadata": {},
   "outputs": [],
   "source": [
    "for row in df_test.itertuples():\n",
    "    df_test.at[row.Index,'genres'] = row.Index"
   ]
  },
  {
   "cell_type": "code",
   "execution_count": 59,
   "metadata": {},
   "outputs": [
    {
     "data": {
      "text/html": [
       "<div>\n",
       "<style scoped>\n",
       "    .dataframe tbody tr th:only-of-type {\n",
       "        vertical-align: middle;\n",
       "    }\n",
       "\n",
       "    .dataframe tbody tr th {\n",
       "        vertical-align: top;\n",
       "    }\n",
       "\n",
       "    .dataframe thead th {\n",
       "        text-align: right;\n",
       "    }\n",
       "</style>\n",
       "<table border=\"1\" class=\"dataframe\">\n",
       "  <thead>\n",
       "    <tr style=\"text-align: right;\">\n",
       "      <th></th>\n",
       "      <th>title</th>\n",
       "      <th>link</th>\n",
       "      <th>genres</th>\n",
       "      <th>country</th>\n",
       "    </tr>\n",
       "  </thead>\n",
       "  <tbody>\n",
       "    <tr>\n",
       "      <th>0</th>\n",
       "      <td>Breaking Bad</td>\n",
       "      <td>https://reelgood.com/show/breaking-bad-2008</td>\n",
       "      <td>0</td>\n",
       "      <td></td>\n",
       "    </tr>\n",
       "    <tr>\n",
       "      <th>1</th>\n",
       "      <td>Inception</td>\n",
       "      <td>https://reelgood.com/movie/inception-2010</td>\n",
       "      <td>1</td>\n",
       "      <td></td>\n",
       "    </tr>\n",
       "    <tr>\n",
       "      <th>2</th>\n",
       "      <td>Back to the Future</td>\n",
       "      <td>https://reelgood.com/movie/back-to-the-future-...</td>\n",
       "      <td>2</td>\n",
       "      <td></td>\n",
       "    </tr>\n",
       "  </tbody>\n",
       "</table>\n",
       "</div>"
      ],
      "text/plain": [
       "                title                                               link  \\\n",
       "0        Breaking Bad        https://reelgood.com/show/breaking-bad-2008   \n",
       "1           Inception          https://reelgood.com/movie/inception-2010   \n",
       "2  Back to the Future  https://reelgood.com/movie/back-to-the-future-...   \n",
       "\n",
       "  genres country  \n",
       "0      0          \n",
       "1      1          \n",
       "2      2          "
      ]
     },
     "execution_count": 59,
     "metadata": {},
     "output_type": "execute_result"
    }
   ],
   "source": [
    "df_test"
   ]
  }
 ],
 "metadata": {
  "kernelspec": {
   "display_name": "Python 3",
   "language": "python",
   "name": "python3"
  },
  "language_info": {
   "codemirror_mode": {
    "name": "ipython",
    "version": 3
   },
   "file_extension": ".py",
   "mimetype": "text/x-python",
   "name": "python",
   "nbconvert_exporter": "python",
   "pygments_lexer": "ipython3",
   "version": "3.7.6"
  }
 },
 "nbformat": 4,
 "nbformat_minor": 4
}
